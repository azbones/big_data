{
 "cells": [
  {
   "cell_type": "markdown",
   "metadata": {},
   "source": [
    "# Week 4 (Saturday)- More Visualization and Detective Work\n",
    "\n",
    "**Objectives**: Today we are going to review visualization approaches and solve a mystery using data science. Specifically, we will cover the following:\n",
    "  \n",
    "* Different visualization tools\n",
    "* Review Python's Matplotlib in more detail\n",
    "* Conduct an analysis as part of the Data Science Detective Agency\n",
    "* Present your analysis to the class"
   ]
  },
  {
   "cell_type": "markdown",
   "metadata": {},
   "source": [
    "## Data Visualization Tools\n",
    "\n",
    "Visualization is an indispensable tool in data science. While most patterns and results can be described mathematically, visuals are often best for developing an intuitive understanding of the meaning behind the data. When presenting data science results, visuals are often the only tool that can be used with a general audience that lacks an analytical background.\n",
    "\n",
    "Most data scientists use a variety of visualization approaches and tools. Depending on the task at hand, some are better tools than others. The following represent a sample of some of the more common tools.\n",
    "\n",
    "**Commercial Visualization Products**\n",
    "\n",
    "These products are a category of easier to use tools that require little programming experience, but offer robust visualization.\n",
    "\n",
    "* **[Tableau](http://www.tableau.com/products/desktop):** Tableau is a popular choice for data exploration and analysis.\n",
    "* **[SpotFire](http://spotfire.tibco.com/products/spotfire-desktop):** Spotfire is similar to Tableau.\n",
    "\n",
    "**Commercial Analytics Products**\n",
    "\n",
    "Most statistics and technical computing products also have robust visualization.\n",
    "\n",
    "* **[SPSS](http://www-01.ibm.com/software/analytics/spss/):** SPSS is a popular statistics and modeling software.\n",
    "* **[SAS](http://www.sas.com/en_us/software/sas9.html):** SAS is another popular analytics package that is newly positioned as a tool for data scientists.\n",
    "* **[Matlab](http://www.mathworks.com/products/matlab/):** Matlab is a popular tool in engineering and the sciences.\n",
    "* **[Mathematica](https://www.wolfram.com/mathematica/):** Mathematica is another technical computing solution used in engineering and the sciences.\n",
    "\n",
    "**Web Technologies**\n",
    "\n",
    "* **[D3](http://d3js.org/):** D3 is a Javascript library which enables web based visualizations using HTML elements like SVG and CSS. \n",
    "\n",
    "**Programmatic Visualization APIs**\n",
    "\n",
    "* **[Plotly](https://plot.ly/):** Plotly is a web-based visualization solution that recently open sourced its core plotly.js library. Unlike D3, Plotly also has Python and R APIs which don't require any programming in javascript. Plotly focuses on interactive plots unlike Matplotlib, ggplot(R plotting), and Matlab which tend to be more static.\n",
    "\n",
    "**Programming Libraries**\n",
    "\n",
    "* **[Matplotlib](http://matplotlib.org/):** Modeled after Matlab, Matplotlib is the standard for Python scientific visualizations.\n",
    "* **[ggplot2](http://docs.ggplot2.org/current/):** ggplot2 is the standard plotting library for R. \n",
    "\n",
    "\n",
    "\n",
    "\n",
    "\n"
   ]
  },
  {
   "cell_type": "markdown",
   "metadata": {},
   "source": [
    "## Matplotlib\n",
    "\n",
    "In today's lab, we are going to review the basics of Matplotlib. There are a variety of open tutorials including:\n",
    "\n",
    "* http://www.labri.fr/perso/nrougier/teaching/matplotlib/\n",
    "* http://jakevdp.github.io/mpl_tutorial/tutorial_pages/tut1.html\n",
    "\n",
    "Matplotlib is quite flexible and is capable of most scientific visualizations as can be seen in its gallery.\n",
    "\n",
    "* http://matplotlib.org/gallery.html\n",
    "\n",
    "**Plotting Environment**\n",
    "\n",
    "When using Jupyter/IPython, there are several parameters that establish where and how your plots will display before you even begin to plot data.\n",
    "\n",
    "Matplotlib has two general modes within Jupyter/IPython notebooks and consoles:\n",
    "\n",
    "* Inline plots: display the plots under the code you are running within the notebook or console\n",
    "* Interactive windows: display the plots in the separate Matplotlib backend window\n",
    "\n",
    "These modes are called by using the Matplotlib magic without a parameter for interactive windows\n",
    "\n",
    "<code>%matplotlib</code> (interactive) \n",
    "\n",
    "or specifying inline plots via \n",
    "\n",
    "<code>%matplotlib inline</code>\n",
    "\n",
    "It is possible to switch back and forth between modes in notebooks and consoles, but occasionally it may be necessary to restart the kernel, so it is best to stick with one or the other. I prefer interactive mode when creating plots for anything outside a notebook as it is easy to resize and save the image for import into presentations and the like.\n",
    "\n",
    "There are a whole range of default settings for Matplotlib that are contained within the <code>matplotlibrc</code> file. When you import Matplotlib, you can access these setting via a dictionary attribute in <code>matplotlib.rcParams</code>.\n",
    "\n",
    "For this notebook, we will be plotting inline, so we set that up in the next codeblock along with a default figure size in inches."
   ]
  },
  {
   "cell_type": "code",
   "execution_count": null,
   "metadata": {
    "collapsed": false
   },
   "outputs": [],
   "source": [
    "import matplotlib as mpl\n",
    "%matplotlib inline\n",
    "mpl.rcParams['figure.figsize'] = (10.0, 10.0)"
   ]
  },
  {
   "cell_type": "markdown",
   "metadata": {},
   "source": [
    "Try accessing the <code>rcParams</code> attribue to see the default settings in the next codeblock."
   ]
  },
  {
   "cell_type": "code",
   "execution_count": null,
   "metadata": {
    "collapsed": false
   },
   "outputs": [],
   "source": [
    "# Print rcParams\n"
   ]
  },
  {
   "cell_type": "markdown",
   "metadata": {},
   "source": [
    "**Basic Plots**\n",
    "\n",
    "Next, let's import <code>pyplot</code> which is the state machine interface to the Matplotlib library. The state machine allows us to iteratively create a plot by successive function calls that define different elements of the plot.\n",
    "\n",
    "We will also import <code>pandas</code> and read in the iris dataset."
   ]
  },
  {
   "cell_type": "code",
   "execution_count": null,
   "metadata": {
    "collapsed": false
   },
   "outputs": [],
   "source": [
    "from matplotlib import pyplot as plt\n",
    "import pandas as pd\n",
    "\n",
    "df = pd.DataFrame.from_csv('datasets/iris_data.csv', index_col=4)"
   ]
  },
  {
   "cell_type": "markdown",
   "metadata": {},
   "source": [
    "<code>pandas</code> has several built in plotting functions that allow you to call plots on the dataframe versus using the dataframe as a parameter of <code>pyplot</code>.  The following codeblocks will demonstrate both approaches."
   ]
  },
  {
   "cell_type": "code",
   "execution_count": null,
   "metadata": {
    "collapsed": false
   },
   "outputs": [],
   "source": [
    "# Plot using pandas dataframe function\n",
    "\n",
    "df.plot()"
   ]
  },
  {
   "cell_type": "code",
   "execution_count": null,
   "metadata": {
    "collapsed": false
   },
   "outputs": [],
   "source": [
    "# Plot using pyplot\n",
    "\n",
    "plt.plot(df)"
   ]
  },
  {
   "cell_type": "markdown",
   "metadata": {},
   "source": [
    "While the plots use the same data, the <code>pandas</code> function conveniently adds additional element to the plot based on the dataframe structure including the column names and index. Both methods use matplotlib on the backend. Links to both sets of documentation are below:\n",
    "\n",
    "* **pandas plotting:** http://pandas.pydata.org/pandas-docs/stable/visualization.html\n",
    "* **Pyplot plotting:** http://matplotlib.org/users/pyplot_tutorial.html\n",
    "\n",
    "Next, we will go through several different examples. Keep in mind that given the <code>pandas</code> approach uses Matplotlib, the two approaches can work together."
   ]
  },
  {
   "cell_type": "code",
   "execution_count": null,
   "metadata": {
    "collapsed": false
   },
   "outputs": [],
   "source": [
    "# Creates a figure and plots a scatter plot on x and y inputs\n",
    "\n",
    "df.plot(kind='scatter', x='sepal_length', y='sepal_width', color='DarkBlue')\n",
    "# Provides title for plot\n",
    "plt.title('Sepal Length vs. Sepal Width') "
   ]
  },
  {
   "cell_type": "markdown",
   "metadata": {},
   "source": [
    "This last example plotted all the data points regardless of the index group.  To plot each group with a different color, you need to first set up an <code>ax</code> object which is the container for all the plot details. This method uses a dataframe slice to send only the relevant data to each subplot which occupies the same space. Each of these calls defines the label and color and for each subsequent call defines the object <code>ax</code> as the object for the subplots. <code>ax</code> is a \"container\" for the subsequent plots\n",
    "\n",
    "To make this clearer, we are going to switch to interactive mode. Restart the kernel, read the data back into a dataframe, and run each of the following code blocks and observe the plot output.\n",
    "\n",
    "In the following blocks, **DO NOT CLOSE** the interactive window."
   ]
  },
  {
   "cell_type": "code",
   "execution_count": null,
   "metadata": {
    "collapsed": false
   },
   "outputs": [],
   "source": [
    "# Swtich to interactive plotting\n",
    "%matplotlib"
   ]
  },
  {
   "cell_type": "code",
   "execution_count": null,
   "metadata": {
    "collapsed": false
   },
   "outputs": [],
   "source": [
    "# Set up figure object and plot first data group\n",
    "ax = df.ix['Iris-setosa'].plot(kind='scatter', x='sepal_length', y='sepal_width', color='DarkBlue', label='Iris-setosa')"
   ]
  },
  {
   "cell_type": "code",
   "execution_count": null,
   "metadata": {
    "collapsed": false
   },
   "outputs": [],
   "source": [
    "# Add second group subplot to ax object and plot\n",
    "df.ix['Iris-virginica'].plot(kind='scatter', x='sepal_length', y='sepal_width', color='Cyan', label='Iris-virginica', ax=ax)"
   ]
  },
  {
   "cell_type": "code",
   "execution_count": null,
   "metadata": {
    "collapsed": false
   },
   "outputs": [],
   "source": [
    "# Add third group subplot to ax object and plot\n",
    "df.ix['Iris-versicolor'].plot(kind='scatter', x='sepal_length', y='sepal_width', color='White', label='Iris-versicolor', ax=ax)"
   ]
  },
  {
   "cell_type": "code",
   "execution_count": null,
   "metadata": {
    "collapsed": false
   },
   "outputs": [],
   "source": [
    "# Provides title for plot\n",
    "plt.title('Sepal Length vs. Sepal Width')"
   ]
  },
  {
   "cell_type": "markdown",
   "metadata": {},
   "source": [
    "**Plotting Distributions**\n",
    "\n",
    "Next, let's use the <code>plt</code> style plotting to construct a histogram of our data. Histograms are a useful way to view the dispersion of a distribution of data points."
   ]
  },
  {
   "cell_type": "code",
   "execution_count": null,
   "metadata": {
    "collapsed": false
   },
   "outputs": [],
   "source": [
    "plt.figure('hist #1')\n",
    "plt.title('Petal Length with 50 Bins')\n",
    "plt.hist(df['petal_length'], bins=50)"
   ]
  },
  {
   "cell_type": "markdown",
   "metadata": {},
   "source": [
    "Change the code in the codeblock above to create a plot of petal width and rerun. Note that the value for <code>bins</code> can be an important component of how the histogram appears and has been criticized as a method given larger bins might obscure the underlying distribution.\n",
    "\n",
    "Kernel Density Estimation is an alternative approach to visualizing distributions.\n",
    "\n",
    "* https://en.wikipedia.org/wiki/Kernel_density_estimation\n",
    "\n",
    "<code>pandas</code> has a built in method for this as well, but the scikit-learn package is much more robust. The following link details this package and some of the problems of histograms.\n",
    "\n",
    "* http://scikit-learn.org/stable/modules/density.html"
   ]
  },
  {
   "cell_type": "code",
   "execution_count": null,
   "metadata": {
    "collapsed": false
   },
   "outputs": [],
   "source": [
    "plt.figure('KDE')\n",
    "df['petal_length'].plot(kind='kde')"
   ]
  },
  {
   "cell_type": "markdown",
   "metadata": {},
   "source": [
    "As you might guess, the <code>kind</code> parameter in the <code>pandas</code> style plotting allow you to define many other options including line, bar, and pie."
   ]
  },
  {
   "cell_type": "markdown",
   "metadata": {},
   "source": [
    "For multidimensional data like the iris dataset, a scatter matrix is an excellent way to visualize the correlation between variables. <code>pandas</code> has a built in function which is easy to apply to our dataset.\n",
    "\n",
    "Run the code in the next codeblock."
   ]
  },
  {
   "cell_type": "code",
   "execution_count": null,
   "metadata": {
    "collapsed": false
   },
   "outputs": [],
   "source": [
    "from pandas.tools.plotting import scatter_matrix\n",
    "\n",
    "scatter_matrix(df)"
   ]
  },
  {
   "cell_type": "markdown",
   "metadata": {},
   "source": [
    "Boxplots, as we saw previously, are also an excellent way to plot distributions. Details of what makes up a boxplot are here:\n",
    "\n",
    "* http://www.physics.csbsju.edu/stats/box2.html"
   ]
  },
  {
   "cell_type": "code",
   "execution_count": null,
   "metadata": {
    "collapsed": false
   },
   "outputs": [],
   "source": [
    "df.plot(kind='box')"
   ]
  },
  {
   "cell_type": "markdown",
   "metadata": {},
   "source": [
    "**Seaborn for Style and Complex Plots**\n",
    "\n",
    "The Python seaborn library is yet another option for plotting which offers a high level interface into Matplotlib for plotting.\n",
    "\n",
    "* http://stanford.edu/~mwaskom/software/seaborn/\n",
    "\n",
    "Seaborn can change the style of any matplotlib plot to follow its themes:\n",
    "\n",
    "* http://stanford.edu/~mwaskom/software/seaborn/tutorial/aesthetics.html#aesthetics-tutorial\n",
    "\n",
    "It also has several useful plot types that have a clean high level interface. For example, we can use a dataframe of mean values to create an annotated heat map of average values for our dataset. Try that in the next codeblock."
   ]
  },
  {
   "cell_type": "code",
   "execution_count": null,
   "metadata": {
    "collapsed": false
   },
   "outputs": [],
   "source": [
    "import seaborn as sns\n",
    "sns.set(style=\"white\")\n",
    "plt.figure('Heatmap')\n",
    "groups = df.groupby(df.index)\n",
    "sns.heatmap(groups.mean(), annot=True, linewidths=.5)\n",
    "plt.title('Heatmap by Average Values')"
   ]
  },
  {
   "cell_type": "markdown",
   "metadata": {},
   "source": [
    "Seaborn can also create one or two dimensional kernel density plots:\n",
    "\n",
    "* http://stanford.edu/~mwaskom/software/seaborn/examples/distplot_options.html\n",
    "* http://stanford.edu/~mwaskom/software/seaborn/examples/joint_kde.html"
   ]
  },
  {
   "cell_type": "code",
   "execution_count": null,
   "metadata": {
    "collapsed": false
   },
   "outputs": [],
   "source": [
    "plt.figure('Petal Length with KDE and Histogram')\n",
    "plt.title('Distribution of Petal Length Histogram and KDE')\n",
    "sns.distplot(df['petal_length'], kde=True, color=\"b\", bins=50)\n",
    "sns.jointplot(df['sepal_length'],df['sepal_width'], kind='kde', size=7, space=0)\n",
    "sns.jointplot(df['petal_length'],df['petal_width'], kind='kde', size=7, space=0)"
   ]
  },
  {
   "cell_type": "markdown",
   "metadata": {},
   "source": [
    "Seaborn also has its version of a scatter matrix."
   ]
  },
  {
   "cell_type": "code",
   "execution_count": null,
   "metadata": {
    "collapsed": false
   },
   "outputs": [],
   "source": [
    "# Need to add species to a column as seaborn doesn't take index\n",
    "df['species']=df.index"
   ]
  },
  {
   "cell_type": "code",
   "execution_count": null,
   "metadata": {
    "collapsed": false
   },
   "outputs": [],
   "source": [
    "# Seaborn calls the scatter matrix a pairplot.\n",
    "sns.set(style='darkgrid')\n",
    "sns.pairplot(df, hue='species')"
   ]
  },
  {
   "cell_type": "markdown",
   "metadata": {},
   "source": [
    "**Plotting Mathematical Functions**\n",
    "\n",
    "Matplotlib can also be used to easily plot mathematical functions with both points and a line."
   ]
  },
  {
   "cell_type": "code",
   "execution_count": null,
   "metadata": {
    "collapsed": false
   },
   "outputs": [],
   "source": [
    "import numpy as np\n",
    "\n",
    "# Use numpy to build a vector of 100 equally spaced points between -20 and 20\n",
    "x = np.linspace(-20,20,500)\n",
    "\n",
    "# Use numpy to calculate the sin of the x vector\n",
    "y = np.sin(x)\n",
    "\n",
    "# Plot the individual points using blue ('b') circles ('o')\n",
    "plt.figure('Functions')\n",
    "plt.plot(x,y,'bo')\n",
    "\n",
    "# Plot the line through the circles\n",
    "plt.plot(x,y)"
   ]
  },
  {
   "cell_type": "markdown",
   "metadata": {},
   "source": [
    "**Subplots**\n",
    "\n",
    "Often it is useful to use subplots to have multiple plots in the same figure. \n",
    "\n",
    "http://matplotlib.org/api/pyplot_api.html#matplotlib.pyplot.subplot\n",
    "\n",
    "The key to creating such plots is using the <code>plt.subplot</code> function to define the number of subplots and where each individual plot goes within a matrix of subplots.\n",
    "\n",
    "The basic subplot syntax is as follows:\n",
    "```\n",
    "plt.subplot(number of subplot rows, number of subplot columns, the sequence number of this subplot)\n",
    "```\n",
    "Note that the sequence number is one-based (rather than the typical zero-based Python index) given its roots in Matlab. \n",
    "\n",
    "Subplots often require adjusting the spacing among them which can be accomplished with the <code>plt.subplots_adjust</code> function.\n",
    "\n",
    "* http://matplotlib.org/api/pyplot_api.html#matplotlib.pyplot.subplots_adjust\n",
    "\n",
    "The following code plots two subplots of the iris data with the range of axes being different for each plot."
   ]
  },
  {
   "cell_type": "code",
   "execution_count": null,
   "metadata": {
    "collapsed": false
   },
   "outputs": [],
   "source": [
    "plt.figure('Plots of Sepals and Petals')\n",
    "plt.subplots_adjust(hspace=.4)\n",
    "plt.subplot(2,1,1)\n",
    "plt.title('Sepal Measurements')\n",
    "plt.scatter(x=df['sepal_length'], y=df['sepal_width'])\n",
    "plt.grid()\n",
    "plt.xlabel('Sepal Length')\n",
    "plt.ylabel('Sepal Width')\n",
    "plt.subplot(2,1,2)\n",
    "plt.title('Petal Measurements')\n",
    "plt.scatter(x=df['petal_length'], y=df['petal_width'])\n",
    "plt.grid()\n",
    "plt.xlabel('Petal Length')\n",
    "plt.ylabel('Petal Width')"
   ]
  },
  {
   "cell_type": "markdown",
   "metadata": {},
   "source": [
    "This is the same plot, but an <code>ax</code> object is created to enable the second subplot to share the same x axis."
   ]
  },
  {
   "cell_type": "code",
   "execution_count": null,
   "metadata": {
    "collapsed": false
   },
   "outputs": [],
   "source": [
    "plt.figure('Plots of Sepals and Petals with Shared X Axis')\n",
    "plt.subplots_adjust(hspace=.4)\n",
    "ax = plt.subplot(2,1,1)\n",
    "plt.title('Sepal Measurements')\n",
    "plt.scatter(x=df['sepal_length'], y=df['sepal_width'])\n",
    "plt.grid()\n",
    "plt.xlabel('Sepal Length')\n",
    "plt.ylabel('Sepal Width')\n",
    "plt.subplot(2,1,2, sharex=ax)\n",
    "plt.title('Petal Measurements')\n",
    "plt.scatter(x=df['petal_length'], y=df['petal_width'])\n",
    "plt.grid()\n",
    "plt.xlabel('Petal Length')\n",
    "plt.ylabel('Petal Width')"
   ]
  }
 ],
 "metadata": {
  "kernelspec": {
   "display_name": "Python 2",
   "language": "python",
   "name": "python2"
  },
  "language_info": {
   "codemirror_mode": {
    "name": "ipython",
    "version": 2
   },
   "file_extension": ".py",
   "mimetype": "text/x-python",
   "name": "python",
   "nbconvert_exporter": "python",
   "pygments_lexer": "ipython2",
   "version": "2.7.11"
  }
 },
 "nbformat": 4,
 "nbformat_minor": 0
}
