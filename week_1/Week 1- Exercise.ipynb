{
 "cells": [
  {
   "cell_type": "markdown",
   "metadata": {},
   "source": [
    "# Week 1 Exercise\n",
    "\n",
    "**Assignment**: This exercise will introduce pandas and conduct a simple analysis a visualization. Specifically, your group will have to complete the following:\n",
    "  \n",
    "* Read in the described dataset\n",
    "* Produce descriptive statistics\n",
    "* Produce a basic plot\n",
    "* Provide commentary on the dataset\n",
    "* Generalize this analysis to \"big data\"\n",
    "\n",
    "For this exercise, you will have to complete all the tasks within this notebook, save the entire notebook, and then upload into the Week 1 Assignment for your group on BlackBoard. Save this notebook with a new name with the following format:\n",
    "\n",
    "**Week_1_Exercise_Group_group_number.ipynb**\n",
    "\n",
    "These in-class exercises are designed to allow you to explore Python with your group and **DO NOT** include step-by-step directions or answers that have only one possibility. Use your team and other resources to determine how best to complete them. Make sure before you turn in your notebook that it runs without errors and the requested output is visible in the notebook. If you go through multiple steps in your code, make sure all those steps are included so that we can evaluate your work."
   ]
  },
  {
   "cell_type": "markdown",
   "metadata": {},
   "source": [
    "## Read in Data From CSV\n",
    "\n",
    "The dataset we will be using is the [classic iris dataset](https://en.wikipedia.org/wiki/Iris_flower_data_set) from 1936. This dataset was used by Ronald Fisher to quantify the attributes of iris flowers that grouped them into different species. This dataset is also used to provide a basic demonstration of clustering algorithms in machine learning.\n",
    "\n",
    "We will be reading the data into a Python data type called a [dataframe](http://pandas.pydata.org/pandas-docs/stable/generated/pandas.DataFrame.html).  A dataframe is a two dimensional array-like structure that is part of the pandas library. Unlike the NumPy array we used earlier, a pandas dataframe is more flexible and user friendly in that it can include multiple data types and uses a label-based naming structure for columns and rows. A pandas dataframe is similar to the [dataframe](http://www.r-tutor.com/r-introduction/data-frame) in the statistical programming language R.\n",
    "\n",
    "In order to read the iris dataset into a dataframe, we will use the general approach of:\n",
    "\n",
    "````\n",
    "import pandas as pd\n",
    "\n",
    "dataframe_name = pd.DataFrame.from_csv('path_and_filename_of_csv_file')\n",
    "````\n",
    "\n",
    "The documentation for this method is here- http://pandas.pydata.org/pandas-docs/stable/generated/pandas.read_csv.html\n",
    "\n",
    "A well-structured dataframe generally has an index that identifies each case in our data.  A case is generally an individual line of data in a dataset which represent a discrete sample. In the pandas output, the index is the first column of data or can be accessed directly by calling <code>dataframe.index</code>. The column names are the first row in the output of can be accessed directly by calling <code>dataframe.columns</code>.\n",
    "\n",
    "**A Side Note on Attributes and Methods**\n",
    "\n",
    "Note that \"<code>dataframe.index</code>\" did not include parentheses after \"index\" given the index is an attribute (think of it like a part) of the dataframe rather than a callable method (think of it as a coded function running on the dataframe). \n",
    "\n",
    "Sometimes this can be a bit confusing in pandas as you might not know whether a given thing is a method which needs \"()\" after it or an attribute that does not need \"()\". For some objects, Python will let you know when something is a method.  The code below demonstrates this."
   ]
  },
  {
   "cell_type": "code",
   "execution_count": null,
   "metadata": {
    "collapsed": false
   },
   "outputs": [],
   "source": [
    "import numpy as np\n",
    "\n",
    "# Create a simple three element vector or \"series\"\n",
    "my_np_series = np.array([1,2,3])\n",
    "\n",
    "# Retrieve the values of the series and the sum of the elements\n",
    "my_np_series.sum"
   ]
  },
  {
   "cell_type": "markdown",
   "metadata": {},
   "source": [
    "If you ran the code as is in the previous block, it should have returned something similar to:\n",
    "\n",
    "<code>function sum</code>\n",
    "\n",
    "This information, while useful in describing that <code>.sum</code> is a function, is perhaps not what we expected when we called <code>sum</code>.\n",
    "\n",
    "To actually return the sum of our series, we need to append parentheses to the sum method. Do this and rerun that code block.\n",
    "\n",
    "In most Python data objects like a pandas dataframe, if you try to call a method like <code>sum</code> without the parentheses, the console output will still have an indication you are trying to call a bound method with some output like:\n",
    "\n",
    "<code>bound method DataFrame.sum of etc, etc</code>\n",
    "\n",
    "This may not be as obvious, however, given the standard output for calling any dataframe also includes a summary of the dataframe, so your \"bound method\" message may scroll by before you can see it.\n",
    "\n",
    "Part of the reason methods include parentheses is that any parameters (inputs) that you need to include in your method call are included within them. In the previous <code>pd.DataFrame.read_csv</code> example, the filename is a parameter. \n",
    "\n",
    "**Read in the Iris Data From CSV to a Dataframe**\n",
    "\n",
    "Using the information above and the link to the documentation, read the csv file from your local filesystem into a pandas dataframe then print the dataframe in the code block below. The file is called <code>iris_data.csv</code> and is located in the datasets directory in the week_1 folder. "
   ]
  },
  {
   "cell_type": "code",
   "execution_count": null,
   "metadata": {
    "collapsed": true
   },
   "outputs": [],
   "source": [
    "# CODING TASK 1\n",
    "# Read csv file information into a dataframe and assign to a variable\n",
    "\n",
    "\n",
    "# Print the dataframe\n"
   ]
  },
  {
   "cell_type": "markdown",
   "metadata": {},
   "source": [
    "If your code was successful, you should have seen an output which displayed a subset of the iris dataframe and then ended with a summary of the dataframe shape on the last line of output which should be:\n",
    "\n",
    "<code>[150 rows x 4 columns]</code>\n",
    "\n",
    "Just because you read the data into a dataframe, does not mean that it was read in **correctly**.\n",
    "\n",
    "Evaluate the dataframe index and column layout and answer the questions in the following text box by clicking into the textbox and inserting your answers using [markdown](https://help.github.com/articles/markdown-basics/) syntax. If you need help, ask me to review your dataframe."
   ]
  },
  {
   "cell_type": "markdown",
   "metadata": {},
   "source": [
    "## Written Response 1:\n",
    "_(Enter Your Response in This Cell)_\n",
    "\n",
    "Did your first attempt to read in the iris data result in a correctly formatted dataframe given the previous definition of a case?\n",
    "\n",
    "Describe a well-formatted dataframe in terms of the index, columns, and elements. Why do you think this matters?"
   ]
  },
  {
   "cell_type": "markdown",
   "metadata": {},
   "source": [
    "If your first attempt needs some refactoring, do that in the code block below.  There are a number of ways to control how a dataframe gets built, but look to the optional parameters in the <code>from_csv</code> method."
   ]
  },
  {
   "cell_type": "code",
   "execution_count": null,
   "metadata": {
    "collapsed": false
   },
   "outputs": [],
   "source": [
    "# CODING TASK 2\n",
    "# Refactor read_csv as required\n",
    "\n",
    "# Print the dataframe\n"
   ]
  },
  {
   "cell_type": "markdown",
   "metadata": {},
   "source": [
    "## Produce Summary Statistics\n",
    "\n",
    "Summary statistics provide an overview of key quantitative aspects of a sample like the iris dataset. While there is no definitive list of which statistics  should be included, the following are a good starting point:\n",
    "\n",
    "* sample size\n",
    "* measures of central tendency\n",
    "* measures of statistical dispersion\n",
    "\n",
    "Using the built-in methods of your dataframe, develop summary statistics for your sample and print each in the code block below."
   ]
  },
  {
   "cell_type": "code",
   "execution_count": null,
   "metadata": {
    "collapsed": false,
    "scrolled": false
   },
   "outputs": [],
   "source": [
    "# CODING TASK 3\n",
    "# Calculate and print summary statistics for the iris dataset\n",
    "\n"
   ]
  },
  {
   "cell_type": "markdown",
   "metadata": {},
   "source": [
    "## Visualize the Data\n",
    "\n",
    "Now that you have your summary statistics, you need to start visualizing the data.  For this we will use the Matplotlib Python library- http://matplotlib.org/. The pandas library has some convenience methods which allow you to more easily plot dataframes that we will utilize for this exercise. Let's first try a simple line plot with the following code replacing variable names as required."
   ]
  },
  {
   "cell_type": "code",
   "execution_count": null,
   "metadata": {
    "collapsed": false
   },
   "outputs": [],
   "source": [
    "# CODING TASK 4\n",
    "\n",
    "# These commands set up the notebook plotting interface, so no need to modify\n",
    "%pylab inline\n",
    "pylab.rcParams['figure.figsize'] = (10.0, 10.0)\n",
    "\n",
    "# Run the plot code for your dataframe\n",
    "\n",
    "your_dataframe_here.plot(kind='line')"
   ]
  },
  {
   "cell_type": "markdown",
   "metadata": {},
   "source": [
    "## Written Response 2:\n",
    "_(Enter Your Response in This Cell)_\n",
    "    \n",
    "Describe the plots and what the different axes represent.\n",
    "\n",
    "Based on the plot, how might you describe the dataset in general terms?"
   ]
  },
  {
   "cell_type": "markdown",
   "metadata": {},
   "source": [
    "## Written Response 3:\n",
    "_(Enter Your Response in This Cell)_\n",
    "\n",
    "The iris dataset is a sample of only 150 cases and is specific to measurements of flowers. Is the process we went through to explore this small dataset generalizable to much larger datasets and contexts like those at firms where you have worked? Why or why not?\n",
    "\n",
    "What might be some of our concerns for conducting a similar analysis if this was a dataset that was over a terabyte in size?"
   ]
  }
 ],
 "metadata": {
  "kernelspec": {
   "display_name": "Python 2",
   "language": "python",
   "name": "python2"
  },
  "language_info": {
   "codemirror_mode": {
    "name": "ipython",
    "version": 2
   },
   "file_extension": ".py",
   "mimetype": "text/x-python",
   "name": "python",
   "nbconvert_exporter": "python",
   "pygments_lexer": "ipython2",
   "version": "2.7.6"
  }
 },
 "nbformat": 4,
 "nbformat_minor": 0
}
