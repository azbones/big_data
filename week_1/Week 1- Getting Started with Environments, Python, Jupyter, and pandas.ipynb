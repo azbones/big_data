{
 "cells": [
  {
   "cell_type": "markdown",
   "metadata": {},
   "source": [
    "# Let's Get Started\n",
    "\n",
    "**Learning Assumptions and Data Lab Objectives**: These lab exercises assume a basic level of computer programming proficiency inline with having previously taken at least one programming course. The intent of the lab is **not** to make you a competent developer or expert data scientist. The lab objective is to help you gain a conceptual understanding of the process and technologies that are used in data science and \"big data\" via hands-on activities. Many of these activities are common tasks for data scientists. This high-level perspective will help you understand how data science and \"big data\" fits into the larger context of information technology and systems. \n",
    "\n",
    "Given these lab exercises are done in groups, you should take advantage of the team's collective knowledge to discuss concepts that you find difficult in order to build your own understanding. Each week's assignment **should be done as a group** to give everyone the opportunity to participate. Use the pair programming technique where you switch off between those that are writing  the code (drivers) or responses and the rest of the group that is developing the plan (navigators). All of us are responsible for creating a productive learning environment for the entire class, so please contribute to making the environment positive and productive for everyone. We will follow the Python code of conduct- https://www.python.org/psf/codeofconduct/.\n",
    "\n",
    "The exercises should be able to be completed in class, so also take advantage of Sean or I if something isn't clear. If your technical and analytical expertise is beyond the basic level of these exercises, take on the role of adviser and help bring others up to speed and extend your work to add more sophistication or functionality.\n",
    "      \n",
    "**This Week's Objectives**: Today we are going to get your development environments set up, introduce you to the various tools and resources we will be using in class, and conduct your first analysis. This will include:\n",
    "  \n",
    "* Setting up your environment with Anacoda which is the free Python distribution for data science we will be using\n",
    "* Reviewing how to install these Jupyter notebooks on the PC your team will be using to complete your assignments using GitHub\n",
    "* Learning the basics of IPython including object methods and tab completion\n",
    "* Where to learn more or get help\n",
    "* Conducting your first analysis in the separate Week 1- Exercise notebook\n",
    "\n",
    "When you first start the class, you will most likely be viewing a static version of this page on GitHub. Once you follow the directions below, you will have Python and our required libraries running on your computer.  You can download the \"live\" versions of this page which will allow you to run code and complete your assignment for the week which we detail below.\n",
    "\n"
   ]
  },
  {
   "cell_type": "markdown",
   "metadata": {},
   "source": [
    "## Setting Up Your Environment\n",
    "\n",
    "To complete the exercises we have planned, you need to install the Python programming language and a variety of scientific [packages](http://docs.continuum.io/anaconda/pkg-docs \"packages\") and analytics related packages. We will be using the 2.7.x version of Python which differs in some important ways from Python 3.x.x. This section will walk you through the install.\n",
    "\n",
    "1. Download and install Anaconda for your operating system: https://www.continuum.io/downloads\n",
    "\n",
    "2. During install, make sure to select the \"Add Anaconda to my PATH environment variable\" option\n",
    "\n",
    "3. Open a command prompt or terminal (Google how to do so if you are unsure)\n",
    "\n",
    "4. Run the command conda --version in the command prompt or terminal and ensure you can see a version. If not, something went wrong during install and you will need to repeat step 1.\n",
    "\n",
    "5. Run the following command based on your Operating System:\n",
    "  1. Windows: <code>conda install --channel https://conda.anaconda.org/ProfessorEaston tweepy</code>\n",
    "  2. Mac: <code>conda install --channel https://conda.anaconda.org/williamsmj tweepy</code>\n",
    "  3. Linux: <code>conda install --channel https://conda.anaconda.org/ActivisionGameScience tweepy</code>\n",
    "    \n",
    "6. From the command line, run <code>conda install seaborn</code>\n",
    "\n",
    "7. From the command line, run <code>pip install -U textblob</code>\n",
    "\n",
    "8. From the command line, run <code>python -m textblob.download_corpora</code>\n",
    "\n",
    "7. From the command line, run <code>pip install google-api-python-client</code>\n",
    "\n",
    "8. From the command line, run <code>conda install ipyparallel</code>\n",
    "  \n",
    "9. Check that everything installed correctly by entering \"ipython qtconsole\" at the command line.\n",
    "\n",
    "If you installed Python correctly, you should see an image like this:\n",
    "\n",
    "<img src=\"https://raw.githubusercontent.com/azbones/big_data/master/images/week1-qtconsole.png\">\n",
    "\n",
    "Check that everything else installed correctly by cutting and pasting the code from the code block below into your IPython console and hitting return.\n",
    "\n",
    "If all your packages were installed correctly, you should see **\"Good to go on (your computer's name)!\"**"
   ]
  },
  {
   "cell_type": "code",
   "execution_count": null,
   "metadata": {
    "collapsed": false
   },
   "outputs": [],
   "source": [
    "import pkg_resources\n",
    "from distutils.version import StrictVersion\n",
    "import socket\n",
    "\n",
    "def check_version_number(module, minimum):\n",
    "    \"\"\"\n",
    "    Function to test locally installed environments.\n",
    "    \"\"\"\n",
    "    try:\n",
    "        module_version = pkg_resources.get_distribution(module).version\n",
    "    except Exception:\n",
    "        print 'You are missing the {} module.'.format(module)\n",
    "        return False\n",
    "\n",
    "    if StrictVersion(module_version) < StrictVersion(minimum):\n",
    "        print ('Your version of {0} is too old at {1}! Need at' \n",
    "               ' least version {2}...').format(module, module_version, minimum)\n",
    "        return False\n",
    "\n",
    "    return True\n",
    "\n",
    "# Chained logical operations to create logical state\n",
    "success = check_version_number('pandas', '0.14.0')\n",
    "success = check_version_number('seaborn', '0.6.0') and success\n",
    "success = check_version_number('google-api-python-client', '1.4.0') and success\n",
    "success = check_version_number('textblob', '0.11.0') and success\n",
    "success = check_version_number('ipyparallel', '4.1.0') and success \n",
    "success = check_version_number('boto', '2.29.1') and success\n",
    "success = check_version_number('tweepy', '2.3.0') and success\n",
    "\n",
    "# Test logical state and provide status or next steps\n",
    "if success:\n",
    "    print 'Good to go on {}!'.format(socket.gethostname())\n",
    "else:\n",
    "    print ('Validation failed. You have missing or outdated modules.'\n",
    "           ' Please go through the install procedures again.')"
   ]
  },
  {
   "cell_type": "markdown",
   "metadata": {},
   "source": [
    "## Jupyter Notebooks\n",
    "\n",
    "**Getting the Notebooks**\n",
    "\n",
    "We are using Jupyter notebooks (http://jupyter.org/) to facilitate the technical portion of our class. Jupyter notebooks offer us a web-based, interactive Python environment were we can run code, present visualizations, and provide explanatory text. We developed the notebooks for this class using the version control system Git (https://git-scm.com/) and store them centrally at GitHub (http://github.com). The notebooks are publicly **viewable** in our repository at https://github.com/azbones/big_data.  In order to run our sample code, build your own code for the assignments, answer questions in the notebook, and ultimately turn in your assignment, you will need to download the notebooks to your computer and install them. There are two ways to do this:\n",
    "\n",
    "* **Easy Way**: click on the \"download zip\" button, download the zip file, and then unzip in the directory where you will be doing your work.\n",
    "\n",
    "* **More Elite Way**: install Git on your computer and clone the GitHub directory to the directory where you will be doing your work. A review of Git is beyond the scope of this class, but you can learn more about it and GitHub here- https://help.github.com/categories/bootcamp/ By the way, as we consider out notebooks open source, you can actually contribute to making them better by starting a pull request which we will evaluate and perhaps include in the source code going forward. Learn about pull requests here- https://help.github.com/articles/creating-a-pull-request/\n",
    "\n",
    "If you take the easy way, you may need to update your notebooks if we make changes to the notebooks during the class (which is likely).  You can always see a list of changes and their dates at https://github.com/azbones/big_data/commits/master\n",
    "\n",
    "If you take the elite way, be aware that you may need to manage how to handle any changes you want to keep in your notebooks locally with the changes we might make at the source in GitHub. This is a common issue for developers and data scientists, but is beyond the scope of our class.\n",
    "\n",
    "**Running Python in the Notebooks**\n",
    "\n",
    "Once you have the repository from GitHub on your local computer, open your console and navigate to that directory which should be named \"big_data\". Next, enter the following command:\n",
    "\n",
    "````\n",
    "ipython notebook\n",
    "````\n",
    "\n",
    "If everything works as intended, this command should start a local webserver and then direct your default web browser to the root Jupyter directory. Now, you should be able to navigate to \"week_1\" and launch the Jupyter notebook called \"Week 1- Getting Ready- Environments, Python, Jupyter, pandas, and Credentials\". \n",
    "\n",
    "While the web page you launch from your local machine will look identical to the one in GitHub, it is fundementally different. Now instead of a static web page, you will have an interactive page with all the power of Python!\n",
    "\n",
    "To test your notebook, select the code block above so that there is a black outline around it and then select \"Cell\" and \"Run\" from the Jupyter menu.  You should see the output of this code right below the code block.\n",
    "\n",
    "Now try the same with the code block below:\n",
    "      "
   ]
  },
  {
   "cell_type": "code",
   "execution_count": null,
   "metadata": {
    "collapsed": false
   },
   "outputs": [],
   "source": [
    "import this"
   ]
  },
  {
   "cell_type": "markdown",
   "metadata": {},
   "source": [
    "In the last code block, you imported a library which then printed some style hints for programming in Python. In the next code block, replace \"string\" with \"Hello World!\" and run that cell. You can also run code by using:\n",
    "\n",
    "* <code>Alt-Enter</code> runs the current cell and inserts a new one below.\n",
    "* <code>Ctrl-Enter</code> run the current cell and enters command mode."
   ]
  },
  {
   "cell_type": "code",
   "execution_count": null,
   "metadata": {
    "collapsed": false
   },
   "outputs": [],
   "source": [
    "print \"string\""
   ]
  },
  {
   "cell_type": "markdown",
   "metadata": {},
   "source": [
    "As you can see, any code block is a live, interactive version of Python. More specifically, each notebook page is an instance of Python. So, if you save a variable in one code block, it is available in any other code block on the page. Try the following code to see this in action.\n",
    "\n",
    "Note that the code that appears after the hash or <code>#</code> are comments and only serve to describe or clarify the code."
   ]
  },
  {
   "cell_type": "code",
   "execution_count": null,
   "metadata": {
    "collapsed": true
   },
   "outputs": [],
   "source": [
    "# This is an example of assigning a variable in one code block\n",
    "# Note that running this code will not produce any output\n",
    "\n",
    "my_var = 3.141592654"
   ]
  },
  {
   "cell_type": "code",
   "execution_count": null,
   "metadata": {
    "collapsed": false
   },
   "outputs": [],
   "source": [
    "# Here in a different code block, if the variable was assigned, \n",
    "# it is available in the python \"namespace\" in this notebook.\n",
    "\n",
    "print my_var"
   ]
  },
  {
   "cell_type": "markdown",
   "metadata": {},
   "source": [
    "Wondering what a \"namespace\" is? A simple description of namespace, is the system that Python uses to keep track of the different objects you build up in your program. Objects can include variables like <code>my_var</code> or the various modules (libraries of code) you import to use in your program. IPython provides a nice function for seeing what is in the namespace of your notebook or console (if you are using Qtconsole). Run the IPython-specific command <code>%whos</code> in the code block below.  "
   ]
  },
  {
   "cell_type": "code",
   "execution_count": null,
   "metadata": {
    "collapsed": false
   },
   "outputs": [],
   "source": [
    "# whos magic function\n",
    "\n",
    "%whos"
   ]
  },
  {
   "cell_type": "markdown",
   "metadata": {},
   "source": [
    "<code>%whos</code> is technically a \"magic\" function that makes a command line or operating system function available in an interactive Python session. Magics are usually preceded by the % symbol although in some versions of IPython that may not be required. There are a variety of other useful magics in IPython including all of the standard linux-like file and directory operations including:\n",
    "\n",
    "* <code>%ls</code> -list information about the files in the current directory\n",
    "* <code>%pwd</code> -print the working directory\n",
    "* <code>%cd</code> -change directory\n",
    "\n",
    "Try running some of these in the code block below. "
   ]
  },
  {
   "cell_type": "code",
   "execution_count": null,
   "metadata": {
    "collapsed": false
   },
   "outputs": [],
   "source": [
    "# Enter and run some file and directory commands here.\n",
    "# You can always change and rerun code in any block.\n"
   ]
  },
  {
   "cell_type": "markdown",
   "metadata": {},
   "source": [
    "There are many resources on the Internet that will provide you with more information about Jupyter notebooks and how to use them. The official docs are excellent and a great place to start at  http://ipython.readthedocs.org/en/stable/interactive/tutorial.html\n",
    "\n",
    "**Run Our First Analysis**\n",
    "\n",
    "Next, let's actually begin to analyze some data. To do this, we will use one of the most powerful features of IPython for data scientists- tab complete. \n",
    "\n",
    "As we begin using Python for data science, we will typically be working with data objects. These objects might be files, arrays, or dataframes. We will look at many of these object types in the next class, but what they all have in common is they have different \"methods\" that we can \"call\" on that object. These object specific methods are functions that were built specifically for that object and \"calling\" them runs that object specific code on whatever is \"in\" the object.\n",
    "\n",
    "As an example, in the next code block we are going to create a simple one dimensional arrary of integers which will be a NumPy object. [NumPy](http://www.numpy.org/) is the foundational library for doing most numeric and scientific work in Python. Don't worry too much about the syntax for now as this is just an example."
   ]
  },
  {
   "cell_type": "code",
   "execution_count": null,
   "metadata": {
    "collapsed": false
   },
   "outputs": [],
   "source": [
    "# First, let's import the Python package NumPy.\n",
    "# The \"as\" extension allows us to specific a shortcut to the full package name.\n",
    "\n",
    "import numpy as np\n",
    "\n",
    "# Now, we will use NumPy or \"np\" to create a 1 dimensional matrix from a list of integers.\n",
    "\n",
    "my_array = np.array([1,10,100,1000,10000,100000])"
   ]
  },
  {
   "cell_type": "markdown",
   "metadata": {},
   "source": [
    "Now, we have an object called <code>my_array</code> in our namespace. This object is a NumPy array. You can see the object by entering <code>%whos</code> to see the entire namespace including this object or more directly access it by entering it's name and hitting return. Try both of these in the block below."
   ]
  },
  {
   "cell_type": "code",
   "execution_count": null,
   "metadata": {
    "collapsed": false
   },
   "outputs": [],
   "source": [
    "# Try accessing the object in this block\n"
   ]
  },
  {
   "cell_type": "markdown",
   "metadata": {},
   "source": [
    "Now for the real power of interactive Python. For any object in our namespace, instead of having to look up what methods are available, we can simply enter the object's name in the code blocks, enter a period (which is the convention in Python to access the attributes and methods of the object), and then hit <code>Tab</code>. If the object is in your namespace, you should be able to see a variety of attributes and methods for the object. \n",
    "\n",
    "For most of these object functions, in order to execute them, you will have to append brackets to the function name. For example, if you wanted to find the max value from <code>my_array</code>, you would enter the following code:\n",
    "\n",
    "<code>my_array.max()</code>\n",
    "\n",
    "Using tab complete, try to find the methods which will give you the average, min, and product of the elements in the array.\n",
    "\n",
    "You can also access help for any attribute of an object by appending a \"?\" to the attribute like:\n",
    "\n",
    "<code>my_array.max?</code>"
   ]
  },
  {
   "cell_type": "code",
   "execution_count": null,
   "metadata": {
    "collapsed": false
   },
   "outputs": [],
   "source": [
    "# Enter code here for determining the average for the array\n",
    "\n"
   ]
  },
  {
   "cell_type": "code",
   "execution_count": null,
   "metadata": {
    "collapsed": false
   },
   "outputs": [],
   "source": [
    "# Enter code here for determining the max for the array\n",
    "\n"
   ]
  },
  {
   "cell_type": "code",
   "execution_count": null,
   "metadata": {
    "collapsed": false
   },
   "outputs": [],
   "source": [
    "# Enter code here for determining the product for the array\n",
    "\n"
   ]
  },
  {
   "cell_type": "markdown",
   "metadata": {},
   "source": [
    "Of course, instead of just printing the results of your object's method to the console, you can also assign it to a variable or include it like a variable in another function like <code>print</code> as with these examples:"
   ]
  },
  {
   "cell_type": "code",
   "execution_count": null,
   "metadata": {
    "collapsed": false
   },
   "outputs": [],
   "source": [
    "# Assign the max value to a variable and print it\n",
    "\n",
    "my_array_max = my_array.max()\n",
    "print my_array_max\n",
    "\n",
    "# Insert the max value in a longer string for printing\n",
    "# format inserts it's parameter (what is inside the brackets) into the \n",
    "# print string at the point where the curly brackets are located\n",
    "\n",
    "print 'The max value of our array is {}'.format(my_array.max()) \n",
    "\n",
    "# Or, use the new variable you created as the input to print\n",
    "\n",
    "print 'The value of the variable we assigned the max value to is {}'.format(my_array_max) "
   ]
  },
  {
   "cell_type": "markdown",
   "metadata": {},
   "source": [
    "## Learning More\n",
    "\n",
    "The best source of information about Python is the Internet.  There are general tutorials like:\n",
    "\n",
    "* https://developers.google.com/edu/python/introduction?hl=en\n",
    "* https://www.python.org/about/gettingstarted/\n",
    "\n",
    "There are also specific tutorials for the scientific packages like NumPy:\n",
    "\n",
    "* http://www.engr.ucsb.edu/~shell/che210d/numpy.pdf\n",
    "* http://www.python-course.eu/numpy.php\n",
    "\n",
    "There are also a variety of books available. For our purposes, although it is not required, [\"Python for Data Analysis\"](http://www.amazon.com/Python-Data-Analysis-Wrangling-IPython/dp/1449319793/, \"Wes McKinney\") by Wes McKinney is an excellent overview. Be cautious with books, however, as Python is a quickly evolving and dynamic language, so print may not keep up with all the changes in the many releases that Python packages have every year. If you are interested in documentation for specific packages or libraries, the best source is the online documentation. The Python community is usually quite friendly and goes to great efforts to make the language approachable even for beginners, so you can often find tutorials like the following for pandas which is the package we will be using in many of our exercises:\n",
    "\n",
    "http://pandas.pydata.org/pandas-docs/stable/tutorials.html\n",
    "\n",
    "When you have specific questions, Google is your friend.  Let's say you are interested in:\n",
    "\n",
    ">What is the difference in NumPy between np.average() and np.mean()?\n",
    "\n",
    "Most likely, if you search for this question with Google, it will direct you to [Stack Overflow](http://stackoverflow.com/ \"stack\") which is not only a source for previous questions, but also a place you can ask new ones.\n"
   ]
  }
 ],
 "metadata": {
  "kernelspec": {
   "display_name": "Python 2",
   "language": "python",
   "name": "python2"
  },
  "language_info": {
   "codemirror_mode": {
    "name": "ipython",
    "version": 2
   },
   "file_extension": ".py",
   "mimetype": "text/x-python",
   "name": "python",
   "nbconvert_exporter": "python",
   "pygments_lexer": "ipython2",
   "version": "2.7.6"
  }
 },
 "nbformat": 4,
 "nbformat_minor": 0
}
