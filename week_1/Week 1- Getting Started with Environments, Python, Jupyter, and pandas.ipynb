{
 "cells": [
  {
   "cell_type": "markdown",
   "metadata": {},
   "source": [
    "# Let's Get Started\n",
    "\n",
    "**Objectives**: Today we are going to get our development enviroments and access environments set up and introduce you to the various tools and resources we will be using in class. This will include:\n",
    "  \n",
    "* Setting up your environment with Anacoda which is the free Python distribution for data science we will be using\n",
    "* Reviewing how to install these Jupyter notebooks on the PC your team will be using to complete your assignments using GitHub,\n",
    "* Setting up any accounts you will need to access cloud based analytic platforms or data sources like Twitter, Amazon AWS, or Google BigQuery\n",
    "* Starting with our first data analysis of the classic \"iris dataset\"\n",
    "\n",
    "When you first start the class you will most likely be viewing a static version of this page on GitHub. Once you follow the directions below, you will have Python and our required libraries running on your computer.  You can download the \"live\" versions of this page which will allow you to run code and complete your assignment for the week which we detail below.\n",
    "      "
   ]
  },
  {
   "cell_type": "markdown",
   "metadata": {},
   "source": [
    "## Setting Up Your Environment\n",
    "\n",
    "To complete the exercises we have planned, you need to install the programming language Python and a variety of scientific [packages](http://docs.continuum.io/anaconda/pkg-docs \"packages\") and analytics realted packages. This section will walk you through the install.\n",
    "\n",
    "1. Download and install Anaconda for your operating system: https://www.continuum.io/downloads\n",
    "\n",
    "2. During install, make sure to select the \"Add Anaconda to my PATH environment variable\" option\n",
    "\n",
    "3. Open a command prompt or terminal (Google how to do so if you are unsure)\n",
    "\n",
    "4. Run the command conda --version in the command prompt or terminal and ensure you can see a version. If not, something went wrong during install and you will need to repeat step 1.\n",
    "\n",
    "5. Run the following command based on your Operating System:\n",
    "  1. Windows: conda install --channel https://conda.anaconda.org/ProfessorEaston tweepy\n",
    "  2. Mac: conda install --channel https://conda.anaconda.org/zed tweepy\n",
    "  3. Linux: conda install --channel https://conda.anaconda.org/ActivisionGameScience tweepy\n",
    "  \n",
    "6. Check that everything Python installed correctly by entering \"ipython qtconsole\" at the command line.\n",
    "\n",
    "If you installed Python correctly, you should see an image like this:\n",
    "\n",
    "<img src=\"https://raw.githubusercontent.com/azbones/big_data/master/images/week1-qtconsole.png\">\n",
    "\n",
    "Check that everything else installed correctly by cutting and pasting the code from the code block below into your IPython console and hitting return.\n",
    "\n",
    "If all your packages were installed correctly, you should see **\"Good to go on (your computer's name)!\"**"
   ]
  },
  {
   "cell_type": "code",
   "execution_count": null,
   "metadata": {
    "collapsed": false
   },
   "outputs": [],
   "source": [
    "import pkg_resources\n",
    "from distutils.version import StrictVersion\n",
    "import socket\n",
    "\n",
    "def check_version_number(module, minimum):\n",
    "    try:\n",
    "        module_version = pkg_resources.get_distribution(module).version\n",
    "    except Exception:\n",
    "        print \"You are missing the {} module.\".format(module)\n",
    "        return False\n",
    "\n",
    "    if StrictVersion(module_version) < StrictVersion(minimum):\n",
    "        print \"Your version of {0} is too old at {1}! Need at least version {2}...\".format(module, module_version, minimum)\n",
    "        return False\n",
    "\n",
    "    return True\n",
    "\n",
    "success = check_version_number('pandas', '0.14.0')\n",
    "success = check_version_number('boto', '2.29.1') and success\n",
    "success = check_version_number('tweepy', '3.4.0') and success\n",
    "\n",
    "if success:\n",
    "    print 'Good to go on {}!'.format(socket.gethostname())\n",
    "else:\n",
    "    print 'Validation failed. You have missing or outdated modules. Please go through the install procedures again.'"
   ]
  },
  {
   "cell_type": "markdown",
   "metadata": {},
   "source": [
    "## Jupyter Notebooks\n",
    "\n",
    "**Getting the Notebooks**\n",
    "\n",
    "We are using Jupyter notebooks (http://jupyter.org/) to facilitate the technical portion of our class. Jupyter notebooks also us to have an web-based, interactive Python environment were we can run code, present visualizations, and provide explantory text. We developed these notebooks using the version control system Git (https://git-scm.com/) and store them centrally at GitHub (http://github.com). The notebooks are publicly **viewable** in our repository at https://github.com/azbones/big_data.  In order to run our sample code, build your own code for the assignments, answer questions in the notebook, and ultimately turn in your assignment, you will need to download the notebooks to your computer and install them. There are two ways to do this:\n",
    "\n",
    "* **Easy Way**: click on the \"download zip\" button, download the zip file, and then unzip in the directory where you will be doing your work.\n",
    "\n",
    "* **More Elite Way**: install Git on your computer and clone the GitHub directory to the directory where you will be doing your work. A review of Git is beyond the scope of this class, but you can learn more about it and GitHub here- https://help.github.com/categories/bootcamp/ By the way, as we consider out notebooks open source, you can actually contribute to making them better by starting a pull request which we will evaluate and perhaps include in the source code going forward. Learn about pull requests here- https://help.github.com/articles/creating-a-pull-request/,\n",
    "\n",
    "**Running Python in the Notebooks**\n",
    "\n",
    "Once you have the repository from GitHub on your local computer, open your console and navigate to that directory which should be named \"big_data\". Next, enter the following command:\n",
    "\n",
    "````\n",
    "ipython notebook\n",
    "````\n",
    "\n",
    "If everything works as intended, this command should start a local webserver and then direct your default web browser to the root Jupyter directory. Now, you should be able to navigate to \"week_1\" and launch the Jupyter notebook called \"Week 1- Getting Ready- Environments, Python, Jupyter, pandas, and Credentials\". \n",
    "\n",
    "While the web page you launch from your local machine will look identical to the one in GitHub, it is fundementally different. Now instead of a static web page, you will have an interactive page with all the power of Python!\n",
    "\n",
    "To test your notebook, select the code block above so that there is a back outline around it and then select \"Cell\" and \"Run\" from the Jupyter menu.  You should see the output of this code right below the code block.\n",
    "\n",
    "Now try the same with the code block below:\n",
    "      "
   ]
  },
  {
   "cell_type": "code",
   "execution_count": null,
   "metadata": {
    "collapsed": false
   },
   "outputs": [],
   "source": [
    "import this"
   ]
  },
  {
   "cell_type": "markdown",
   "metadata": {},
   "source": [
    "In the last code block, you imported a library which then printed some style hints for programming in Python. In the next code block, replace \"string\" with \"Hello World!\" and run that cell. You can also run code by using:\n",
    "\n",
    "* <code>Alt-Enter</code> runs the current cell and inserts a new one below.\n",
    "* <code>Ctrl-Enter</code> run the current cell and enters command mode."
   ]
  },
  {
   "cell_type": "code",
   "execution_count": null,
   "metadata": {
    "collapsed": false
   },
   "outputs": [],
   "source": [
    "print \"string\""
   ]
  },
  {
   "cell_type": "markdown",
   "metadata": {},
   "source": [
    "As you can see, any code block is a live, interactive version of Python. More specifically, each notebook page is an instance of Python. So, if you save a variable in one code block, it is available in any other code block on the page. Try the following code to see this in action."
   ]
  },
  {
   "cell_type": "code",
   "execution_count": 6,
   "metadata": {
    "collapsed": true
   },
   "outputs": [],
   "source": [
    "# This is an example of assigning a variable in one code block\n",
    "# Note that running this code will not produce any output\n",
    "my_var = 3.141592654"
   ]
  },
  {
   "cell_type": "code",
   "execution_count": 7,
   "metadata": {
    "collapsed": false
   },
   "outputs": [
    {
     "name": "stdout",
     "output_type": "stream",
     "text": [
      "3.141592654\n"
     ]
    }
   ],
   "source": [
    "# Here in a different code block, if the variable was assigned, \n",
    "# it is available in the python \"namespace\" in this notebook.\n",
    "print my_var"
   ]
  },
  {
   "cell_type": "markdown",
   "metadata": {},
   "source": [
    "Wondering what a \"namespace\" is? A simple description of namespace, is the system that Python uses to keep track of the different objects you build up in your program. Objects can include variables like <code>my_var</code> or the various modules (librairies of code you import to use in your program). IPython provides a nice function for seeing what is in the namespace of your notebook or console (if you are using Qtconsole). Run the IPython-specific command <code>whos</code> in the code block below.  "
   ]
  },
  {
   "cell_type": "code",
   "execution_count": 13,
   "metadata": {
    "collapsed": false
   },
   "outputs": [
    {
     "name": "stdout",
     "output_type": "stream",
     "text": [
      "Variable               Type        Data/Info\n",
      "--------------------------------------------\n",
      "StrictVersion          classobj    distutils.version.StrictVersion\n",
      "check_version_number   function    <function check_version_n<...>er at 0x0000000003D5C0B8>\n",
      "my_var                 float       3.141592654\n",
      "pkg_resources          module      <module 'pkg_resources' f<...>g_resources\\__init__.py'>\n",
      "socket                 module      <module 'socket' from 'C:<...>Anaconda\\lib\\socket.pyc'>\n",
      "success                bool        True\n",
      "this                   module      <module 'this' from 'C:\\U<...>n\\Anaconda\\lib\\this.pyc'>\n"
     ]
    }
   ],
   "source": [
    "# whos magic function\n",
    "whos"
   ]
  },
  {
   "cell_type": "markdown",
   "metadata": {},
   "source": [
    "<code>whos</code> is technically a \"magic\" function that makes a command line function available in an interactive Python session. If we were using the base Python language and ran a script with <code>whos</code> as a single line of code, the script would fail as it would think it was an unassigned variable. There are a variety of other useful magics in IPython including all the of standard linux-like file and directory operations including:\n",
    "\n",
    "* <code>ls</code> -list information about the files in the current directory\n",
    "* <code>pwd</code> -print the working directory\n",
    "* <code>cd</code> -change directory\n",
    "\n",
    "Try running some of these in the code block below. "
   ]
  },
  {
   "cell_type": "code",
   "execution_count": 19,
   "metadata": {
    "collapsed": false
   },
   "outputs": [],
   "source": [
    "# Enter and run some file and directory commands here.\n",
    "# You can always change and rerun code in any block.\n",
    "ls"
   ]
  },
  {
   "cell_type": "markdown",
   "metadata": {},
   "source": [
    "There are many resources on the Internet that will provide you with more information about Jupyter notebooks and how to use them. The official docs are excellent and a great place to start at  http://ipython.readthedocs.org/en/stable/interactive/tutorial.html"
   ]
  }
 ],
 "metadata": {
  "kernelspec": {
   "display_name": "Python 2",
   "language": "python",
   "name": "python2"
  },
  "language_info": {
   "codemirror_mode": {
    "name": "ipython",
    "version": 2
   },
   "file_extension": ".py",
   "mimetype": "text/x-python",
   "name": "python",
   "nbconvert_exporter": "python",
   "pygments_lexer": "ipython2",
   "version": "2.7.9"
  }
 },
 "nbformat": 4,
 "nbformat_minor": 0
}
