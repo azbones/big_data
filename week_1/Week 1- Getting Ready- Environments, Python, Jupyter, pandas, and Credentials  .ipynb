{
 "cells": [
  {
   "cell_type": "markdown",
   "metadata": {},
   "source": [
    "# Let's Get Started\n",
    "\n",
    "Objectives: Today we are going to get our development enviroments and access environments set up and introduce you to the various tools and resources we will be using in class. This will include:,\n",
    "  \n",
    "* Setting up your environment with Anacoda which is the free Python distribution for data science we will be using,\n",
    "* Reviewing how to install these Jupyter notebooks on the PC your team will be using to complete your assignments using GitHub,\n",
    "* Setting up any accounts you will need to access cloud based analytic platforms or data sources like Twitter, Amazon AWS, or Google BigQuery\n",
    "* Starting with our first data analysis of the classic \"iris dataset\"\n",
    "      "
   ]
  },
  {
   "cell_type": "markdown",
   "metadata": {},
   "source": [
    "## Setting Up Your Environment\n",
    "\n",
    "1. Download and install Anaconda for your operating system: https://www.continuum.io/downloads\n",
    "2. During install, make sure to select the \"Add Anaconda to my PATH environment variable\" option\n",
    "3. Open a command prompt or terminal (Google how to do so if you are unsure)\n",
    "4. Run the command conda --version in the command prompt or terminal and ensure you can see a version. If not, something went wrong during install and you will need to repeat step 1.\n",
    "5. Run the following command based on your Operating System:\n",
    "  1. Windows: conda install --channel https://conda.anaconda.org/ProfessorEaston tweepy\n",
    "  2. Mac: conda install --channel https://conda.anaconda.org/zed tweepy\n",
    "  3. Linux: conda install --channel https://conda.anaconda.org/ActivisionGameScience tweepy\n",
    "  \n",
    "6. Check that everything installed correctly by entering \"ipython qtconsole\" at the command line.\n",
    "\n"
   ]
  },
  {
   "cell_type": "code",
   "execution_count": null,
   "metadata": {
    "collapsed": true
   },
   "outputs": [],
   "source": [
    "import pkg_resources\n",
    "from distutils.version import StrictVersion\n",
    "\n",
    "def check_version_number(module, minimum):\n",
    "    try:\n",
    "        module_version = pkg_resources.get_distribution(module).version\n",
    "    except Exception:\n",
    "        print \"You are missing the {} module.\".format(module)\n",
    "        return False\n",
    "\n",
    "    if StrictVersion(module_version) < StrictVersion(minimum):\n",
    "        print \"Your version of {0} is too old at {1}! Need at least version {2}...\".format(module, module_version, minimum)\n",
    "        return False\n",
    "\n",
    "    return True\n",
    "\n",
    "success = check_version_number('pandas', '0.14.0')\n",
    "success = check_version_number('boto', '2.29.1') and success\n",
    "success = check_version_number('tweepy', '3.4.0') and success\n",
    "\n",
    "if success:\n",
    "    print 'Good to go!'\n",
    "else:\n",
    "    print 'Validation failed. You have missing or outdated modules. Please go through the install procedures again.'"
   ]
  },
  {
   "cell_type": "markdown",
   "metadata": {},
   "source": [
    "## Jupyter Notebooks\n",
    "\n",
    "**Getting the Notebooks**\n",
    "\n",
    "We are using Jupyter notebooks (http://jupyter.org/) to facilitate the technical portion of our class. Jupyter notebooks also us to have an web-based, interactive Python environment were we can run code, present visualizations, and provide explantory text. We developed these notebooks using the version control system Git (https://git-scm.com/) and store them centrally at GitHub (http://github.com). The notebooks are publically **viewable** in our repository at https://github.com/azbones/big_data.  In order to run our sample code, build your own code for the assignments, answer questions in the notebook, and ultimately turn in your assignment, you will need to download the notebooks to your computer and install them. There are two ways to do this:\n",
    "\n",
    "* **Easy Way**: click on the \\download zip\\ button, download the zip file, and then unzip in the directory where you will be doing your work.\n",
    "\n",
    "* **More Elite Way**: install Git on your computer and clone the GitHub directory to the directory where you will be doing your work. A review of Git is beyond the scope of this class, but you can learn more about it and GitHub here- https://help.github.com/categories/bootcamp/ By the way, as we consider out notebooks open source, you can actually contribute to making them better by starting a pull request which we will evaluate and perhaps include in the source code going forward. Learn about pull requests here- https://help.github.com/articles/creating-a-pull-request/,\n",
    "\n",
    "**Running the Notebooks**\n",
    "\n",
    "\n",
    "      "
   ]
  }
 ],
 "metadata": {
  "kernelspec": {
   "display_name": "Python 2",
   "language": "python",
   "name": "python2"
  },
  "language_info": {
   "codemirror_mode": {
    "name": "ipython",
    "version": 2
   },
   "file_extension": ".py",
   "mimetype": "text/x-python",
   "name": "python",
   "nbconvert_exporter": "python",
   "pygments_lexer": "ipython2",
   "version": "2.7.6"
  }
 },
 "nbformat": 4,
 "nbformat_minor": 0
}
