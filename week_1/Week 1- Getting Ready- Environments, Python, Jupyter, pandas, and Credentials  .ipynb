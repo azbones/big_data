{
 "metadata": {
  "name": "",
  "signature": "sha256:e1e9d2a652263e4549e9be03d90c7d5ae430a1298d94df41a8e9f4257b4a8103"
 },
 "nbformat": 3,
 "nbformat_minor": 0,
 "worksheets": [
  {
   "cells": [
    {
     "cell_type": "markdown",
     "metadata": {},
     "source": [
      "#Let's Get Started\n",
      "\n",
      "Objectives: Today we are going to get our development enviroments and access environments set up and introduce you to the various tools and resources we will be using in class. This will include:\n",
      "\n",
      "* Setting up your environment with Anacoda which is the free Python distribution for data science we will be using\n",
      "* Reviewing how to install these Jupyter notebooks on the PC your team will be using to complete your assignments using GitHub\n",
      "* Setting up any accounts you will need to access cloud based analytic platforms or data sources like Twitter, Amazon AWS, or Google BigQuery\n",
      "* \n",
      "\n"
     ]
    },
    {
     "cell_type": "markdown",
     "metadata": {},
     "source": [
      "##Setting Up Your Environment\n",
      "\n",
      "Somethig,.."
     ]
    },
    {
     "cell_type": "code",
     "collapsed": false,
     "input": [
      "import tweepy"
     ],
     "language": "python",
     "metadata": {},
     "outputs": [],
     "prompt_number": 1
    }
   ],
   "metadata": {}
  }
 ]
}