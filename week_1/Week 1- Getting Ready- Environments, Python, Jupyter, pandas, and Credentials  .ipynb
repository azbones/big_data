{
 "metadata": {
  "name": "",
  "signature": "sha256:6c02f5e8b67664c9f0ce74fc36aaac9caf53a398dc2cac0866676c5169251914"
 },
 "nbformat": 3,
 "nbformat_minor": 0,
 "worksheets": [
  {
   "cells": [
    {
     "cell_type": "markdown",
     "metadata": {},
     "source": [
      "##Let's Get Started\n",
      "\n",
      "Objectives: Today we are going to get our development enviroments and access environments set up and introduce you to the various tools and resources we will be using in class. This will include:\n",
      "\n",
      "* Setting up your environment with Anacoda which is the free Python distribution for data science we will be using\n",
      "* Reviewing how to install these Jupyter notebooks on the PC your team will be using to complete your assignments using GitHub\n",
      "* Setting up any accounts you will need to access cloud based analytic platforms or data sources like Twitter, Amazon AWS, or Google BigQuery\n",
      "* \n",
      "\n"
     ]
    },
    {
     "cell_type": "markdown",
     "metadata": {},
     "source": [
      "##Setting Up Your Environment\n",
      "\n",
      "Somethig,.."
     ]
    },
    {
     "cell_type": "code",
     "collapsed": false,
     "input": [
      "import tweepy"
     ],
     "language": "python",
     "metadata": {},
     "outputs": [],
     "prompt_number": 1
    },
    {
     "cell_type": "markdown",
     "metadata": {},
     "source": [
      "## Jupyter Notebooks\n",
      "\n",
      "**Getting the Notebooks**\n",
      "\n",
      "We are using Jupyter notebooks (http://jupyter.org/) to facilitate the technical portion of our class. Jupyter notebooks also us to have an web-based, interactive Python environment were we can run code, present visualizations, and provide explantory text. We developed these notebooks using the version control system Git (https://git-scm.com/) and store them centrally at GitHub (http://github.com). The notebooks are publically **viewable** in our repository at https://github.com/azbones/big_data.  In order to run our sample code, build your own code for the assignments, answer questions in the notebook, and ultimately turn in your assignment, you will need to download the notebooks to your computer and install them. There are two ways to do this:\n",
      "\n",
      "* **Easy Way**: click on the \"download zip\" button, download the zip file, and then unzip in the directory where you will be doing your work.\n",
      "\n",
      "* **More Elite Way**: install Git on your computer and clone the GitHub directory to the directory where you will be doing your work. A review of Git is beyond the scope of this class, but you can learn more about it and GitHub here- https://help.github.com/categories/bootcamp/ By the way, as we consider out notebooks open source, you can actually contribute to making them better by starting a pull request which we will evaluate and perhaps include in the source code going forward. Learn about pull requests here- https://help.github.com/articles/creating-a-pull-request/\n",
      "\n",
      "**Running the Notebooks**\n",
      "\n",
      "\n",
      "\n"
     ]
    }
   ],
   "metadata": {}
  }
 ]
}