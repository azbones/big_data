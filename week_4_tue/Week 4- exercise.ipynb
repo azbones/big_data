{
 "cells": [
  {
   "cell_type": "markdown",
   "metadata": {},
   "source": [
    "## Week 4 Exercise\n",
    "\n",
    "**Assignment**: This exercise will use Google BigQuery to explore the GSOD weather dataset.  Specifically, you will:\n",
    "  \n",
    "* Use the <code>read_gbq</code> to retrieve data from the GSOD dataset\n",
    "* Use pandas to describe the data\n",
    "* Use SQL to return summarized data to pandas from BigQuery\n",
    "* Use <code>pivot_table</code> to display the data by month and year\n",
    "* Compare and contrast PaaS versus build it yourself analytics solutions\n",
    "* Discuss approaches to optimizing aggregation performance in a PaaS workflow\n",
    "\n",
    "For this exercise, you will have to complete all the tasks within this notebook, save the entire notebook, and then upload into the Week 1 Assignment for your group on BlackBoard. Save this notebook with a new name with the following format:\n",
    "\n",
    "**Week_3_Exercise_Group_group_number.ipynb**\n",
    "\n",
    "These in-class exercises are designed to allow you to explore Python with your group and **DO NOT** include step-by-step directions or answers that have only one possibility. Use your team and other resources to determine how best to complete them. Make sure before you turn in your notebook that it runs without errors and the requested output is visible in the notebook. If you go through multiple steps in your code, make sure all those steps are included so that we can evaluate your work."
   ]
  },
  {
   "cell_type": "markdown",
   "metadata": {},
   "source": [
    "If you wish to unpack an individual element into its own column in a new dataframe or your existing dataframe, you can use this general approach:\n",
    "\n",
    "```\n",
    "dataframe['new column'] = dataframe['column to unpack'].map(lambda tweet: tweet['key to unpack'])\n",
    "```"
   ]
  }
 ],
 "metadata": {
  "kernelspec": {
   "display_name": "Python 2",
   "language": "python",
   "name": "python2"
  },
  "language_info": {
   "codemirror_mode": {
    "name": "ipython",
    "version": 2
   },
   "file_extension": ".py",
   "mimetype": "text/x-python",
   "name": "python",
   "nbconvert_exporter": "python",
   "pygments_lexer": "ipython2",
   "version": "2.7.6"
  }
 },
 "nbformat": 4,
 "nbformat_minor": 0
}
