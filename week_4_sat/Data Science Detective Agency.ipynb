{
 "cells": [
  {
   "cell_type": "markdown",
   "metadata": {},
   "source": [
    "#IT HAD DATA WRITTEN ALL OVER IT\n",
    "\n",
    "It had been three months since you started the Python Data Science Detective Agency and all you had to show for it was your name neatly stenciled in gold on the glass window of your office door. \n",
    "\n",
    "“Playing with synthetic datasets doesn’t pay the bills,” you thought as you stared at a spider spinning a web in the corner. “I need to get a case.”\n",
    "\n",
    "Just as your feet slid off your desk to call it a night, a woman dressed in black threw open your door asking, “Are you still open?  I need your help!”\n",
    "\n",
    "“Well, I do have quite a number of other cases...” you said, trying not let on to how slow things had been.\n",
    "\n",
    "“Every person I’ve talked to says you are the only person that can help me. I’ll pay whatever you want!” she said.\n",
    "\n",
    "“Whatever I want, you say? Sure, I’ll take the job,” you concluded.\n",
    "\n",
    "After the woman in black had calmed down, she related how she was worried about her husband. The crux of her problem was he had been spending more and more time away from home and had increasingly strange reasons for why he was away. The breaking point for her was when he said he had to spend the entire Fourth of July holiday at the office. He left at 5am and didn’t get back until almost 8pm. While she was running errands that day, she happened to walk by his office only to notice the parking lot was completely empty. Later, when he did get home, he immediately went into his office and began doing something with a microSD card. After he went to bed that night, she made a copy of the single file on the card named “data.zip”.\n",
    "\n",
    "“I’m worried he might be selling secrets to his competitors,” she said finally. “What else would he be doing with a file called “data” on a holiday weekend?” \n",
    "\n",
    "“Leave the file with me and I’ll look into it and get back to you,” you said.\n",
    "\n",
    "“I can’t thank you enough!” she said as she left you alone with the file and the spider.\n",
    "\n",
    "“Well, I wanted a case,” you thought. “I just wish I had more to go on than a single file.”\n",
    "\n",
    "With that, you grabbed a Mountain Dew from the noisy little refrigerator under your desk and transferred the file to your GitHub repository in the 'datasets' folder for Week 4- Saturday.\n",
    "\n",
    "**INSTRUCTIONS**: *Using just Python and your preferred text editor (no using non-data science tools like Excel) analyze the file to develop a hypothesis about what the woman in black’s husband had been doing. The file is located in the datasets folder. Use statistics and visualizations to support your hypothesis. Use the Internet for research. Capture all of your notes and analysis in the Week 4 Saturday- Exercise notebook*"
   ]
  }
 ],
 "metadata": {
  "kernelspec": {
   "display_name": "Python 2",
   "language": "python",
   "name": "python2"
  },
  "language_info": {
   "codemirror_mode": {
    "name": "ipython",
    "version": 2
   },
   "file_extension": ".py",
   "mimetype": "text/x-python",
   "name": "python",
   "nbconvert_exporter": "python",
   "pygments_lexer": "ipython2",
   "version": "2.7.6"
  }
 },
 "nbformat": 4,
 "nbformat_minor": 0
}
