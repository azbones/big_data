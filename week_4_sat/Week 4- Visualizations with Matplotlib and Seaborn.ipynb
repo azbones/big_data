{
 "cells": [
  {
   "cell_type": "markdown",
   "metadata": {},
   "source": [
    "# Week 4 (Saturday)- More Visualization and Detective Work\n",
    "\n",
    "**Objectives**: Today we are going to review visualization approaches and solve a mystery using data science. Specifically, we will cover the following:\n",
    "  \n",
    "* Different visulization tools\n",
    "* Review Python's Matplotlib in more detail\n",
    "* Conduct an analysis as part of the Data Science Detective Agency\n",
    "* Present your analysis to the class"
   ]
  },
  {
   "cell_type": "markdown",
   "metadata": {},
   "source": [
    "## Data Visualization Tools\n",
    "\n",
    "Visulization is an indispencible tool in data science. While most patterns and results can be described mathmatically, visuals are often best for developing an intutive understanding of the meaning behind the data. When presenting data science results, visuals are often the only tool that can be used with a general audience that lacks an analytical background.\n",
    "\n",
    "Most data scientists use a variety of visualization approaches and tools. Depending on the task at hand, some are better tools than others. The following represent a sample of some of the more common tools.\n",
    "\n",
    "**Commercial Visualization Products**\n",
    "\n",
    "These products are a category of easier to use tools that require little programming experience, but offer robust visualization.\n",
    "\n",
    "* **[Tableau](http://www.tableau.com/products/desktop):** Tableau is a popular choice for data exploration and analysis.\n",
    "* **[SpotFire](http://spotfire.tibco.com/products/spotfire-desktop):** Spotfire is similar to Tableau.\n",
    "\n",
    "**Commercial Analytics Products**\n",
    "\n",
    "Most statistics and technical computing products also have robust visualization.\n",
    "\n",
    "* **[SPSS](http://www-01.ibm.com/software/analytics/spss/):** SPSS is a popular statistics and modeling software.\n",
    "* **[SAS](http://www.sas.com/en_us/software/sas9.html):** SAS is another popular analytics package that is newly positioned as a tool for data scientists.\n",
    "* **[Matlab](http://www.mathworks.com/products/matlab/):** Matlab is a popular tool in engineering and the sciences.\n",
    "* **[Mathematica](https://www.wolfram.com/mathematica/):** Mathematica is another technical computing solution used in engineering and the sciences.\n",
    "\n",
    "**Web Technologies**\n",
    "\n",
    "* **[D3](http://d3js.org/):** D3 is a Javascript library which enables web based visulizations using HTML elements like SVG and CSS. \n",
    "\n",
    "**Programmatic Visualization APIs**\n",
    "\n",
    "* **[Plotly](https://plot.ly/):** Plotly is a web-based visualization solution that recently open sourced it's Python Javascript library. Plotly focuses on interactive plots unlike Matplotlib, ggplot(R plotting), and Matlab which tend to be more static.\n",
    "\n",
    "**Programming Libraries**\n",
    "\n",
    "* **[Matplotlib](http://matplotlib.org/):** Modeled after Matlab, Matplotlib is the standard for Python scientific visualizations.\n",
    "* **[ggplot2](http://docs.ggplot2.org/current/):** ggplot2 is the standard plotting library for R. \n",
    "\n",
    "\n",
    "\n",
    "\n",
    "\n"
   ]
  },
  {
   "cell_type": "markdown",
   "metadata": {},
   "source": [
    "##Matplotlib\n",
    "\n",
    "In today's lab, we are going to review Matplotlib in more detail. There are a variety of open tutorials including:\n",
    "\n",
    "* http://www.labri.fr/perso/nrougier/teaching/matplotlib/\n",
    "* http://jakevdp.github.io/mpl_tutorial/tutorial_pages/tut1.html\n",
    "\n",
    "**Plotting Environment**\n",
    "\n",
    "When using Jupyter/IPython, there are several parameters that establish where and how your plots will display before you even begin to plot data.\n",
    "\n",
    "Matplotlib has two general modes within Jupyter/IPython notebooks and consoles:\n",
    "\n",
    "* Inline plots: display the plots under the code you are running within the notebook or console\n",
    "* Interactive windows: display the plots is the seperate Matplotlib backend window\n",
    "\n",
    "These modes are called by using the Matplotlib magic without a parameter for interactive windows\n",
    "\n",
    "<code>%matplotlib</code> (interactive) \n",
    "\n",
    "or specifying inline plots via \n",
    "\n",
    "<code>%matplotlib inline</code>\n",
    "\n",
    "It is possible to switch back and forth between modes in notebooks and consoles, but occasionally it may be necessary to restart the kernel, so it is best to stick with one or the other. I prefer interactive mode when creating plots for anything outside a notebook as it is easy to resize and save the image for import into presentations and the like.\n",
    "\n",
    "There are a whole range of default setting for Matplotlib that are contained within the <code>matplotlibrc</code> file. When you import Matplotlib, you can access these setting via a dictionary attribute in <code>matplotlib.rcParams</code>.\n",
    "\n",
    "For this notebook, we will be plotting inline, so we set that up in the next codeblock along with a default figure size in inches."
   ]
  },
  {
   "cell_type": "code",
   "execution_count": null,
   "metadata": {
    "collapsed": false
   },
   "outputs": [],
   "source": [
    "import matplotlib as mpl\n",
    "%matplotlib inline\n",
    "mpl.rcParams['figure.figsize'] = (10.0, 10.0)"
   ]
  },
  {
   "cell_type": "markdown",
   "metadata": {},
   "source": [
    "Try accessing the <code>rcParams</code> attribue to see the default settings in the next codeblock."
   ]
  },
  {
   "cell_type": "code",
   "execution_count": null,
   "metadata": {
    "collapsed": false
   },
   "outputs": [],
   "source": [
    "# Print rcParams\n"
   ]
  },
  {
   "cell_type": "markdown",
   "metadata": {},
   "source": [
    "Next, let's import <code>pyplot</code> which is the state machine interface to the Matplotlib library. The state machine allows us to iteratively create a plot by successive function calls that define different elements of the plot.\n",
    "\n",
    "We will also import <code>pandas</code> and read in the iris dataset."
   ]
  },
  {
   "cell_type": "code",
   "execution_count": null,
   "metadata": {
    "collapsed": false
   },
   "outputs": [],
   "source": [
    "from matplotlib import pyplot as plt\n",
    "import pandas as pd\n",
    "\n",
    "df = pd.DataFrame.from_csv('datasets/iris_data.csv', index_col=4)"
   ]
  },
  {
   "cell_type": "markdown",
   "metadata": {},
   "source": [
    "<code>pandas</code> has several built in plotting functions that allow you to call plots on the dataframe versus using the dataframe as a parameter of <code>pyplot</code>.  The following codeblocks will demonstrate both approaches."
   ]
  },
  {
   "cell_type": "code",
   "execution_count": null,
   "metadata": {
    "collapsed": false
   },
   "outputs": [],
   "source": [
    "# Plot using pandas dataframe function\n",
    "\n",
    "df.plot()"
   ]
  },
  {
   "cell_type": "code",
   "execution_count": null,
   "metadata": {
    "collapsed": false
   },
   "outputs": [],
   "source": [
    "# Plot using pyplot\n",
    "\n",
    "plt.plot(df)"
   ]
  },
  {
   "cell_type": "markdown",
   "metadata": {},
   "source": [
    "While the plots use the same data, the <code>pandas</code> function conviently adds additional element to the plot based on the dataframe structure inlcuding the column names and index. Both methods use matplotlib on the backend. Links to both sets of documentation are below:\n",
    "\n",
    "* **pandas plotting:** http://pandas.pydata.org/pandas-docs/stable/visualization.html\n",
    "* **Pyplot plotting:** http://matplotlib.org/users/pyplot_tutorial.html\n",
    "\n",
    "Next, we will go through several different examples. Keep in mind that given the <code>pandas</code> approach uses Matplotlib, the two approaches can work together."
   ]
  },
  {
   "cell_type": "code",
   "execution_count": null,
   "metadata": {
    "collapsed": false
   },
   "outputs": [],
   "source": [
    "# Creates a figure and plots a scatter plot on x and y inputs\n",
    "df.plot(kind='scatter', x='sepal_length', y='sepal_width', color='DarkBlue')\n",
    "\n",
    "# Provides title for plot\n",
    "plt.title('Sepal Length vs. Sepal Width') "
   ]
  },
  {
   "cell_type": "markdown",
   "metadata": {},
   "source": [
    "This last example plotting all the data points regardless of the index group.  To plot each group with a different color, you need to first set up an <code>ax</code> object which is the container for all the plot details. This method uses a dataframe slice to send only the relevant data to each subplot which occupies the same space. Each of these calls defines the label and color and for each subsequent call defines the object <code>ax</code> as the object for the subplots.\n",
    "\n",
    "To make this more clear, we are going to switch to interactive mode. Restart the kernel, read the data back into a dataframe and run each of the following code blocks and observe the plot output."
   ]
  },
  {
   "cell_type": "code",
   "execution_count": null,
   "metadata": {
    "collapsed": false
   },
   "outputs": [],
   "source": [
    "# Swtich to interactive plotting\n",
    "%matplotlib"
   ]
  },
  {
   "cell_type": "code",
   "execution_count": null,
   "metadata": {
    "collapsed": false
   },
   "outputs": [],
   "source": [
    "# Set up figure object and plot first data group\n",
    "ax = df.ix['Iris-setosa'].plot(kind='scatter', x='sepal_length', y='sepal_width', color='DarkBlue', label='Iris-setosa')"
   ]
  },
  {
   "cell_type": "code",
   "execution_count": null,
   "metadata": {
    "collapsed": false
   },
   "outputs": [],
   "source": [
    "# Add second group subplot to ax object and plot\n",
    "df.ix['Iris-virginica'].plot(kind='scatter', x='sepal_length', y='sepal_width', color='Green', label='Iris-virginica', ax=ax)"
   ]
  },
  {
   "cell_type": "code",
   "execution_count": null,
   "metadata": {
    "collapsed": false
   },
   "outputs": [],
   "source": [
    "# Add third group subplot to ax object and plot\n",
    "df.ix['Iris-versicolor'].plot(kind='scatter', x='sepal_length', y='sepal_width', color='Red', label='Iris-versicolor', ax=ax)"
   ]
  },
  {
   "cell_type": "code",
   "execution_count": null,
   "metadata": {
    "collapsed": false
   },
   "outputs": [],
   "source": [
    "# Provides title for plot\n",
    "plt.title('Sepal Length vs. Sepal Width')"
   ]
  },
  {
   "cell_type": "markdown",
   "metadata": {},
   "source": [
    "Next, let's use the <code>plt</code> style plotting to construct a histogram of our data. Histograms are a useful way to view the dispersion of a distribution of datapoints."
   ]
  },
  {
   "cell_type": "code",
   "execution_count": null,
   "metadata": {
    "collapsed": false
   },
   "outputs": [],
   "source": [
    "plt.figure('hist #1')\n",
    "plt.title('Petal Length with 50 Bins')\n",
    "plt.hist(df['petal_length'], bins=50)"
   ]
  },
  {
   "cell_type": "markdown",
   "metadata": {},
   "source": [
    "Change the code in the codeblock above to create a plot of petal width and rerun. Note that the value for <code>bins</code> can be an important component of how the histogram appears and has been critized as a method given larger bins might obscure the underlying distribution.\n",
    "\n",
    "Kernel Density Estimation is an alternative approach to visualizing distributions.\n",
    "\n",
    "* https://en.wikipedia.org/wiki/Kernel_density_estimation\n",
    "\n",
    "<code>pandas</code> has a built in method for this as well, but the scikit-learn package is much more robust. The following link details this package and some of the problems of histograms.\n",
    "\n",
    "* http://scikit-learn.org/stable/modules/density.html"
   ]
  },
  {
   "cell_type": "code",
   "execution_count": 52,
   "metadata": {
    "collapsed": false
   },
   "outputs": [
    {
     "data": {
      "text/plain": [
       "<matplotlib.axes._subplots.AxesSubplot at 0x2f0465c0>"
      ]
     },
     "execution_count": 52,
     "metadata": {},
     "output_type": "execute_result"
    }
   ],
   "source": [
    "df['petal_length'].plot(kind='kde')"
   ]
  },
  {
   "cell_type": "markdown",
   "metadata": {},
   "source": [
    "As you might guess, the <code>kind</code> parameter in the <code>pandas</code> style plotting allow you to define many other options including line, bar, and pie."
   ]
  },
  {
   "cell_type": "markdown",
   "metadata": {},
   "source": [
    "For multidimensional data like the iris dataset, a scatter matrix is an excellent way to visualize the correlation between variables. <code>pandas</code> has a built in function which is easy to apply to our dataset. Run the code in the next codeblock."
   ]
  },
  {
   "cell_type": "code",
   "execution_count": 53,
   "metadata": {
    "collapsed": false
   },
   "outputs": [
    {
     "data": {
      "text/plain": [
       "array([[<matplotlib.axes._subplots.AxesSubplot object at 0x000000002F0403C8>,\n",
       "        <matplotlib.axes._subplots.AxesSubplot object at 0x000000002EF820F0>,\n",
       "        <matplotlib.axes._subplots.AxesSubplot object at 0x0000000030ACB390>,\n",
       "        <matplotlib.axes._subplots.AxesSubplot object at 0x0000000030CA2630>],\n",
       "       [<matplotlib.axes._subplots.AxesSubplot object at 0x000000002F6E9240>,\n",
       "        <matplotlib.axes._subplots.AxesSubplot object at 0x0000000030AB9AC8>,\n",
       "        <matplotlib.axes._subplots.AxesSubplot object at 0x000000002F1ED2B0>,\n",
       "        <matplotlib.axes._subplots.AxesSubplot object at 0x000000003057FA20>],\n",
       "       [<matplotlib.axes._subplots.AxesSubplot object at 0x000000002F2F44A8>,\n",
       "        <matplotlib.axes._subplots.AxesSubplot object at 0x00000000308F6F98>,\n",
       "        <matplotlib.axes._subplots.AxesSubplot object at 0x000000002F0738D0>,\n",
       "        <matplotlib.axes._subplots.AxesSubplot object at 0x000000002EAD84E0>],\n",
       "       [<matplotlib.axes._subplots.AxesSubplot object at 0x000000002EC47160>,\n",
       "        <matplotlib.axes._subplots.AxesSubplot object at 0x00000000304BD4A8>,\n",
       "        <matplotlib.axes._subplots.AxesSubplot object at 0x000000002F1A7E10>,\n",
       "        <matplotlib.axes._subplots.AxesSubplot object at 0x000000002F99F2B0>]], dtype=object)"
      ]
     },
     "execution_count": 53,
     "metadata": {},
     "output_type": "execute_result"
    }
   ],
   "source": [
    "from pandas.tools.plotting import scatter_matrix\n",
    "\n",
    "scatter_matrix(df)"
   ]
  },
  {
   "cell_type": "code",
   "execution_count": null,
   "metadata": {
    "collapsed": false
   },
   "outputs": [],
   "source": [
    "import numpy as np\n",
    "import pandas as pd\n",
    "import seaborn as sns\n",
    "sns.set(style=\"white\")\n",
    "\n",
    "df = pd.DataFrame.from_csv('datasets/iris_data.csv', index_col=4)\n",
    "\n",
    "sepal_plot = sns.jointplot(df['sepal_length'],df['sepal_width'], kind='kde', size=7, space=0)\n",
    "petal_plot = sns.jointplot(df['petal_length'],df['petal_width'], kind='kde', size=7, space=0)\n",
    "\n"
   ]
  }
 ],
 "metadata": {
  "kernelspec": {
   "display_name": "Python 2",
   "language": "python",
   "name": "python2"
  },
  "language_info": {
   "codemirror_mode": {
    "name": "ipython",
    "version": 2
   },
   "file_extension": ".py",
   "mimetype": "text/x-python",
   "name": "python",
   "nbconvert_exporter": "python",
   "pygments_lexer": "ipython2",
   "version": "2.7.10"
  }
 },
 "nbformat": 4,
 "nbformat_minor": 0
}
