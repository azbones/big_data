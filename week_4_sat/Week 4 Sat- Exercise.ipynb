{
 "cells": [
  {
   "cell_type": "markdown",
   "metadata": {},
   "source": [
    "# Week 4 (Saturday)- Exercise\n",
    "\n",
    "**Assignment**: This exercise will test your ability to analyze data without context. It will require you to do research outside the dataset in order to arrive at a probable conclusion. Specifically, you will:\n",
    "  \n",
    "* Read the Data Science Detective Agency notebook in this week's folder\n",
    "* Act as data science detectives to solve the case\n",
    "* Use only Python and a text editor (like Sublime Text 2) for your analysis tools (no Excel)\n",
    "* Conduct research on the Internet as required\n",
    "* Present your findings to the class\n",
    "\n",
    "For this exercise, you should use your notebook to present your analysis and findings to the class. Also, be sure to save the notebook and upload it into the Week 4 Saturday Assignment for your group on BlackBoard. Save this notebook with a new name with the following format:\n",
    "\n",
    "**Week_4_Sat_Exercise_Group_group_number.ipynb**\n",
    "\n",
    "These in-class exercises are designed to allow you to explore Python with your group and **DO NOT** include step-by-step directions or answers that have only one possibility. Use your team and other resources to determine how best to complete them. Make sure before you turn in your notebook that it runs without errors and the requested output is visible in the notebook. If you go through multiple steps in your code, make sure all those steps are included so that we can evaluate your work."
   ]
  },
  {
   "cell_type": "markdown",
   "metadata": {},
   "source": [
    "## Detectives Notebook\n",
    "\n",
    "Use this notebook to conduct your analysis, present visualizations, link to relevant sources, and provide commentary on the case."
   ]
  },
  {
   "cell_type": "code",
   "execution_count": null,
   "metadata": {
    "collapsed": true
   },
   "outputs": [],
   "source": [
    "# Use this cell to import your properly formatted data file \n",
    "# Column headers and data only- look at the whole file!\n",
    "\n",
    "import pandas as pd\n",
    "\n",
    "df = pd.DataFrame.from_csv('file name', index_col=None)"
   ]
  },
  {
   "cell_type": "code",
   "execution_count": null,
   "metadata": {
    "collapsed": false
   },
   "outputs": [],
   "source": [
    "# Explore data\n",
    "\n",
    "df"
   ]
  },
  {
   "cell_type": "code",
   "execution_count": null,
   "metadata": {
    "collapsed": true
   },
   "outputs": [],
   "source": [
    "import matplotlib as mpl\n",
    "from matplotlib import pyplot as plt\n",
    "%matplotlib inline\n",
    "mpl.rcParams['figure.figsize'] = (10.0, 10.0)"
   ]
  },
  {
   "cell_type": "code",
   "execution_count": null,
   "metadata": {
    "collapsed": false
   },
   "outputs": [],
   "source": [
    "# Use this cell to plot things\n",
    "\n",
    "plt.plot(df['column name'])\n",
    "plt.plot(df['column name'])"
   ]
  }
 ],
 "metadata": {
  "kernelspec": {
   "display_name": "Python 2",
   "language": "python",
   "name": "python2"
  },
  "language_info": {
   "codemirror_mode": {
    "name": "ipython",
    "version": 2
   },
   "file_extension": ".py",
   "mimetype": "text/x-python",
   "name": "python",
   "nbconvert_exporter": "python",
   "pygments_lexer": "ipython2",
   "version": "2.7.11"
  }
 },
 "nbformat": 4,
 "nbformat_minor": 0
}
