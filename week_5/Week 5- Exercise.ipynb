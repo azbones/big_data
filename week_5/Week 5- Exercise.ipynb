{
 "cells": [
  {
   "cell_type": "markdown",
   "metadata": {},
   "source": [
    "# Week 5 Exercise\n",
    "\n",
    "**Assignment**: This exercise will introduce machine learning and you will work on both supervised and unsupervised problems. Specifically, your group will have to complete the following:\n",
    "  \n",
    "* Explore model fit visually\n",
    "* Read in the iris dataset\n",
    "* Fit training data to the KNN model\n",
    "* Test the model performance with a holdout sample\n",
    "* Report on your model accuracy\n",
    "\n",
    "\n",
    "For this exercise, you will have to complete all the tasks within this notebook, save the entire notebook, and then upload into the Week 1 Assignment for your group on BlackBoard. Save this notebook with a new name with the following format:\n",
    "\n",
    "**Week_1_Exercise_Group_group_number.ipynb**\n",
    "\n",
    "These in-class exercises are designed to allow you to explore Python with your group and **DO NOT** include step-by-step directions or answers that have only one possibility. Use your team and other resources to determine how best to complete them. Make sure before you turn in your notebook that it runs without errors and the requested output is visible in the notebook. If you go through multiple steps in your code, make sure all those steps are included so that we can evaluate your work."
   ]
  },
  {
   "cell_type": "markdown",
   "metadata": {},
   "source": [
    "## Supervised Learning\n",
    "\n",
    "**Model Fit**\n",
    "\n",
    "Using the code from this week's workbook, reproduce the plot of the 2 feature synthetic dataset with 1 neighbor. In the same code block, refit the model with more neighbors and replot the feature space."
   ]
  },
  {
   "cell_type": "code",
   "execution_count": null,
   "metadata": {
    "collapsed": true
   },
   "outputs": [],
   "source": [
    "# CODING TASK #1\n",
    "\n",
    "# Take code from this week's notebook and use KNN to plot feature synthentic data \n",
    "# feature space with 1 neighbor. In this same block, refit the model with more \n",
    "# neighbors and replot to represent how models can be overfit.\n",
    "\n"
   ]
  },
  {
   "cell_type": "markdown",
   "metadata": {},
   "source": [
    "## Written Response 1\n",
    "(Enter Your Response in This Cell)\n",
    "\n",
    "* What is model fit?\n",
    "\n",
    "* How do the plots you made above demonstrate overfit?"
   ]
  },
  {
   "cell_type": "markdown",
   "metadata": {},
   "source": [
    "**KNN Model for Iris Data with Validation**\n",
    "\n",
    "Next, read the iris dataset into a dataframe from the datasets folder and build a KNN predictor.  Specifically, do the following:\n",
    "\n",
    "* Use the sample <code>numpy</code> code below to build a training dataset with 60% of the values and a test dataset with the remaining 40%\n",
    "\n",
    "```\n",
    "mask = np.random.rand(len(df)) < 0.6\n",
    "training = df[mask]\n",
    "testing = df[~mask]\n",
    "```\n",
    "\n",
    "* Build a KNN model with the training data\n",
    "* Use the KNN model to predict the values of the training set\n",
    "* Calculate the accuracy of the model using the predictions versus actual values"
   ]
  },
  {
   "cell_type": "code",
   "execution_count": null,
   "metadata": {
    "collapsed": true
   },
   "outputs": [],
   "source": [
    "# CODING TASK #2\n",
    "\n",
    "# Use KNN to build and test model with Iris dataset and a 40% holdout sample.\n",
    "# Calculate accuracy of model."
   ]
  },
  {
   "cell_type": "markdown",
   "metadata": {},
   "source": [
    "## Written Response 2\n",
    "(Enter Your Response in This Cell)\n",
    "\n",
    "* How accurate was your model in predicting values in the holdout?\n",
    "* Regardless of its accuracy, how could you improve your model at making predicitons?\n",
    "* How did you decide on your k value?"
   ]
  }
 ],
 "metadata": {
  "kernelspec": {
   "display_name": "Python 2",
   "language": "python",
   "name": "python2"
  },
  "language_info": {
   "codemirror_mode": {
    "name": "ipython",
    "version": 2
   },
   "file_extension": ".py",
   "mimetype": "text/x-python",
   "name": "python",
   "nbconvert_exporter": "python",
   "pygments_lexer": "ipython2",
   "version": "2.7.6"
  }
 },
 "nbformat": 4,
 "nbformat_minor": 0
}
