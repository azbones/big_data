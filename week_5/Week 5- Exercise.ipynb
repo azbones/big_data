{
 "cells": [
  {
   "cell_type": "markdown",
   "metadata": {},
   "source": [
    "# Week 5 Exercise\n",
    "\n",
    "**Assignment**: This exercise will explore applications of machine learning. Specifically, your group will have to complete the following:\n",
    "  \n",
    "* Describe model fit\n",
    "* Describe applications for supervised learning\n",
    "* Describe applications for unsupervised learning\n",
    "* Hypothesize on potential cluster groupings\n",
    "* Comment on the future of machine learning\n",
    "\n",
    "\n",
    "For this exercise, you will have to complete all the tasks within this notebook, save the entire notebook, and then upload into the Week 5 Assignment for your group on BlackBoard. Save this notebook with a new name with the following format:\n",
    "\n",
    "**Week_5_Exercise_Group_group_number.ipynb**\n",
    "\n",
    "These in-class exercises are designed to allow you to explore Python with your group and **DO NOT** include step-by-step directions or answers that have only one possibility. Use your team and other resources to determine how best to complete them. Make sure before you turn in your notebook that it runs without errors and the requested output is visible in the notebook. If you go through multiple steps in your code, make sure all those steps are included so that we can evaluate your work."
   ]
  },
  {
   "cell_type": "markdown",
   "metadata": {},
   "source": [
    "## Supervised Learning"
   ]
  },
  {
   "cell_type": "markdown",
   "metadata": {},
   "source": [
    "## Written Response 1\n",
    "(Enter Your Response in This Cell)\n",
    "\n",
    "* What is \"model fit\" and why is it important when interpreting output from models like those in supervised machine learning?\n",
    "\n",
    "* How might \"model fit\" and \"overfitting\" lead to inaccurate interpretations (use an example)?"
   ]
  },
  {
   "cell_type": "markdown",
   "metadata": {},
   "source": [
    "## Written Response 2\n",
    "(Enter Your Response in This Cell)\n",
    "\n",
    "* What are some examples from your work where supervised learning could be applied?\n",
    "* What benefit would machine learning have over simple reports of frequency for the same data?"
   ]
  },
  {
   "cell_type": "markdown",
   "metadata": {},
   "source": [
    "## Unsupervised Learning"
   ]
  },
  {
   "cell_type": "markdown",
   "metadata": {},
   "source": [
    "## Written Response 3\n",
    "(Enter Your Response in This Cell)\n",
    "\n",
    "* How could unsupervised learning be used by the Pokémon Company to group users using Twitter data?\n",
    "* What value would user groups have for the company overall and functions like marketing?"
   ]
  },
  {
   "cell_type": "markdown",
   "metadata": {},
   "source": [
    "## Written Response 4\n",
    "(Enter Your Response in This Cell)\n",
    "\n",
    "* Without running any analyses, what types of useful user groups do you think the Pokémon Company might find if they were to run a machine learning clustering analysis on Twitter data?"
   ]
  },
  {
   "cell_type": "markdown",
   "metadata": {},
   "source": [
    "## Written Response 5\n",
    "(Enter Your Response in This Cell)\n",
    "\n",
    "Artificial intelligence and the general idea of machine learning is a field that has been around since 1955. \n",
    "\n",
    "* Why do you think ML has attracted so much more attention and investment in the past 10 years compared to the previous 50?"
   ]
  },
  {
   "cell_type": "markdown",
   "metadata": {},
   "source": [
    "## Written Response 6\n",
    "(Enter Your Response in This Cell)\n",
    "\n",
    "* How important do you think machine learning is for the future of data science and analytics (support your answer with examples and data as appropriate)?"
   ]
  }
 ],
 "metadata": {
  "kernelspec": {
   "display_name": "Python 2",
   "language": "python",
   "name": "python2"
  },
  "language_info": {
   "codemirror_mode": {
    "name": "ipython",
    "version": 2
   },
   "file_extension": ".py",
   "mimetype": "text/x-python",
   "name": "python",
   "nbconvert_exporter": "python",
   "pygments_lexer": "ipython2",
   "version": "2.7.11"
  }
 },
 "nbformat": 4,
 "nbformat_minor": 0
}
