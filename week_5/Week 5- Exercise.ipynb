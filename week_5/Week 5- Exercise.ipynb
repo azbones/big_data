{
 "cells": [
  {
   "cell_type": "markdown",
   "metadata": {},
   "source": [
    "# Week 5 Exercise\n",
    "\n",
    "**Assignment**: This exercise will introduce machine learning and you will work on both supervised and unsupervised problems. Specifically, your group will have to complete the following:\n",
    "  \n",
    "* Explore model fit visually\n",
    "* Read in the iris dataset\n",
    "* Fit training data to the KNN model\n",
    "* Test the model performance with a holdout sample\n",
    "* Report on your model accuracy\n",
    "* Conduct a k-means cluster analysis on Twitter data\n",
    "* Analyze the results of your clusters\n",
    "\n",
    "\n",
    "For this exercise, you will have to complete all the tasks within this notebook, save the entire notebook, and then upload into the Week 1 Assignment for your group on BlackBoard. Save this notebook with a new name with the following format:\n",
    "\n",
    "**Week_5_Exercise_Group_group_number.ipynb**\n",
    "\n",
    "These in-class exercises are designed to allow you to explore Python with your group and **DO NOT** include step-by-step directions or answers that have only one possibility. Use your team and other resources to determine how best to complete them. Make sure before you turn in your notebook that it runs without errors and the requested output is visible in the notebook. If you go through multiple steps in your code, make sure all those steps are included so that we can evaluate your work."
   ]
  },
  {
   "cell_type": "markdown",
   "metadata": {},
   "source": [
    "## Supervised Learning\n",
    "\n",
    "**Model Fit**\n",
    "\n",
    "Using the code from this week's workbook, reproduce the plot of the 2 feature synthetic dataset with 1 neighbor. In the same code block, refit the model with more neighbors and replot the feature space."
   ]
  },
  {
   "cell_type": "code",
   "execution_count": null,
   "metadata": {
    "collapsed": true
   },
   "outputs": [],
   "source": [
    "# CODING TASK #1\n",
    "\n",
    "# Take code from this week's notebook and use KNN to plot feature synthentic data \n",
    "# feature space with 1 neighbor. In this same block, refit the model with more \n",
    "# neighbors and replot to represent how models can be overfit.\n",
    "\n"
   ]
  },
  {
   "cell_type": "markdown",
   "metadata": {},
   "source": [
    "## Written Response 1\n",
    "(Enter Your Response in This Cell)\n",
    "\n",
    "* What is model fit?\n",
    "\n",
    "* How do the plots you made above demonstrate overfit?"
   ]
  },
  {
   "cell_type": "markdown",
   "metadata": {},
   "source": [
    "**KNN Model for Iris Data with Validation**\n",
    "\n",
    "Next, read the iris dataset into a dataframe from the datasets folder and build a KNN predictor.  Specifically, do the following:\n",
    "\n",
    "* Use the sample <code>numpy</code> code below to build a training dataset with 60% of the values and a test dataset with the remaining 40%\n",
    "\n",
    "```\n",
    "mask = np.random.rand(len(df)) < 0.6\n",
    "training = df[mask]\n",
    "testing = df[~mask]\n",
    "```\n",
    "\n",
    "* Build a KNN model with the training data\n",
    "* Use the KNN model to predict the values of the training set\n",
    "* Calculate the accuracy of the model using the predictions versus actual values"
   ]
  },
  {
   "cell_type": "code",
   "execution_count": null,
   "metadata": {
    "collapsed": true
   },
   "outputs": [],
   "source": [
    "# CODING TASK #2\n",
    "\n",
    "# Use KNN to build and test model with Iris dataset and a 40% holdout sample.\n",
    "# Calculate accuracy of model."
   ]
  },
  {
   "cell_type": "markdown",
   "metadata": {},
   "source": [
    "## Written Response 2\n",
    "(Enter Your Response in This Cell)\n",
    "\n",
    "* How accurate was your model in predicting values in the holdout?\n",
    "* Regardless of its accuracy, how could you improve your model at making predicitons?\n",
    "* How did you decide on your k value?"
   ]
  },
  {
   "cell_type": "markdown",
   "metadata": {},
   "source": [
    "## Unsupervised Learning\n",
    "\n",
    "**K-Means Clustering on Twitter User Profiles**\n",
    "\n",
    "This next section requires you to not only build a k-means model, but also to determine what data to use in the model. We will be using the Twitter data that we examined earlier that was collected via the streaming API for tweets with \"Pokemon\" in the text of the tweet. The dataset you will use is a subset of the total tweet dataset in that it only contains the user profiles of the users for those tweets. \n",
    "\n",
    "Practically, you could be in the Nintendo marketing department and interested in exploring who the people are that tweet about Pokémon. Clustering is one way to create user segments."
   ]
  },
  {
   "cell_type": "markdown",
   "metadata": {},
   "source": [
    "**Read in the Data**\n",
    "\n",
    "To streamline this exercise, I have created a pickle file that you can read directly into a dataframe. A pickle file is a serialized verison of the Python object that was saved to a file- https://docs.python.org/2/library/pickle.html.\n",
    "\n",
    "The code to read a pickle file into a dataframe is generally:\n",
    "\n",
    "```\n",
    "df = pandas.read_pickle(filename)\n",
    "```\n",
    "Once you have read in the dataframe, explore the features to pick those you think could be useful for clustering. List the features and rationale for selecting them in the textblock below."
   ]
  },
  {
   "cell_type": "markdown",
   "metadata": {},
   "source": [
    "## Written Response 3\n",
    "(Enter Your Response in This Cell)\n",
    "\n",
    "* Which features did you select?\n",
    "* Why did you select these features?"
   ]
  },
  {
   "cell_type": "markdown",
   "metadata": {},
   "source": [
    "**Visualize the Dataset**\n",
    "\n",
    "Plot the features you plan to use in your cluster analysis using code from this week's notebook.\n",
    "\n",
    ">Hint 1: linear scales may not work well for some visualizations.\n",
    "\n",
    ">Hint 2: non-linear transformations do not work for all values which may require replacement.\n"
   ]
  },
  {
   "cell_type": "code",
   "execution_count": null,
   "metadata": {
    "collapsed": true
   },
   "outputs": [],
   "source": [
    "# CODING TASK #3\n",
    "\n",
    "# Plot your feature data."
   ]
  },
  {
   "cell_type": "markdown",
   "metadata": {},
   "source": [
    "## Written Response 4\n",
    "(Enter Your Response in This Cell)\n",
    "\n",
    "Are there any distinct clusters in your data?"
   ]
  },
  {
   "cell_type": "markdown",
   "metadata": {},
   "source": [
    "**K-Means Model**\n",
    "\n",
    "Next, use your features and the code from this week's notebook to build and fit your data with the scikit-learn k-mean function. Use an elbow chart to decide on your k value."
   ]
  },
  {
   "cell_type": "code",
   "execution_count": 7,
   "metadata": {
    "collapsed": false
   },
   "outputs": [],
   "source": [
    "# CODING TASK #4\n",
    "\n",
    "# Use k-means to build a cluster analysis for your chosen features.\n",
    "# Build an elbow chart to decide on your k value."
   ]
  },
  {
   "cell_type": "markdown",
   "metadata": {},
   "source": [
    "**Visualize the Clusters**\n",
    "\n",
    "Plot the clusters using colors to define cluster membership and blue x's to signify cluster centers using code from this week's notebook.\n",
    "\n",
    ">Hint 1: linear scales may not work well for some visualizations.\n",
    "\n",
    ">Hint 2: non-linear transformations do not work for all values which may require replacement.\n"
   ]
  },
  {
   "cell_type": "code",
   "execution_count": 7,
   "metadata": {
    "collapsed": false
   },
   "outputs": [],
   "source": [
    "# CODING TASK #5\n",
    "\n",
    "# Plot your feature data and color code each cluster with your chosen k value."
   ]
  },
  {
   "cell_type": "markdown",
   "metadata": {},
   "source": [
    "## Written Response 5\n",
    "(Enter Your Response in This Cell)\n",
    "\n",
    "* Are the clusters you generated useful for dividing the Pokémon tweeters into user segments?\n",
    "* How might you build a model that is more useful to Nintendo?"
   ]
  },
  {
   "cell_type": "markdown",
   "metadata": {},
   "source": [
    "## Written Response 6\n",
    "(Enter Your Response in This Cell)\n",
    "\n",
    "* How important do you think machine learning is for the future of data science and analytics (support your answer with examples and data as appropriate)?"
   ]
  }
 ],
 "metadata": {
  "kernelspec": {
   "display_name": "Python 2",
   "language": "python",
   "name": "python2"
  },
  "language_info": {
   "codemirror_mode": {
    "name": "ipython",
    "version": 2
   },
   "file_extension": ".py",
   "mimetype": "text/x-python",
   "name": "python",
   "nbconvert_exporter": "python",
   "pygments_lexer": "ipython2",
   "version": "2.7.6"
  }
 },
 "nbformat": 4,
 "nbformat_minor": 0
}
