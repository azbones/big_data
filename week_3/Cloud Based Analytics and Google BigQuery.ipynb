{
 "cells": [
  {
   "cell_type": "markdown",
   "metadata": {},
   "source": [
    "# Week 3- Cloud Based Analysis Technologies and External Data Sources\n",
    "\n",
    "**Objectives**: Today we are going to discuss the category of cloud-based analytics tools and extend our Python workflow to work with one example of such tools. We will also work with a streaming data source. Specifcally, we will cover the following:\n",
    "  \n",
    "* The Larger Ecosystem of Big Data Technologies\n",
    "* PaaS Analytics Tools\n",
    "* Google BigQuery\n",
    "* External Data Sources\n",
    "* Twitter streaming"
   ]
  },
  {
   "cell_type": "markdown",
   "metadata": {},
   "source": [
    "## The Larger Ecosystem of Big Data Technologies\n",
    "\n",
    "**Analytics PaaS Products**\n",
    "\n",
    "While Python on its own is an important tool of data science, the nature of \"big data\" requires a multi-technology approach in most cases. \n",
    "\n",
    "Early discussions of the technology of \"big data\" typically revolved around Hadoop and MapReduce which were some of the first tools that could handle Internet-scale data sources. More recently, a whole variety of different technologies have emerged both in response to not only the larger scale, but also the increased focus on \"analytics 3.0\" applications. This week we will explore the general category of cloud-based analytics technologies that usually fall into the Platform as a Service (PaaS) category. These cloud offerings enable firms to outsource the management of various \"big data\" functions to technology firms both large and small. [Amazon (Amazon Web Services](https://aws.amazon.com/big-data/), [Google (Cloud Platform)](https://cloud.google.com/solutions/bigdata/), and [Microsoft (Azure)](https://azure.microsoft.com/en-us/blog/topics/big-data/) all have extensive PaaS \"big data\" offerings. More specialist providers like [HortonWorks](http://hortonworks.com/) and [Databricks](https://databricks.com/) are even hoping to make the entire process of data science accessble to their customers. Databricks, for example, describes their product as:\n",
    "\n",
    ">Data science made easy, from ingest to production.\n",
    ">We believe big data should be simple. \n",
    ">Apache Spark™ made a big step towards this goal. Databricks makes Spark easy through a cloud-based integrated workspace. (https://databricks.com/product/databricks - Nov 2015)\n",
    "\n",
    "**Python in the PaaS Ecosystem**\n",
    "\n",
    "While Python is a strng technology contender in desktop and server-based data science, it is also being used in these PaaS products as both an underlying technical foundation and as a common data science API. Two examples of this include Amazon's Redshift which now has user [defined functions (UDFs) that are written in Python](https://aws.amazon.com/blogs/aws/user-defined-functions-for-amazon-redshift/) and [Apache Spark which has a robust Python API](http://spark.apache.org/docs/latest/api/python/).\n",
    "\n",
    "Jupyter Notebooks like this one are also part of the products of \"big data\" offerings of Databricks, Google, and Amazon:\n",
    "\n",
    "* https://databricks.com/product/databricks#notebooks\n",
    "* https://cloud.google.com/datalab/\n",
    "* https://blogs.aws.amazon.com/bigdata/post/TxX4BY5T1PQ7BQ/Using-IPython-Notebook-to-Analyze-Data-with-Amazon-EMR\n",
    "\n",
    "Today, we are going to add Google's BigQuery analytics platform to our workflow as an exemplar of the broader category of \"big data\" PaaS offerings. We will begin with a short description of BigQuery and then move on to working with some of the public datasets on BigQuery.\n"
   ]
  },
  {
   "cell_type": "markdown",
   "metadata": {},
   "source": [
    "## Google BigQuery\n",
    "\n",
    "Google BigQuery is the \"productization\" of the technology that was code named \"Dremel\" at Google. In their 2010 whitepaper, Google described Dremel as:\n",
    "\n",
    ">Dremel is a scalable, interactive ad-hoc query system for analysis\n",
    "of read-only nested data. By combining multi-level execution\n",
    "trees and columnar data layout, it is capable of running aggregation\n",
    "queries over trillion-row tables in seconds. The system scales\n",
    "to thousands of CPUs and petabytes of data, and has thousands\n",
    "of users at Google. (http://static.googleusercontent.com/media/research.google.com/en//pubs/archive/36632.pdf - Nov 2015)\n",
    "\n",
    "The whitepaper gave the following examples of how Google has been using Dremel since 2006:\n",
    "\n",
    ">* Analysis of crawled web documents.\n",
    ">* Tracking install data for applications on Android Market.\n",
    ">* Crash reporting for Google products.\n",
    ">* OCR results from Google Books.\n",
    ">* Spam analysis.\n",
    ">* Debugging of map tiles on Google Maps.\n",
    ">* Tablet migrations in managed Bigtable instances.\n",
    ">* Results of tests run on Google’s distributed build system.\n",
    ">* Disk I/O statistics for hundreds of thousands of disks.\n",
    ">* Resource monitoring for jobs run in Google’s data centers.\n",
    ">* Symbols and dependencies in Google’s codebase.\n",
    "\n",
    "At the high level, by focusing on a read-only and columnar data structure instead of a traditional realational database, Google was able to achieve high scale and good interactive performance. Compared to MapReduce models which are batch based, the technology behind Dremel could enable an interactive data science workflow.   \n",
    "\n",
    "Following the Amazon model of turning internal technolgies into PaaS offerings, Google launched BigQuery as a product in 2010. They describe the product as:\n",
    "\n",
    ">BigQuery is Google's fully managed, NoOps, low cost data analytics service. With BigQuery you have no infrastructure to manage and don't need a database administrator, use familiar SQL and can take advantage of pay-as-you-go model. This collection of features allows you to focus on analyzing data to find meaningful insights. BigQuery is a powerful Big Data analytics platform used by all types of organizations, from startups to Fortune 500 companies."
   ]
  },
  {
   "cell_type": "markdown",
   "metadata": {},
   "source": [
    "## SIgning up for Google BigQuery\n",
    "\n",
    "One of the advantages of BigQuery for data science is that it has a web UI, so you can explore data from a web interface instead of having to use a SQL client or API. In our case, this will allow you to test your SQL result prior to importing the results into Python for more detailed analysis.\n",
    "\n",
    "For our class, BigQuery is also convenient in that Google has several different publicly datasets that you can access once you set up an account. These public dataset are maintained by Google's Felipe Hoffa details of which are here:\n",
    "\n",
    "* https://www.reddit.com/r/bigquery/wiki/datasets\n",
    "\n",
    "\n",
    "Google has a free trail that includes a $300 credit that can be used over 60 days. BigQuery also has a free usage tier up to 1 TB of data processed per month, so if you are using the public datasets (which have no storage costs) and only doing exploratory analysis, it is unlikely you will incur any charges using BigQuery in this course. \n",
    "\n",
    "My actual costs running the exercises in these notebooks were $XXXX.\n",
    "\n",
    "The BigQuery console (https://console.developers.google.com/billing) will allow you to track your usage to ensure you don't incur any charges. While the trial credits and free usage tier *should* be more than enough to allow you to complete all the exercises in this course.\n",
    "\n",
    "**IF YOU EXCEED THESE LIMITS THEY WILL CHARGE YOUR CREDIT CARD. YOU ARE RESPONSIBLE FOR MANAGING YOUR GOOGLE USAGE.** \n",
    "\n",
    "If you have any concerns about this, please let me know and I can try to accomodate you.   \n",
    "\n",
    "You can either sign up with your ASU Google account or a personal Google Account. To sign up from ASU, login to your ASU account and visit this page which includes all of the relevant service details:\n",
    "\n",
    "https://cloud.google.com/\n",
    "\n"
   ]
  },
  {
   "cell_type": "markdown",
   "metadata": {},
   "source": [
    "## The BigQuery UI\n",
    "\n",
    "Once you have signed up for the service and area logged into the BigQuery console, you can add the public datasets to your console by pasting their URLs into your browser.  For example, paste or click on the following links after you are logged into the Google Cloud and they should be added to your available projects:\n",
    "\n",
    "* https://bigquery.cloud.google.com/table/bigquery-samples:reddit.full\n",
    "* https://bigquery.cloud.google.com/dataset/imjasonh-storage:nfl\n",
    "\n",
    "The console should look like this:\n",
    "\n",
    "<img src=\"https://raw.githubusercontent.com/azbones/big_data/master/images/week3-gbq_console.png\">\n",
    "\n"
   ]
  },
  {
   "cell_type": "markdown",
   "metadata": {},
   "source": [
    "## pandas and BigQuery"
   ]
  },
  {
   "cell_type": "code",
   "execution_count": null,
   "metadata": {
    "collapsed": false
   },
   "outputs": [],
   "source": [
    "from tweet_stream import TwitterAuth, PrintStream, FileStream, get_stream\n",
    "\n",
    "# consumer_key = 'insert_here'\n",
    "# consumer_secret = 'insert_here'\n",
    "# access_token = 'insert_here'\n",
    "# access_token_secret = 'insert_here'\n",
    "\n",
    "consumer_key = 'insert_here'\n",
    "consumer_secret = 'insert_here'\n",
    "access_token = 'insert_here'\n",
    "access_token_secret = 'insert_here'\n",
    "\n",
    "auth = TwitterAuth(consumer_key, consumer_secret, access_token, access_token_secret)\n",
    "con = auth.make_connector()\n",
    "listener = PrintStream()\n",
    "stream = get_stream(con, listener)\n",
    "stream.filter(track=['Broncos','Cardinals'])"
   ]
  },
  {
   "cell_type": "code",
   "execution_count": 14,
   "metadata": {
    "collapsed": false
   },
   "outputs": [],
   "source": [
    "json.load?"
   ]
  },
  {
   "cell_type": "code",
   "execution_count": 19,
   "metadata": {
    "collapsed": false
   },
   "outputs": [],
   "source": [
    "import json\n",
    "\n",
    "tweets = []\n",
    "f = open('tweets.txt', 'r')\n",
    "for line in f:\n",
    "    try:\n",
    "        tweet = json.loads(line)\n",
    "        tweets.append(tweet)\n",
    "    except:\n",
    "        continue"
   ]
  },
  {
   "cell_type": "code",
   "execution_count": 36,
   "metadata": {
    "collapsed": false
   },
   "outputs": [],
   "source": [
    "from pprint import pprint\n",
    "import pandas as pd\n",
    "df = pd.DataFrame(tweets)\n"
   ]
  },
  {
   "cell_type": "code",
   "execution_count": 76,
   "metadata": {
    "collapsed": false
   },
   "outputs": [],
   "source": [
    "test_me=df.ix[26]['retweeted_status']"
   ]
  },
  {
   "cell_type": "code",
   "execution_count": null,
   "metadata": {
    "collapsed": true
   },
   "outputs": [],
   "source": []
  },
  {
   "cell_type": "code",
   "execution_count": 78,
   "metadata": {
    "collapsed": true
   },
   "outputs": [],
   "source": [
    "import numpy as np"
   ]
  },
  {
   "cell_type": "code",
   "execution_count": 93,
   "metadata": {
    "collapsed": false
   },
   "outputs": [],
   "source": [
    "org_tweets=df[df['retweeted_status'].isnull()]"
   ]
  },
  {
   "cell_type": "code",
   "execution_count": 96,
   "metadata": {
    "collapsed": false
   },
   "outputs": [
    {
     "data": {
      "text/plain": [
       "RT @StyleFashionHub: People Are Upset With Rob Lowe After He Tweeted About The Paris Attacks -  https://t.co/oo4izI2Lge https://t.co/Xo9uwS…           1532\n",
       "RT @policia: La Policía francesa solicita colaboración ciudadana para localizar a este sujeto. Si lo ves, avisa #091 #062 #Paris https://t.…           1498\n",
       "RT @ABC: JUST IN: French jets have begun bombing the defacto ISIS capital of Raqqa, French defense ministry says                                        655\n",
       "RT @CNN: French Ministry of Defense has announced major bombardment of #ISIS targets in Raqqa, Syria https://t.co/PN8vs7J49z https://t.co/z…            629\n",
       "RT @ABC: DETAILS: France has bombed a weapons warehouse, a command post and a terrorist recruiting center in de facto ISIS capital of Raqqa.            523\n",
       "RT @Raqqa_SL: #Raqqa no Civilian got killed or Wounded by the Warplanes Airstrikes until now according to the #Raqqa Hospitals #Syria #ISIL…            456\n",
       "RT @FoxNews: French Official: Massive airstrikes destroy two jihadi sites in Raqqa. #Paris https://t.co/vhUzvaxKil https://t.co/8xHd5Wh08D              415\n",
       "RT @Louis_Tomlinson: Thoughts go out to everyone in Paris . #prayforparis                                                                               388\n",
       "RT @ABC: MORE: French defense ministry: France has dropped 20 bombs on defacto ISIS capital of Raqqa, targeting command post, terrorist tra…            383\n",
       "RT @Nxfaste: OPLA MOI J'AI TROUVÉ MON BLED BYE PARIS https://t.co/s3SOoUOzVz                                                                            370\n",
       "RT @el_pais: ÚLTIMA HORA | Francia inicia una intensa ofensiva de bombardeos en el feudo del ISIS https://t.co/yJhSgRacg3 El G20 debate más…            344\n",
       "RT @kevin_seraphin: Cette victoire est dédiée a toutes les victimes des attentats de Paris.#PrayforParis #Parisstrong #PaixAuxVictimes http…            306\n",
       "RT @zoeellison_: hitting ISIS right where it hurts by denying them of their eyelash extensions https://t.co/tzQUPgGlHj                                  297\n",
       "RT @BuckSexton: If French are targeting ISIS based on US Intel, why haven't we already destroyed the targets France is now bombing? https:/…            280\n",
       "RT @cnnbrk: French air force conducting major bombardment against ISIS targets in Syria, French Ministry of Defense says. https://t.co/HAhU…            279\n",
       "RT @Figaro_TV: #Anonymous s'engage à «traquer» Daech après les attaques de Paris https://t.co/jZ6LaBIRy7 https://t.co/LGYSSNenIA                        276\n",
       "RT @infos140: 🔴 ALERTE ATTENTATS PARIS L’aviation française bombarde massivement le fief de l’État islamique â Raqqa, en Syrie                         266\n",
       "RT @pzf: NOW - FRANCE BOMBING ISIS:\\n- 12 jets\\n- 20 bombs\\n- 30 targets\\n- Command center\\n- Arms depot\\n- Training camps\\nhttps://t.co/YyeH4reuey     266\n",
       "RT @NBCNews: #BREAKING: France launches airstrikes on ISIS in Syria, French officials say\\nhttps://t.co/UAn7KnGT2c https://t.co/4dDRGrlPzl              259\n",
       "RT @Doctor_Cupcakes: We've done it. This might be the dumbest thing ever written about video games. (via @Forbes) https://t.co/JTY23ZUaCW h…            255\n",
       "RT @FoxNews: Pentagon: Chief of ISIS in Libya believed killed in airstrike. https://t.co/3DhYRq3B2P                                                     252\n",
       "RT @publico_es: Francia responde a la matanza de París con el mayor bombardeo de su historia al feudo del ISIS en Siria https://t.co/Iommp0…            240\n",
       "RT @infos140: 🔴URGENT ENQUÊTE ATTENTATS Selon le renseignement iraquien, les attentats de Paris ont été planifiés à Raqqa (Fief EI en Syrie…           223\n",
       "RT @AP: Latest on Paris attacks: French defense official says \"massive\" airstrikes destroy 2 jihadi sites in Syria https://t.co/UuzSKJNxVv              222\n",
       "RT @infos140: 🔴URGENT ENQUÊTE ATTENTATS Selon renseignement iraquien, 24 personnes impliquées dans attentats Paris: 19 &gt; attaques, 5 &gt; logi…     220\n",
       "RT @ItsYassRC: Ptdrrrrrrrrr pianistes cyclistes enfin un fou rire merci !! elle a tout dit #Paris #Fusillade #MuslimsAreNotTerorist https:/…            219\n",
       "RT @hoeverses: when you care about Paris but hoe is life. https://t.co/DLnJsdAe9A                                                                       209\n",
       "RT @CNNEE: Francia bombardea posiciones de ISIS en Siria https://t.co/7MXyAgOhAe                                                                        202\n",
       "RT @fionarettie: Yes, what happened is Paris was awful. But when do we start to realize that tragedies like these are happening regularly i…            198\n",
       "RT @Methone: Paris in Terror-Angst: Alle laufen los. Bloß wohin? https://t.co/iCdw4UzI7V #DieNachrichten                                                189\n",
       "                                                                                                                                                       ... \n",
       "RT @ElaineProctor2: The Paris attacks have nothing to do with refugees: https://t.co/J3geEKh2QH via @slate                                                1\n",
       "Must-see @nytimes interview with a survivor from Bataclan concert hall...https://t.co/HjcudkHVTk #ParisAttacks https://t.co/IyawTqQ6mZ                    1\n",
       "RT @FranciscoJPGz: #ParisAttacks: #Anonymous warns (in French) #ISIS: \"we will hunt you down\", promising \"biggest operation ever\" - https:/…              1\n",
       "I think that NATO needs to meet and destroy ISIS!                                                                                                         1\n",
       "#SinRefugio\\nPP\\nPSOE\\nCIUDADANO\\n\\nSE NIEGAN A DEJA DE VENDE ARMAS A ARABIA SAUDI FINANCIADOR D ISIS Y ASNUSRA (OPOCISION MODERADA PARA TV)\\n\\n:-1       1\n",
       "RT @Calais_Lois: The fact is we are so desensitised and detached from reality that the airstrikes don't seem as tragic to us as the Paris a…              1\n",
       "RT @justizin: \"get drunk and fuck for paris\" I am micdropping facebook for the afternoon.  or five minutes.  we'll see.                                   1\n",
       "RT @CBSNews: How will the Paris attacks change life and security in America?  https://t.co/HFeI59yDHS https://t.co/XAqq9kKXLG                             1\n",
       "RT @RCFLyon: #attentats #Paris Un temps de prière pour la paix à @DeMosquee #Lyon Reportage à écouter ici https://t.co/zkSse5G7D6 https://t…              1\n",
       "in light of the recent shootings / bombings in paris, it has become a lot easier to see who is a retard based on their facebook posts                     1\n",
       "RT @NDragonneau: Le monde moldu n'a jamais eu autant besoin d'un peu de magie. :-( #Paris #prayforparis                                                   1\n",
       "@realDonaldTrump Correct as usual.  @MichaelCohen212 TAKE THE OIL. https://t.co/Irh3FuzlRk                                                                1\n",
       "“@candundaradasi: Hayaller Paris,hayatlar Muş'tu.\\nParis çöktü\\nKalan tek hayal,canlı bombaların cennet hayali.\\n\\nhttps://t.co/4Fvm5HMw5t                1\n",
       "#SinRefugio\\nPP\\nPSOE\\nCIUDADANO\\n\\nSE NIEGAN A DEJA DE VENDE ARMAS A ARABIA SAUDI FINANCIADOR D ISIS Y ASNUSRA (OPOCISION MODERADA PARA TV)\\n\\n:-y       1\n",
       "@EUinPL @MichalBoni @PierreBuhler @PLenFrance @warszawa @Paris @UEfrance                                                                                  1\n",
       "#SinRefugio\\nPP\\nPSOE\\nCIUDADANO\\n\\nSE NIEGAN A DEJA DE VENDE ARMAS A ARABIA SAUDI FINANCIADOR D ISIS Y ASNUSRA (OPOCISION MODERADA PARA TV)\\n\\n:-g       1\n",
       "French jets have begun bombing the defacto ISIS capital of Raqqa, dropping 20 bombs and targeting a terrorist training camp                               1\n",
       "#SinRefugio\\nPP\\nPSOE\\nCIUDADANO\\n\\nSE NIEGAN A DEJA DE VENDE ARMAS A ARABIA SAUDI FINANCIADOR D ISIS Y ASNUSRA (OPOCISION MODERADA PARA TV)\\n\\n:-e       1\n",
       "RT @Examine_Islam: No such thing as radicalisation - just plain old #Islam invented by psycho killer rapist #Muhammad  https://t.co/4H0ZGE8…              1\n",
       "#SinRefugio\\nPP\\nPSOE\\nCIUDADANO\\n\\nSE NIEGAN A DEJA DE VENDE ARMAS A ARABIA SAUDI FINANCIADOR D ISIS Y ASNUSRA (OPOCISION MODERADA PARA TV)\\n\\n:-a       1\n",
       "RT @MathieuCoache: Le FBI envoie des agents à Paris pour aider les enquêteurs français #ParisAttacks @BFMTV  https://t.co/4kuUrCtbj2                      1\n",
       "No me salen las cuentas...  https://t.co/lM3bI7l7Uy                                                                                                       1\n",
       "FRENCH AIR FORCE CONDUCTS AIRSTRIKES ON ISIS-HELD SYRIAN CITY OF RAQQA |  https://t.co/Nsx6SArYge                                                         1\n",
       "#Paris https://t.co/g1Ur8Mt3qC                                                                                                                            1\n",
       "@samantavillar @mmendizabal1 @EstherVaqueroH @estherpalomera etc etc. Estoy esperando que algún medio diga ¿Como llegan esas armas al ISIS??              1\n",
       "RT @TomasMCS: Content de voir que les gens aiment mes nouvelles réalisation ! https://t.co/8lD97p1lBr                                                     1\n",
       "RT @RGVzoomin: The true terror of the Paris attacks is the rude reminder that Terror can sneak up from behind u and surprise u anywhere any…              1\n",
       "Pesados con Paris                                                                                                                                         1\n",
       "Rakka'ya atılan bombalardan, Paris'e en az bir düzeine saldırı yapacak öfke ve ahlaki meşruiyet çıktı. Sonra aglamak yok, \"terör\" diye                    1\n",
       "RT @arniestapleton: Paris on their minds #Chiefs #Broncos @AP_NFL https://t.co/63MQnJUzrY                                                                 1\n",
       "dtype: int64"
      ]
     },
     "execution_count": 96,
     "metadata": {},
     "output_type": "execute_result"
    }
   ],
   "source": [
    "df['text'].value_counts()"
   ]
  },
  {
   "cell_type": "code",
   "execution_count": 92,
   "metadata": {
    "collapsed": false
   },
   "outputs": [
    {
     "data": {
      "text/plain": [
       "102336"
      ]
     },
     "execution_count": 92,
     "metadata": {},
     "output_type": "execute_result"
    }
   ],
   "source": [
    "len(df)"
   ]
  },
  {
   "cell_type": "code",
   "execution_count": 94,
   "metadata": {
    "collapsed": false
   },
   "outputs": [
    {
     "data": {
      "text/plain": [
       "10     @Independent Is this one of the forgeries made...\n",
       "11     Shocking: As Paris Burned, UK Muslims Told To ...\n",
       "13     melhor falar de paris e EI do que mariana porq...\n",
       "26                                                   NaN\n",
       "33     Les Libanais se demandent où est leur «Safety ...\n",
       "40                                                   NaN\n",
       "45     #фоловинг Киев присоединился к акции солидарно...\n",
       "51                                                   NaN\n",
       "54     N'oubliez pas, il faut prier pour toutes les v...\n",
       "60     Si tu est un bon musulman tu doit poser des bo...\n",
       "61     @VirusRai2 @vfeltri SU LA7  C'E' UN INTERVISTA...\n",
       "63     @Louis_Tomlinson Thank you for supporting Pari...\n",
       "64     france bombing isis? great, other nations shou...\n",
       "71                           Lit https://t.co/3W3ZyHdpco\n",
       "78     La Préfecture de Police de Paris interdit les ...\n",
       "80     Yung pinsan ko gusto din palitan yung dp sa FB...\n",
       "82     Muslims worldwide take up viral campaign conde...\n",
       "83     Well war has definitely started now that Franc...\n",
       "85     ...y tu? ¿Como vas a trabajar mañana en clase ...\n",
       "95     BREAKING: France sends 10 fighter jets to bomb...\n",
       "96     Aujourd'hui, je suis allé courir au bois; ce s...\n",
       "98     @whatfamm ISIS want to make the WHOLE world a ...\n",
       "99                                                   NaN\n",
       "103                                                  NaN\n",
       "104    Não adianta, o ISIS vai subir vídeo de crianci...\n",
       "106                                                  NaN\n",
       "108                                                  NaN\n",
       "111    #BlackLivesMatter before you type Fuck Paris b...\n",
       "113    Os mísseis franceses dizem \"with love, from Pa...\n",
       "114    Y ahora dejaos de fotos gilipollas de pray for...\n",
       "                             ...                        \n",
       "911                                                  NaN\n",
       "913    Overview of #Paris attacts by @lemondefr  vide...\n",
       "914    Five questions about Paris for Clinton, Sander...\n",
       "922    Public Service Announcement - In the wake of t...\n",
       "924    France announces airstrikes on ISIS in Syria h...\n",
       "927                                                  NaN\n",
       "930                                                  NaN\n",
       "932    Easy solution remove them the majority r the T...\n",
       "934    Fransa'nın IŞİD hedeflerine 20 bomba bıraktığı...\n",
       "935    This is what a Charlie Hebdo cartoonist drew a...\n",
       "938    @nytimes Paris multi-site ATTACK EXERCISE goin...\n",
       "939                                                  NaN\n",
       "941    It's time for Muslims to criticize Mohammad as...\n",
       "942            No no no no no no https://t.co/Cuknkp4FTl\n",
       "944    French Defense Ministry: 'Major bombardment' o...\n",
       "950    @millar_jpg @Jake_XVII @pzf ISIS killed innoce...\n",
       "951                                                  NaN\n",
       "953                     Eu vi 😔 https://t.co/uFNoaB4Z9k\n",
       "957    je suit dègouter pour tous les parisien vive l...\n",
       "962    NYC vigil offers prayers for Paris * 82: https...\n",
       "972    #superbowl officials on high alert after #Pari...\n",
       "977                    France Isn't holding back on Isis\n",
       "979                                                  NaN\n",
       "982    Took France less than 48 hours to bomb \"Isis\" ...\n",
       "984                                                  NaN\n",
       "988                                                  NaN\n",
       "989    @InjectCoffee idk what the point is then. it's...\n",
       "991    Montesilvano, Salvini chiede la guerra all'Isi...\n",
       "993                                                  NaN\n",
       "999    Can we name the enemy \"radical #Islamic #terro...\n",
       "Name: text, dtype: object"
      ]
     },
     "execution_count": 94,
     "metadata": {},
     "output_type": "execute_result"
    }
   ],
   "source": [
    "org_tweets.ix[0:1000]['text']"
   ]
  },
  {
   "cell_type": "code",
   "execution_count": 99,
   "metadata": {
    "collapsed": true
   },
   "outputs": [],
   "source": [
    "org_tweets_blob=''.join(org_tweets)"
   ]
  },
  {
   "cell_type": "code",
   "execution_count": 112,
   "metadata": {
    "collapsed": false
   },
   "outputs": [],
   "source": [
    "org_list=org_tweets['text'][~org_tweets['text'].isnull()].tolist()"
   ]
  },
  {
   "cell_type": "code",
   "execution_count": 105,
   "metadata": {
    "collapsed": false
   },
   "outputs": [],
   "source": [
    "org_list=org_tweets['text'].tolist()"
   ]
  },
  {
   "cell_type": "code",
   "execution_count": 113,
   "metadata": {
    "collapsed": false
   },
   "outputs": [],
   "source": [
    "text_blob = ''.join(org_list)"
   ]
  },
  {
   "cell_type": "code",
   "execution_count": 119,
   "metadata": {
    "collapsed": false
   },
   "outputs": [
    {
     "data": {
      "text/plain": [
       "u'RT @RadioLondra_: Qui Radio Londra: La Francia bombarda Raqqa, capitale Isis https://t.co/7emzNmtCbw'"
      ]
     },
     "execution_count": 119,
     "metadata": {},
     "output_type": "execute_result"
    }
   ],
   "source": [
    "df['text'][1]"
   ]
  },
  {
   "cell_type": "code",
   "execution_count": 116,
   "metadata": {
    "collapsed": false
   },
   "outputs": [
    {
     "data": {
      "text/plain": [
       "u'@Independent Is this one of the forgeries made in Turkey? Isis want Europe to turn against refugeesShocking: As Paris Burned, UK Muslims Told To \\u2018Struggle\\u2019 For Islamic State In Unprecedented Islamist Show Of Force https://t.co/MEbJZ1fW48melhor falar de paris e EI do que mariana porque esse governo de merda n\\xe3o escuta ninguem, ninguem escuta ninguemLes Libanais se demandent o\\xf9 est leur \\xabSafety check\\xbb sur @facebook #ISIS #BeirutAttacks #France #Facebook https://t.co/e6hewr4wZY#\\u0444\\u043e\\u043b\\u043e\\u0432\\u0438\\u043d\\u0433 \\u041a\\u0438\\u0435\\u0432 \\u043f\\u0440\\u0438\\u0441\\u043e\\u0435\\u0434\\u0438\\u043d\\u0438\\u043b\\u0441\\u044f \\u043a \\u0430\\u043a\\u0446\\u0438\\u0438 \\u0441\\u043e\\u043b\\u0438\\u0434\\u0430\\u0440\\u043d\\u043e\\u0441\\u0442\\u0438 Pray for Paris https://t.co/UrTt5PtJnWN\\'oubliez pas, il faut prier pour toutes les victimes d\\'actes terribles, pas seulement celles de Paris #PrayForWorld \\U0001f64f\\U0001f3fd\\U0001f30e\\U0001f30f\\U0001f30d\\u2764\\ufe0fSi tu est un bon musulman tu doit poser des bombes sur Paris@VirusRai2 @vfeltri SU LA7  C\\'E\\' UN INTERVISTA AD UN COMBATTENTE ITALIANO CONTRO ISIS@Louis_Tomlinson Thank you for supporting Paris with your ribbons tonight. Means a lot, hard moment rn for us xfrance bombing isis? great, other nations should join the partyLit https://t.co/3W3ZyHdpcoLa Pr\\xe9fecture de Police de Paris interdit les vols de drone en Ile-de-France via @BFMBusiness https://t.co/7f2sytERxzYung pinsan ko gusto din palitan yung dp sa FB ng may shade ng flag ng paris, kaso di alamMuslims worldwide take up viral campaign condemning Paris attacks https://t.co/OhZOVfg5ug https://t.co/fhFifV6vr1Well war has definitely started now that France has bombed isis training camps. What are we getting into?\\U0001f605...y tu? \\xbfComo vas a trabajar ma\\xf1ana en clase lo sucedido en Paris? \\xbfEs importante abordar el tema en la escuela? #adoctrinamientoNUNCABREAKING: France sends 10 fighter jets to bomb ISIS capital Raqqa\\nhttps://t.co/A4yUJ17wjk\\n@keriRN @EnigmaNetxx @Progress4Ohio @rini6Aujourd\\'hui, je suis all\\xe9 courir au bois; ce soir je suis all\\xe9 d\\xeener au restaurant en famille.\\nEt vous ? \\u270a\\n#AttaquesParis #Attentats #Paris@whatfamm ISIS want to make the WHOLE world a Muslim state they need wiping out by ANY means necessaryN\\xe3o adianta, o ISIS vai subir v\\xeddeo de criancinha estoporada, a opini\\xe3o p\\xfablica vai se voltar contra a Fran\\xe7a.#BlackLivesMatter before you type Fuck Paris because you\\'re not getting attention from the media at the moment. https://t.co/sV09PXXSFeOs m\\xedsseis franceses dizem \"with love, from Paris\" fdsY ahora dejaos de fotos gilipollas de pray for Paris y rezad por vuestros culos y por que no tengamos otra guerra mundial.\\'Mockingjay Part 2\\' premiere scaled back after Paris attacks https://t.co/n3hyRB2wTIVideo Captures Terrifying First Moments of Gunfire in Deadly Assault on Paris Concert Hall https://t.co/EvZiWRX0VsRED ALERT: #FBI Is Working On Over 1,000 Active #ISIS #TERRORIST \\u2018#Probes\\u2019 Inside #America\\u2026 WAKE UP #OBAMA!... https://t.co/odJZg7ioVPLincoln Report (French Police Release Photo of Wanted Suspect Believed to Be Connected to Paris Terrorist... https://t.co/qfdeY6MzxL@AnaCarolina1025 Today, Ana. Paris is under attack by anti-terrorism and Redskins won the game by 47 points.-J\\xe1 sei como resolver os atent'"
      ]
     },
     "execution_count": 116,
     "metadata": {},
     "output_type": "execute_result"
    }
   ],
   "source": [
    "text_blob[:3000]"
   ]
  }
 ],
 "metadata": {
  "kernelspec": {
   "display_name": "Python 2",
   "language": "python",
   "name": "python2"
  },
  "language_info": {
   "codemirror_mode": {
    "name": "ipython",
    "version": 2
   },
   "file_extension": ".py",
   "mimetype": "text/x-python",
   "name": "python",
   "nbconvert_exporter": "python",
   "pygments_lexer": "ipython2",
   "version": "2.7.6"
  }
 },
 "nbformat": 4,
 "nbformat_minor": 0
}
