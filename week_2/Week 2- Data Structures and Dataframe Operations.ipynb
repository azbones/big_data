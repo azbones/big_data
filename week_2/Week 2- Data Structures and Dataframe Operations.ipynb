{
 "cells": [
  {
   "cell_type": "markdown",
   "metadata": {},
   "source": [
    "# Week 2- Data Structures and Dataframe Operations\n",
    "\n",
    "**Objectives**: Today we are going to explore both Python-specific and general data structures that are important to data science. We will cover the following:\n",
    "  \n",
    "* Variables and datatypes\n",
    "* Strings, lists, and tuples\n",
    "* Arrays, dataframes and series\n",
    "* Basic dataframe operations\n",
    "* Dictionaries and JSON"
   ]
  },
  {
   "cell_type": "markdown",
   "metadata": {},
   "source": [
    "## Variables and Basic Datatypes\n",
    "\n",
    "Variables in Python are names for values that are stored in memory. Typically, variables in Python are lower case letters that describe the value of the variable like:\n",
    "\n",
    "<code>counter = 2</code>\n",
    "\n",
    "Unlike other languages, Python uses dynamic typing, so datatypes are inferred from the value of the variable. In the \"<code>counter</code>\" example above, Python assumes that the \"2\" is an integer or type of <code>int</code>. \n",
    "\n",
    "Knowing that <code>counter</code> is an integer is critical if you plan to do any calulations with it. For example, if wanted to divide the value in <code>counter</code> by 2 expecting the answer to be .5, you would be mistaken. Try this in the code block below:"
   ]
  },
  {
   "cell_type": "code",
   "execution_count": null,
   "metadata": {
    "collapsed": true
   },
   "outputs": [],
   "source": [
    "# Assign 2 to a variable named \"counter\"\n",
    "\n",
    "# Divide \"counter\" by two\n"
   ]
  },
  {
   "cell_type": "markdown",
   "metadata": {},
   "source": [
    "**Some Basic Built-in Datatypes**\n",
    "\n",
    "Python 2.7.x has the following built-in numeric datatypes:\n",
    "\n",
    "* <code>int</code>: plain integers like 4\n",
    "* <code>float</code>: floating point numbers like 4.0\n",
    "* <code>complex</code>: complex numbers like 4j\n",
    "\n",
    "To determine the datatype of any object, you can use the <code>type</code> function like:\n",
    "\n",
    "<code>type(object)</code>\n",
    "\n",
    "Many analytic tasks use numeric types, so it is good to be familar with them. Beyond numeric values, many analytic tasks will also include other built-in types like:\n",
    "\n",
    "Boolean types:\n",
    "* <code>bool</code>: boolean like True or False\n",
    "\n",
    "Sequence types:\n",
    "* <code>str</code>: string like this sequence of characters \"this is a string\"\n",
    "* <code>list</code>: list like this list of ints: [1,2,3]\n",
    "* <code>tuple</code>: tuple like this tuple of ints: (1,2,3)\n",
    "\n",
    "You can learn more about the details of types here- https://docs.python.org/2/library/stdtypes.html\n",
    "\n",
    "We are not going to go into the significantly more complex inner-workings of these types, but understanding the basics of accessing data is important to a data scientist and there are some common approaches regardless of type.\n",
    "\n",
    "For a sequence type, there are two ways to get parts of those sequences- indexing and slicing:\n",
    "\n",
    "**Indexing**\n",
    "\n",
    "Python uses a zero-based index which means that the first element will be zero.  To access a specific value, you append the index of that value to the sequence like:\n",
    "\n",
    "<code>my_sequence[0] # The zero in square brackets returns the first or 0th element </code>\n",
    "\n",
    "**Slicing**\n",
    "\n",
    "Slices work by extending the idea of an index with an operator that allows you to select a range of index locations in a sequence type. Specifically, you use <code>:</code> and index locations to retrive parts of the sequence like:\n",
    "\n",
    "````\n",
    "my_sequence[start:end] # items from start through end-1\n",
    "my_sequence[start:]    # items from start through the rest of the array\n",
    "my_sequence[:end]      # items from the beginning through end-1\n",
    "my_sequence[:]         # the whole array\n",
    "````\n",
    "\n",
    "Enter some different sequence types below and index and slice them to return their elements."
   ]
  },
  {
   "cell_type": "code",
   "execution_count": null,
   "metadata": {
    "collapsed": true
   },
   "outputs": [],
   "source": [
    "# Assign a string type sequence with five elements to a variable name\n",
    "\n",
    "# Print the variable\n",
    "\n",
    "# Return the 4th element\n",
    "\n",
    "# Return the 2nd element to the end of the sequence\n",
    "\n",
    "# Assign a list type sequence with five elements to a variable name\n",
    "\n",
    "# Print the list\n",
    "\n",
    "# Return the 2nd element\n",
    "\n",
    "# Return from the 1st element to the end of the sequence\n",
    "\n",
    "# Assign a tuple type sequence with five elements that are bools to a variable name\n",
    "\n",
    "# Print the list\n",
    "\n",
    "# Return the 2nd element\n",
    "\n",
    "# Return from the 1st element to the end of the sequence"
   ]
  },
  {
   "cell_type": "markdown",
   "metadata": {},
   "source": [
    "## Arrays and Dataframes\n",
    "\n",
    "The basic variables and sequence types are quite useful for a variety of tasks, but arrays and dataframes are the workhorses of analytics and data science. Arrays and dataframes are great not only because they can represent multidimensional data like a spreadsheet, but also because they use vectorized code. In Python this means both NumPy arrays and pandas dataframes use optimized C code that doesn't need to use Python for loops and can therefore be much more concise and much faster.\n",
    "\n",
    "With large datasets, the speedup of vectorize operations can be significant when compared to <code>for</code> loops. When working with dataframes or arrays, try to think in matrix terms rather than iterating through each element.\n",
    "\n",
    "**Numpy**\n",
    "\n",
    "Numpy arrays can perform basic mathematics operations like add, subtract, multiply, and divide among arrays with the same shape on an element by element basic as follows.  Observe that this is truly element by element and not matrix multiplication."
   ]
  },
  {
   "cell_type": "code",
   "execution_count": 1,
   "metadata": {
    "collapsed": false
   },
   "outputs": [
    {
     "name": "stdout",
     "output_type": "stream",
     "text": [
      "[[ 10   0  30]\n",
      " [  0 200   0]\n",
      " [  1   0   3]]\n"
     ]
    }
   ],
   "source": [
    "import numpy as np\n",
    "\n",
    "my_arr = np.array([[10,20,30],[100,200,300],[1,2,3]])\n",
    "\n",
    "my_other_arr = np.array([[1,0,1],[0,1,0],[1,0,1]])\n",
    "\n",
    "print my_arr * my_other_arr"
   ]
  },
  {
   "cell_type": "markdown",
   "metadata": {},
   "source": [
    "When the arrays are different shapes, Numpy can broadcast compatiably shaped arrays together. In the next example, NumPy takes the 3x3 <code>my_arr</code> array and multiplies it by the one-dimensional array <code>my_one_row_arr</code>."
   ]
  },
  {
   "cell_type": "code",
   "execution_count": 5,
   "metadata": {
    "collapsed": false
   },
   "outputs": [
    {
     "ename": "ValueError",
     "evalue": "operands could not be broadcast together with shapes (3,3) (1,4) ",
     "output_type": "error",
     "traceback": [
      "\u001b[1;31m---------------------------------------------------------------------------\u001b[0m",
      "\u001b[1;31mValueError\u001b[0m                                Traceback (most recent call last)",
      "\u001b[1;32m<ipython-input-5-0371517e00d4>\u001b[0m in \u001b[0;36m<module>\u001b[1;34m()\u001b[0m\n\u001b[0;32m      1\u001b[0m \u001b[0mmy_one_row_arr\u001b[0m \u001b[1;33m=\u001b[0m \u001b[0mnp\u001b[0m\u001b[1;33m.\u001b[0m\u001b[0marray\u001b[0m\u001b[1;33m(\u001b[0m\u001b[1;33m[\u001b[0m\u001b[1;33m[\u001b[0m\u001b[1;36m100\u001b[0m\u001b[1;33m,\u001b[0m\u001b[1;36m0\u001b[0m\u001b[1;33m,\u001b[0m\u001b[1;36m10\u001b[0m\u001b[1;33m,\u001b[0m\u001b[1;36m58\u001b[0m\u001b[1;33m]\u001b[0m\u001b[1;33m]\u001b[0m\u001b[1;33m)\u001b[0m\u001b[1;33m\u001b[0m\u001b[0m\n\u001b[0;32m      2\u001b[0m \u001b[1;33m\u001b[0m\u001b[0m\n\u001b[1;32m----> 3\u001b[1;33m \u001b[1;32mprint\u001b[0m \u001b[0mmy_arr\u001b[0m \u001b[1;33m*\u001b[0m \u001b[0mmy_one_row_arr\u001b[0m\u001b[1;33m\u001b[0m\u001b[0m\n\u001b[0m",
      "\u001b[1;31mValueError\u001b[0m: operands could not be broadcast together with shapes (3,3) (1,4) "
     ]
    }
   ],
   "source": [
    "my_one_row_arr = np.array([[100,0,10]])\n",
    "\n",
    "print my_arr * my_one_row_arr"
   ]
  },
  {
   "cell_type": "markdown",
   "metadata": {},
   "source": [
    "Broadcasting essentially replicates the lower dimensional array into the structure of the larger array.  In this case, broadcasting essentially does an element-wise multiplication by multiplying each row of the larger array by each element in the smaller one. \n",
    "\n",
    "Try adding an additional element to the 1x3 array to make it a 1x4 and rerun the code multiplying the two arrays. As you will see, broadcasting requires arrays that have compatible sizes.\n",
    "\n",
    "**Indexing and Slicing Arrays**\n",
    "\n",
    "Much of the same concepts we covered earlier work in a similar way for NumPy arrays except using multiple dimensions. To access a given element in a 2 dimnesional array the same basic Python syntax applies as in <code>x[obj]</code>. Instead of a single value index as in the sequence, you can either return a row with a scalar value or an element within a row by selecting <code>[row,row_index]</code>.  \n",
    "\n",
    "Try accessing rows and individual elements in my array below."
   ]
  },
  {
   "cell_type": "code",
   "execution_count": 34,
   "metadata": {
    "collapsed": false
   },
   "outputs": [
    {
     "data": {
      "text/plain": [
       "array([[ 10,  20,  30],\n",
       "       [100, 200, 300],\n",
       "       [  1,   2,   3]])"
      ]
     },
     "execution_count": 34,
     "metadata": {},
     "output_type": "execute_result"
    }
   ],
   "source": [
    "my_arr[]"
   ]
  },
  {
   "cell_type": "markdown",
   "metadata": {},
   "source": [
    "Slicing also works in a similar way by using the ellipsis. Try the following slices below."
   ]
  },
  {
   "cell_type": "code",
   "execution_count": 19,
   "metadata": {
    "collapsed": false
   },
   "outputs": [
    {
     "data": {
      "text/plain": [
       "array([[100, 200, 300],\n",
       "       [  1,   2,   3]])"
      ]
     },
     "execution_count": 19,
     "metadata": {},
     "output_type": "execute_result"
    }
   ],
   "source": [
    "# Slice to return the last two rows\n",
    "\n",
    "my_arr[]\n",
    "\n",
    "# Slice to return the 2nd column\n",
    "\n",
    "my_arr[]"
   ]
  },
  {
   "cell_type": "markdown",
   "metadata": {},
   "source": [
    "**Boolean Masks**\n",
    "\n",
    "Boolean masks are a critical component of many analyses given they are simple, vectorized approach to filtering. Masks are conceptually simple. Run the code below to see what happens when we add a boolean test to our array. The syntax is the same as the earlier basic arithmatic operations that are broadcast across the array. "
   ]
  },
  {
   "cell_type": "code",
   "execution_count": 31,
   "metadata": {
    "collapsed": false
   },
   "outputs": [
    {
     "data": {
      "text/plain": [
       "array([[False, False,  True],\n",
       "       [ True,  True,  True],\n",
       "       [False, False, False]], dtype=bool)"
      ]
     },
     "execution_count": 31,
     "metadata": {},
     "output_type": "execute_result"
    }
   ],
   "source": [
    "my_arr>20"
   ]
  },
  {
   "cell_type": "markdown",
   "metadata": {},
   "source": [
    "The resulting array is the same shape, but has boolean values for the element-wise logical test. Where this gets really cool is when we combine this result with our selection syntax. Before you run this cell, what do you think the results will be?"
   ]
  },
  {
   "cell_type": "code",
   "execution_count": 32,
   "metadata": {
    "collapsed": false
   },
   "outputs": [
    {
     "data": {
      "text/plain": [
       "array([ 30, 100, 200, 300])"
      ]
     },
     "execution_count": 32,
     "metadata": {},
     "output_type": "execute_result"
    }
   ],
   "source": [
    "my_arr[my_arr > 20]"
   ]
  },
  {
   "cell_type": "markdown",
   "metadata": {},
   "source": [
    "The result should be a one-dimensional array of the element-wise logical test."
   ]
  }
 ],
 "metadata": {
  "kernelspec": {
   "display_name": "Python 2",
   "language": "python",
   "name": "python2"
  },
  "language_info": {
   "codemirror_mode": {
    "name": "ipython",
    "version": 2
   },
   "file_extension": ".py",
   "mimetype": "text/x-python",
   "name": "python",
   "nbconvert_exporter": "python",
   "pygments_lexer": "ipython2",
   "version": "2.7.9"
  }
 },
 "nbformat": 4,
 "nbformat_minor": 0
}
