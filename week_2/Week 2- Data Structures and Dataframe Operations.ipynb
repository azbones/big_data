{
 "cells": [
  {
   "cell_type": "markdown",
   "metadata": {},
   "source": [
    "# Week 2- Data Structures and Dataframe Operations\n",
    "\n",
    "**Objectives**: Today we are going to explore both Python-specific and general data structures that are important to data science. We will cover the following:\n",
    "  \n",
    "* Variables and datatypes\n",
    "* Strings, lists, and tuples\n",
    "* NumPy arrays\n",
    "* Dictionaries and JSON\n",
    "* Arrays, dataframes, and series\n",
    "* Basic dataframe operations"
   ]
  },
  {
   "cell_type": "markdown",
   "metadata": {},
   "source": [
    "## Variables and Basic Datatypes\n",
    "\n",
    "Variables in Python are names for values that are stored in memory. Typically, local variables in Python use lower case letters and underscores \"_\" to create words or statements that describe the value of the variable. More detailed style information can be found in the [PEP 8](https://www.python.org/dev/peps/pep-0008) style guide. Here is a simple example of a variable called \"counter\":\n",
    "\n",
    "<code>counter = 2</code>\n",
    "\n",
    "Unlike other languages, Python uses dynamic typing, so datatypes are inferred from the value of the variable. In the \"<code>counter</code>\" example above, Python assumes that the \"2\" is an integer or type of <code>int</code>. \n",
    "\n",
    "Knowing that <code>counter</code> is an integer is critical if you plan to do any calculations with it. For example, if you divided the value in <code>counter</code> by 4 and expect the answer to be .5, you would be mistaken. Try this in the code block below:"
   ]
  },
  {
   "cell_type": "code",
   "execution_count": 1,
   "metadata": {
    "collapsed": false
   },
   "outputs": [],
   "source": [
    "# Assign 2 to a variable named \"counter\"\n",
    "counter = 2"
   ]
  },
  {
   "cell_type": "code",
   "execution_count": 4,
   "metadata": {
    "collapsed": false
   },
   "outputs": [
    {
     "data": {
      "text/plain": [
       "int"
      ]
     },
     "execution_count": 4,
     "metadata": {},
     "output_type": "execute_result"
    }
   ],
   "source": [
    "# Call \"counter\"\n",
    "type(counter)"
   ]
  },
  {
   "cell_type": "code",
   "execution_count": 5,
   "metadata": {
    "collapsed": false
   },
   "outputs": [
    {
     "data": {
      "text/plain": [
       "0"
      ]
     },
     "execution_count": 5,
     "metadata": {},
     "output_type": "execute_result"
    }
   ],
   "source": [
    "# Divide \"counter\" by 4\n",
    "counter / 4"
   ]
  },
  {
   "cell_type": "markdown",
   "metadata": {},
   "source": [
    "**Basic Built-in Numeric Datatypes**\n",
    "\n",
    "Python 2.7.x has the following built-in numeric datatypes:\n",
    "\n",
    "* <code>int</code>: plain integers like 4\n",
    "* <code>float</code>: floating point numbers like 4.0\n",
    "* <code>complex</code>: complex numbers like 4j\n",
    "\n",
    "> Note: Windows by default uses a 32 bit integer value which has a range of (-2147483648 to 2147483647)\n",
    "> You may need to explictly set the data type to a 64 bit value using the dtype='int64' option in a\n",
    "> Numpy array like: <code>my_array = np.array([1,10,100,1000,10000,100000], dtype='int64')</code> \n",
    "> A 64 bit integer has a range of (-9223372036854775808 to 9223372036854775807).\n",
    "\n",
    "Given these descriptions of numeric datatypes, why did the previous codeblock not return .5 and how could you change the calculation to get that answer?\n",
    "\n"
   ]
  },
  {
   "cell_type": "code",
   "execution_count": 6,
   "metadata": {
    "collapsed": false
   },
   "outputs": [
    {
     "data": {
      "text/plain": [
       "0.5"
      ]
     },
     "execution_count": 6,
     "metadata": {},
     "output_type": "execute_result"
    }
   ],
   "source": [
    "# Divide \"counter\" by 4 to return the decimal value\n",
    "counter"
   ]
  },
  {
   "cell_type": "markdown",
   "metadata": {},
   "source": [
    "To determine the datatype of any object, you can use the <code>type</code> function like:\n",
    "\n",
    "<code>type(object)</code>\n",
    "\n",
    "Many analytic tasks use numeric types, so it is good to be familiar with them. Beyond numeric values, many analytic tasks will also include other built-in types like:\n",
    "\n",
    "**Basic Built-in Boolean and Sequence Datatypes**\n",
    "\n",
    "Boolean types:\n",
    "* <code>bool</code>: boolean like True or False\n",
    "\n",
    "Sequence types:\n",
    "* <code>str</code>: strings like this sequence of characters: \"this is a string\"\n",
    "* <code>list</code>: lists like this list of ints: [1,2,3]\n",
    "* <code>tuple</code>: tuples like this tuple of ints: (1,2,3)\n",
    "\n",
    "The descriptions of each of these types is intentionally incomplete (why would you use a list versus a tuple, for example?), so you can learn more details here:\n",
    "\n",
    "* https://docs.python.org/2/library/stdtypes.html\n",
    "\n",
    "The inner-workings of each of these types can become complex, but understanding the basics of accessing data is important to a data scientist and there are some common approaches regardless of type.\n",
    "\n",
    "For a sequence type, there are two direct ways to get parts of those sequences- indexing and slicing:\n",
    "\n",
    "**Indexing**\n",
    "\n",
    "Python uses a zero-based index that means the first element will be zero, the second element will be one, and so on.  To access a specific value, you append the index of that value to the sequence like:\n",
    "\n",
    "<code>my_sequence[0] # The zero in square brackets returns the first or 0th element </code>\n",
    "\n",
    "**Slicing**\n",
    "\n",
    "Slices work by extending the idea of an index with an operator that allows you to select a range of index locations in a sequence type. Specifically, you use the colon operator (<code>:</code>) and index locations to retrieve parts of the sequence like:\n",
    "\n",
    "````\n",
    "my_sequence[start:end] # items from start through end-1\n",
    "my_sequence[start:]    # items from start through the rest of the array\n",
    "my_sequence[:end]      # items from the beginning through end-1\n",
    "my_sequence[:]         # the whole array\n",
    "````\n",
    "\n",
    "Enter some different sequence types below and index and slice them to return their elements."
   ]
  },
  {
   "cell_type": "code",
   "execution_count": 7,
   "metadata": {
    "collapsed": true
   },
   "outputs": [],
   "source": [
    "# Assign a string type sequence with five elements to a variable name\n",
    "characters = 'abcde'"
   ]
  },
  {
   "cell_type": "code",
   "execution_count": 8,
   "metadata": {
    "collapsed": false
   },
   "outputs": [
    {
     "data": {
      "text/plain": [
       "'abcde'"
      ]
     },
     "execution_count": 8,
     "metadata": {},
     "output_type": "execute_result"
    }
   ],
   "source": [
    "# Print the variable\n",
    "characters"
   ]
  },
  {
   "cell_type": "code",
   "execution_count": 12,
   "metadata": {
    "collapsed": false
   },
   "outputs": [
    {
     "data": {
      "text/plain": [
       "'d'"
      ]
     },
     "execution_count": 12,
     "metadata": {},
     "output_type": "execute_result"
    }
   ],
   "source": [
    "# Return the 4th element\n",
    "characters[3]"
   ]
  },
  {
   "cell_type": "code",
   "execution_count": 10,
   "metadata": {
    "collapsed": false
   },
   "outputs": [
    {
     "data": {
      "text/plain": [
       "'bcde'"
      ]
     },
     "execution_count": 10,
     "metadata": {},
     "output_type": "execute_result"
    }
   ],
   "source": [
    "# Return from the 2nd element to the end of the sequence\n",
    "characters[1:]"
   ]
  },
  {
   "cell_type": "code",
   "execution_count": 13,
   "metadata": {
    "collapsed": true
   },
   "outputs": [],
   "source": [
    "# Assign a list type sequence with five elements to a variable name\n",
    "my_list = [1, 'Sean', True, 0, characters[1:]]"
   ]
  },
  {
   "cell_type": "code",
   "execution_count": 14,
   "metadata": {
    "collapsed": false
   },
   "outputs": [
    {
     "data": {
      "text/plain": [
       "[1, 'Sean', True, 0, 'bcde']"
      ]
     },
     "execution_count": 14,
     "metadata": {},
     "output_type": "execute_result"
    }
   ],
   "source": [
    "# Print the list\n",
    "my_list"
   ]
  },
  {
   "cell_type": "code",
   "execution_count": 15,
   "metadata": {
    "collapsed": false
   },
   "outputs": [
    {
     "data": {
      "text/plain": [
       "'Sean'"
      ]
     },
     "execution_count": 15,
     "metadata": {},
     "output_type": "execute_result"
    }
   ],
   "source": [
    "# Return the 2nd element of the list\n",
    "my_list[1]"
   ]
  },
  {
   "cell_type": "code",
   "execution_count": 23,
   "metadata": {
    "collapsed": false
   },
   "outputs": [
    {
     "data": {
      "text/plain": [
       "list"
      ]
     },
     "execution_count": 23,
     "metadata": {},
     "output_type": "execute_result"
    }
   ],
   "source": [
    "# Return from the 1st element to the end of the sequence\n",
    "type(my_list)"
   ]
  },
  {
   "cell_type": "code",
   "execution_count": 19,
   "metadata": {
    "collapsed": true
   },
   "outputs": [],
   "source": [
    "# Assign a tuple type sequence with five elements that are bools to a variable name\n",
    "my_tuple = (1, 'Sean', True, 0, characters[1:])"
   ]
  },
  {
   "cell_type": "code",
   "execution_count": 20,
   "metadata": {
    "collapsed": false
   },
   "outputs": [
    {
     "data": {
      "text/plain": [
       "(1, 'Sean', True, 0, 'bcde')"
      ]
     },
     "execution_count": 20,
     "metadata": {},
     "output_type": "execute_result"
    }
   ],
   "source": [
    "# Print the tuple\n",
    "my_tuple"
   ]
  },
  {
   "cell_type": "code",
   "execution_count": 21,
   "metadata": {
    "collapsed": false
   },
   "outputs": [
    {
     "data": {
      "text/plain": [
       "'Sean'"
      ]
     },
     "execution_count": 21,
     "metadata": {},
     "output_type": "execute_result"
    }
   ],
   "source": [
    "# Print the 2nd element\n",
    "my_tuple[1]"
   ]
  },
  {
   "cell_type": "code",
   "execution_count": 22,
   "metadata": {
    "collapsed": false
   },
   "outputs": [
    {
     "data": {
      "text/plain": [
       "tuple"
      ]
     },
     "execution_count": 22,
     "metadata": {},
     "output_type": "execute_result"
    }
   ],
   "source": [
    "# Print from the 2nd element to the end of the sequence\n",
    "type(my_tuple)"
   ]
  },
  {
   "cell_type": "markdown",
   "metadata": {},
   "source": [
    "## NumPy Arrays\n",
    "\n",
    "The basic variables and sequence types are quite useful for a variety of tasks, but arrays and dataframes are the workhorses of analytics and data science. Arrays and dataframes are great not only because they can represent multidimensional data like a spreadsheet, but also because they use vectorized code. In Python this means both NumPy arrays and the more general and flexible pandas dataframes use optimized C code that doesn't need to use Python for loops and can therefore be much more concise and much faster.\n",
    "\n",
    "With large datasets, the speedup of vectorized operations can be significant when compared to <code>for</code> loops. When working with dataframes or arrays, try to think in matrix terms rather than iterating through each element.\n",
    "\n",
    "**Numpy**\n",
    "\n",
    "Numpy arrays can perform basic mathematics operations like add, subtract, multiply, and divide among arrays with the same shape on an element by element basis as follows.  Observe that this is a truly element by element operation and not matrix multiplication."
   ]
  },
  {
   "cell_type": "code",
   "execution_count": 31,
   "metadata": {
    "collapsed": false
   },
   "outputs": [
    {
     "name": "stdout",
     "output_type": "stream",
     "text": [
      "this is my_arr:\n",
      "[[ 10  20  30]\n",
      " [100 200 300]\n",
      " [  1   2   3]]\n"
     ]
    }
   ],
   "source": [
    "import numpy as np\n",
    "\n",
    "my_arr = np.array([[10,20,30],[100,200,300],[1,2,3]])\n",
    "print 'this is my_arr:'\n",
    "print my_arr"
   ]
  },
  {
   "cell_type": "code",
   "execution_count": 28,
   "metadata": {
    "collapsed": false
   },
   "outputs": [
    {
     "name": "stdout",
     "output_type": "stream",
     "text": [
      "this is my_other_arr:\n",
      "[[1 0 1]\n",
      " [0 1 0]\n",
      " [1 0 1]]\n"
     ]
    }
   ],
   "source": [
    "my_other_arr = np.array([[1,0,1],[0,1,0],[1,0,1]])\n",
    "print 'this is my_other_arr:'\n",
    "print my_other_arr"
   ]
  },
  {
   "cell_type": "code",
   "execution_count": 29,
   "metadata": {
    "collapsed": false
   },
   "outputs": [
    {
     "name": "stdout",
     "output_type": "stream",
     "text": [
      "this is the product of my two arrays:\n",
      "[[[10, 20, 30] [] [1, 2]]\n",
      " [[] [100, 200, 300] []]\n",
      " [[10, 20, 30] [] [1, 2]]]\n"
     ]
    }
   ],
   "source": [
    "print 'this is the product of my two arrays:' \n",
    "print my_arr * my_other_arr"
   ]
  },
  {
   "cell_type": "markdown",
   "metadata": {},
   "source": [
    "When the arrays are different shapes, Numpy can broadcast compatibly shaped arrays together. In the next example, NumPy takes the 3x3 <code>my_arr</code> array and multiplies it by the one-dimensional array <code>my_one_row_arr</code>."
   ]
  },
  {
   "cell_type": "code",
   "execution_count": null,
   "metadata": {
    "collapsed": false
   },
   "outputs": [],
   "source": [
    "my_one_row_arr = np.array([[100,0,10]])\n",
    "\n",
    "print my_arr * my_one_row_arr"
   ]
  },
  {
   "cell_type": "markdown",
   "metadata": {},
   "source": [
    "Broadcasting essentially replicates the lower dimensional array into the structure of the larger array.  In this case, broadcasting does an element-wise multiplication by multiplying each row of the larger array by each element in the smaller one. \n",
    "\n",
    "Try adding an additional element to the 1x3 array to make it a 1x4 and rerun the code multiplying the two arrays. As you will see, broadcasting requires arrays that have compatible sizes.\n",
    "\n",
    "NumPy mathematical functions are covered here- http://docs.scipy.org/doc/numpy-1.10.0/reference/routines.math.html\n",
    "\n",
    "**Matrix and Vector Operations**\n",
    "\n",
    "As you might suspect, NumPy also supports most matrix operataions like multiplication using the <code>numpy.dot(A,B)</code> function. These operations are covered in linear algebra section of the documentation- http://docs.scipy.org/doc/numpy-1.10.0/reference/routines.linalg.html\n",
    "\n",
    "**Indexing and Slicing Arrays**\n",
    "\n",
    "Much of the same concepts we covered earlier work in a similar way for NumPy arrays except using multiple dimensions. To access a given element in a 2 dimensional array the same basic Python syntax applies as in <code>x[obj]</code>. Instead of a single value index as in the sequence, you can either return a row with a scalar value or an element within a row by selecting <code>[row,row_index]</code>.  \n",
    "\n",
    "Try accessing rows and individual elements in my array below."
   ]
  },
  {
   "cell_type": "code",
   "execution_count": 32,
   "metadata": {
    "collapsed": false
   },
   "outputs": [
    {
     "data": {
      "text/plain": [
       "10"
      ]
     },
     "execution_count": 32,
     "metadata": {},
     "output_type": "execute_result"
    }
   ],
   "source": [
    "my_arr[0,0]"
   ]
  },
  {
   "cell_type": "markdown",
   "metadata": {},
   "source": [
    "Slicing also works in a similar way by using the ellipsis. Try the following slices below."
   ]
  },
  {
   "cell_type": "code",
   "execution_count": 33,
   "metadata": {
    "collapsed": false
   },
   "outputs": [
    {
     "data": {
      "text/plain": [
       "array([[100, 200, 300],\n",
       "       [  1,   2,   3]])"
      ]
     },
     "execution_count": 33,
     "metadata": {},
     "output_type": "execute_result"
    }
   ],
   "source": [
    "# Slice to return the last two rows\n",
    "\n",
    "my_arr[1:,]"
   ]
  },
  {
   "cell_type": "code",
   "execution_count": 34,
   "metadata": {
    "collapsed": false
   },
   "outputs": [
    {
     "data": {
      "text/plain": [
       "array([ 20, 200,   2])"
      ]
     },
     "execution_count": 34,
     "metadata": {},
     "output_type": "execute_result"
    }
   ],
   "source": [
    "# Slice to return the 2nd column\n",
    "\n",
    "my_arr[:,1]"
   ]
  },
  {
   "cell_type": "markdown",
   "metadata": {},
   "source": [
    "**Boolean Masks**\n",
    "\n",
    "Boolean masks are a critical component of many analyses given they are simple, vectorized approaches to filtering and constructing new arrays for a topic of interest. Masks are conceptually simple. Run the code below to see what happens when we add a boolean test to our array. The syntax is the same as the earlier basic arithmetic operations that are broadcast across the array. "
   ]
  },
  {
   "cell_type": "code",
   "execution_count": 37,
   "metadata": {
    "collapsed": false
   },
   "outputs": [
    {
     "data": {
      "text/plain": [
       "array([[False,  True,  True],\n",
       "       [ True,  True,  True],\n",
       "       [False, False, False]], dtype=bool)"
      ]
     },
     "execution_count": 37,
     "metadata": {},
     "output_type": "execute_result"
    }
   ],
   "source": [
    "my_arr >= 20"
   ]
  },
  {
   "cell_type": "markdown",
   "metadata": {},
   "source": [
    "The resulting array is the same shape, but has boolean values for the element-wise logical test. You can see this in the <code>dtype=bool</code> output.\n",
    "\n",
    "Where this gets really cool is when we combine this result with our selection syntax.  Before you run the next cell, what do you think the results will be?"
   ]
  },
  {
   "cell_type": "code",
   "execution_count": 38,
   "metadata": {
    "collapsed": false
   },
   "outputs": [
    {
     "data": {
      "text/plain": [
       "array([ 30, 100, 200, 300])"
      ]
     },
     "execution_count": 38,
     "metadata": {},
     "output_type": "execute_result"
    }
   ],
   "source": [
    "my_arr[my_arr > 20]"
   ]
  },
  {
   "cell_type": "markdown",
   "metadata": {},
   "source": [
    "The result should be a one-dimensional array of the element-wise logical test.\n",
    "\n",
    "If you want to learn more about indexing in NumPy try these resources:\n",
    "\n",
    "* http://docs.scipy.org/doc/numpy/reference/arrays.indexing.html"
   ]
  },
  {
   "cell_type": "markdown",
   "metadata": {},
   "source": [
    "## Dictionaries and JSON\n",
    "\n",
    "**Dictionaries**\n",
    "\n",
    "Dictionaries are another important data type in Python. Dictionaries contain elements like sequences, but instead of referencing items by position, they use names. In the simplest terms, a dictionary is a collection of key-value pairs like:\n",
    "\n",
    "````\n",
    "{\"user_number\":123,\n",
    "\"user_name\":\"Issac\"}\n",
    "````\n",
    "\n",
    "Where lists use <code>[]</code> and tuples use <code>()</code>, dictionaries or dicts use <code>{}</code>. To build a dictionary, within the curly brackets, keys precede their values with a colon like\n",
    "\n",
    "````\n",
    "{'my key':126}\n",
    "````\n",
    "\n",
    "Dictionaries are unordered, so the only way to retrieve a specific value for a given key is via its name.  Dictionaries also have to have unique keys, but values need not be unique. Run the code below to demonstrate."
   ]
  },
  {
   "cell_type": "code",
   "execution_count": 40,
   "metadata": {
    "collapsed": false
   },
   "outputs": [
    {
     "data": {
      "text/plain": [
       "123"
      ]
     },
     "execution_count": 40,
     "metadata": {},
     "output_type": "execute_result"
    }
   ],
   "source": [
    "my_dict = {'user_number':123,\n",
    "           'user_name':'Issac'}\n",
    "\n",
    "my_dict['user_number']"
   ]
  },
  {
   "cell_type": "markdown",
   "metadata": {},
   "source": [
    "While we have only been dealing with sequences and dictionaries with one level, all of these structures can support nested elements of multiple types. Try the following to explore this ability. Try some different datatypes in the value and key positions."
   ]
  },
  {
   "cell_type": "code",
   "execution_count": 41,
   "metadata": {
    "collapsed": true
   },
   "outputs": [],
   "source": [
    "# Build a dictionary with two keys (odds and evens) and two values \n",
    "# that are lists of the odd and even numbers on a single six-sided die \n",
    "# and assign it to name \"dice\".\n",
    "dice = {\n",
    "    'odds': [1, 3, 5],\n",
    "    'evens': [2, 4, 6]\n",
    "}"
   ]
  },
  {
   "cell_type": "code",
   "execution_count": 42,
   "metadata": {
    "collapsed": false
   },
   "outputs": [
    {
     "data": {
      "text/plain": [
       "{'evens': [2, 4, 6], 'odds': [1, 3, 5]}"
      ]
     },
     "execution_count": 42,
     "metadata": {},
     "output_type": "execute_result"
    }
   ],
   "source": [
    "# Print the dictionary\n",
    "dice"
   ]
  },
  {
   "cell_type": "code",
   "execution_count": 45,
   "metadata": {
    "collapsed": false
   },
   "outputs": [
    {
     "data": {
      "text/plain": [
       "4"
      ]
     },
     "execution_count": 45,
     "metadata": {},
     "output_type": "execute_result"
    }
   ],
   "source": [
    "# Print the second element of 'evens'\n",
    "dice['evens'][1]"
   ]
  },
  {
   "cell_type": "code",
   "execution_count": 46,
   "metadata": {
    "collapsed": false
   },
   "outputs": [
    {
     "data": {
      "text/plain": [
       "1"
      ]
     },
     "execution_count": 46,
     "metadata": {},
     "output_type": "execute_result"
    }
   ],
   "source": [
    "# Print the first element of 'odds'\n",
    "dice['odds'][0]"
   ]
  },
  {
   "cell_type": "markdown",
   "metadata": {},
   "source": [
    "**JSON and Structured, Semi-Structures, and Unstructured Data**\n",
    "\n",
    "According to http://json.org:\n",
    "\n",
    ">JSON (JavaScript Object Notation) is a lightweight data-interchange format. It is easy for humans to read and write. It is easy for machines to parse and generate. It is based on a subset of the JavaScript Programming Language, Standard ECMA-262 3rd Edition - December 1999. JSON is a text format that is completely language independent but uses conventions that are familiar to programmers of the C-family of languages, including C, C++, C#, Java, JavaScript, Perl, Python, and many others. These properties make JSON an ideal data-interchange language.\n",
    ">\n",
    ">JSON is built on two structures:\n",
    ">\n",
    ">* A collection of name/value pairs. In various languages, this is realized as an object, record, struct, dictionary, hash table, keyed list, or associative array.\n",
    ">\n",
    ">* An ordered list of values. In most languages, this is realized as an array, vector, list, or sequence.\n",
    "\n",
    "\n",
    "For those interested in data science and analytics, JSON is a very common datatype. Many new NoSQL databases use JSON or JSON-like models as their foundational data structure or offer features to handle JSON documents like:\n",
    "\n",
    "* mongoDB- https://docs.mongodb.org/manual/core/data-modeling-introduction/\n",
    "* DynamoDB- https://aws.amazon.com/blogs/aws/dynamodb-update-json-and-more/\n",
    "* Spark SQL- https://databricks.com/blog/2015/02/02/an-introduction-to-json-support-in-spark-sql.html\n",
    "\n",
    "An example JSON message from http://json.org/example.html follows.\n",
    "\n",
    "````\n",
    "{\n",
    "    \"glossary\": {\n",
    "        \"title\": \"example glossary\",\n",
    "\t\t\"GlossDiv\": {\n",
    "            \"title\": \"S\",\n",
    "\t\t\t\"GlossList\": {\n",
    "                \"GlossEntry\": {\n",
    "                    \"ID\": \"SGML\",\n",
    "\t\t\t\t\t\"SortAs\": \"SGML\",\n",
    "\t\t\t\t\t\"GlossTerm\": \"Standard Generalized Markup Language\",\n",
    "\t\t\t\t\t\"Acronym\": \"SGML\",\n",
    "\t\t\t\t\t\"Abbrev\": \"ISO 8879:1986\",\n",
    "\t\t\t\t\t\"GlossDef\": {\n",
    "                        \"para\": \"A meta-markup language, used to create markup languages such as DocBook.\",\n",
    "\t\t\t\t\t\t\"GlossSeeAlso\": [\"GML\", \"XML\"]\n",
    "                    },\n",
    "\t\t\t\t\t\"GlossSee\": \"markup\"\n",
    "                }\n",
    "            }\n",
    "        }\n",
    "    }\n",
    "}\n",
    "````\n",
    "\n",
    "\n",
    "If you are working with data generated from the web, odds are that that data will follow the JSON format. Even the file format of this Jupyter notebook is JSON. \n",
    "\n",
    "When talking in data science circles, JSON would be considered semi-structured data within this spectrum of structuredness:\n",
    "\n",
    "* **Structured**: Structured data is typically referring to the well-defined schemas of relational databases where there are predefined rows and columns or tables.\n",
    "\n",
    "* **Semi-Structured**: Semi-structured data has some organization for its elements, but does not dictate a defined structure as in a relational database's table. Data can be retrieved from semi-structured data using a key or label as in the Python dictionary. Other examples of semi-structured data include JSON and CSV.\n",
    "\n",
    "* **Unstructured**: Unstructured data lacks any predefined schema or model. Examples of unstructured data might include audio files or unlabeled text scrapped from the web.\n"
   ]
  },
  {
   "cell_type": "markdown",
   "metadata": {},
   "source": [
    "**JSON in Python**\n",
    "\n",
    "Conceptually, JSON is quite similar to Python's dictionary. In practice, however, JSON requires specific formatting to be valid and therefore interoperate with other systems. The Python JSON library makes it quite easy to both encode and decode to and from JSON and native Python datatypes. \n",
    "\n",
    "For encoding, <code>json.dumps(object)</code> is the primary method as can be seen below."
   ]
  },
  {
   "cell_type": "code",
   "execution_count": 47,
   "metadata": {
    "collapsed": false
   },
   "outputs": [
    {
     "data": {
      "text/plain": [
       "'{\"class\": \"big data\", \"favorite technologies\": [\"Python\", \"Spark\", \"AWS\", \"Jupyter\", \"Google BigQuery\"]}'"
      ]
     },
     "execution_count": 47,
     "metadata": {},
     "output_type": "execute_result"
    }
   ],
   "source": [
    "import json\n",
    "\n",
    "python_dict = {'class':'big data', 'favorite technologies':['Python', 'Spark', 'AWS', 'Jupyter', 'Google BigQuery']}\n",
    "\n",
    "\n",
    "# Convert it to JSON\n",
    "json.dumps(python_dict)"
   ]
  },
  {
   "cell_type": "markdown",
   "metadata": {},
   "source": [
    "Look at the output of <code>json.dumps</code>.  How is it different from the dictionary object?  What is the return type of <code>json.dumps</code>?\n",
    "\n",
    "> A quick aside: to determine a type of any object empirically, use <code>type(object)</code>\n",
    "\n",
    "\n",
    "The json library predictably helps you read JSON into native Python datatypes too. Read our sample file below and then determine the type of the resulting object."
   ]
  },
  {
   "cell_type": "code",
   "execution_count": 48,
   "metadata": {
    "collapsed": false
   },
   "outputs": [],
   "source": [
    "with open('./datasets/sample.json') as json_file:\n",
    "    data = json.load(json_file)"
   ]
  },
  {
   "cell_type": "code",
   "execution_count": 49,
   "metadata": {
    "collapsed": false
   },
   "outputs": [
    {
     "data": {
      "text/plain": [
       "list"
      ]
     },
     "execution_count": 49,
     "metadata": {},
     "output_type": "execute_result"
    }
   ],
   "source": [
    "# What type is \"data\"\n",
    "type(data)"
   ]
  },
  {
   "cell_type": "markdown",
   "metadata": {},
   "source": [
    "Now, print the contents of the file. For formatting, we will use the \"pretty print\" library to make the output nicer in our notebook- https://docs.python.org/2/library/pprint.html."
   ]
  },
  {
   "cell_type": "code",
   "execution_count": 52,
   "metadata": {
    "collapsed": false
   },
   "outputs": [
    {
     "name": "stdout",
     "output_type": "stream",
     "text": [
      "[{u'_id': u'564673125069f35219dd872e',\n",
      "  u'about': u'Eu reprehenderit consectetur est elit adipisicing. Laboris deserunt est sint labore fugiat veniam cupidatat quis. Lorem voluptate consequat exercitation velit officia duis ad deserunt ea enim cupidatat deserunt amet.\\r\\n',\n",
      "  u'address': u'532 Beadel Street, Grimsley, Indiana, 9043',\n",
      "  u'age': 25,\n",
      "  u'balance': u'$3,133.96',\n",
      "  u'company': u'ATOMICA',\n",
      "  u'email': u'dorispearson@atomica.com',\n",
      "  u'eyeColor': u'brown',\n",
      "  u'favoriteFruit': u'apple',\n",
      "  u'friends': [{u'id': 0, u'name': u'Lott Hahn'},\n",
      "               {u'id': 1, u'name': u'Ruth Berg'},\n",
      "               {u'id': 2, u'name': u'Conway Bryan'}],\n",
      "  u'gender': u'female',\n",
      "  u'greeting': u'Hello, Doris Pearson! You have 6 unread messages.',\n",
      "  u'guid': u'4dd19428-c8e9-4abe-8061-59ea3e3eddcc',\n",
      "  u'index': 0,\n",
      "  u'isActive': True,\n",
      "  u'latitude': -82.139093,\n",
      "  u'longitude': -11.271248,\n",
      "  u'name': u'Doris Pearson',\n",
      "  u'phone': u'+1 (890) 567-3994',\n",
      "  u'picture': u'http://placehold.it/32x32',\n",
      "  u'registered': u'2014-08-04T01:31:21 +07:00',\n",
      "  u'tags': [u'fugiat',\n",
      "            u'consectetur',\n",
      "            u'adipisicing',\n",
      "            u'Lorem',\n",
      "            u'ad',\n",
      "            u'pariatur',\n",
      "            u'culpa']},\n",
      " {u'_id': u'56467312f450c5dc34473fa2',\n",
      "  u'about': u'Laborum labore nisi est laborum cillum. Cupidatat qui eu reprehenderit aliqua ut. Excepteur do eu commodo mollit deserunt esse amet dolor irure. Enim consectetur qui aute deserunt excepteur anim. Velit consectetur veniam velit incididunt deserunt Lorem elit eu veniam ullamco consectetur. Ullamco excepteur labore cupidatat pariatur exercitation magna nulla id.\\r\\n',\n",
      "  u'address': u'125 Willow Street, Leeper, Ohio, 9477',\n",
      "  u'age': 26,\n",
      "  u'balance': u'$1,859.09',\n",
      "  u'company': u'FROLIX',\n",
      "  u'email': u'hatfieldgilbert@frolix.com',\n",
      "  u'eyeColor': u'blue',\n",
      "  u'favoriteFruit': u'apple',\n",
      "  u'friends': [{u'id': 0, u'name': u'Tamara Jefferson'},\n",
      "               {u'id': 1, u'name': u'Park Bryant'},\n",
      "               {u'id': 2, u'name': u'Scott Wolfe'}],\n",
      "  u'gender': u'male',\n",
      "  u'greeting': u'Hello, Hatfield Gilbert! You have 2 unread messages.',\n",
      "  u'guid': u'703b3310-91ba-46f3-8fae-b0f718cb23a5',\n",
      "  u'index': 1,\n",
      "  u'isActive': True,\n",
      "  u'latitude': -39.865051,\n",
      "  u'longitude': 161.147213,\n",
      "  u'name': u'Hatfield Gilbert',\n",
      "  u'phone': u'+1 (811) 571-3525',\n",
      "  u'picture': u'http://placehold.it/32x32',\n",
      "  u'registered': u'2015-09-27T12:27:54 +07:00',\n",
      "  u'tags': [u'laborum',\n",
      "            u'est',\n",
      "            u'nostrud',\n",
      "            u'proident',\n",
      "            u'reprehenderit',\n",
      "            u'minim',\n",
      "            u'aliquip']},\n",
      " {u'_id': u'564673121df13b5f8adc6286',\n",
      "  u'about': u'Proident labore veniam est elit. Eiusmod magna quis labore nulla commodo tempor irure duis consequat sit consequat consectetur. Eu elit anim nostrud qui et excepteur ullamco.\\r\\n',\n",
      "  u'address': u'903 Prince Street, Virgie, Minnesota, 2487',\n",
      "  u'age': 33,\n",
      "  u'balance': u'$2,756.18',\n",
      "  u'company': u'ACLIMA',\n",
      "  u'email': u'tillmangarza@aclima.com',\n",
      "  u'eyeColor': u'blue',\n",
      "  u'favoriteFruit': u'banana',\n",
      "  u'friends': [{u'id': 0, u'name': u'Dennis Jarvis'},\n",
      "               {u'id': 1, u'name': u'Bond Whitehead'},\n",
      "               {u'id': 2, u'name': u'Bethany Valencia'}],\n",
      "  u'gender': u'male',\n",
      "  u'greeting': u'Hello, Tillman Garza! You have 4 unread messages.',\n",
      "  u'guid': u'ac36f6f8-4792-4f38-aa31-6000edd38216',\n",
      "  u'index': 2,\n",
      "  u'isActive': False,\n",
      "  u'latitude': -44.000321,\n",
      "  u'longitude': 38.831761,\n",
      "  u'name': u'Tillman Garza',\n",
      "  u'phone': u'+1 (841) 420-3689',\n",
      "  u'picture': u'http://placehold.it/32x32',\n",
      "  u'registered': u'2015-08-20T01:59:44 +07:00',\n",
      "  u'tags': [u'sint',\n",
      "            u'eiusmod',\n",
      "            u'qui',\n",
      "            u'occaecat',\n",
      "            u'id',\n",
      "            u'dolore',\n",
      "            u'ad']},\n",
      " {u'_id': u'564673122c76510456a86458',\n",
      "  u'about': u'Et laborum ea velit nulla quis adipisicing proident. Cupidatat Lorem fugiat voluptate do velit et deserunt sint do et. Culpa ullamco elit ea ea incididunt et proident. Sit nisi sit minim ut labore incididunt laboris ut non exercitation nulla occaecat et.\\r\\n',\n",
      "  u'address': u'439 Everett Avenue, Muse, American Samoa, 1671',\n",
      "  u'age': 35,\n",
      "  u'balance': u'$3,699.14',\n",
      "  u'company': u'PASTURIA',\n",
      "  u'email': u'meredithhowe@pasturia.com',\n",
      "  u'eyeColor': u'brown',\n",
      "  u'favoriteFruit': u'strawberry',\n",
      "  u'friends': [{u'id': 0, u'name': u'Mayer Obrien'},\n",
      "               {u'id': 1, u'name': u'Sonja Battle'},\n",
      "               {u'id': 2, u'name': u'Savannah Johns'}],\n",
      "  u'gender': u'female',\n",
      "  u'greeting': u'Hello, Meredith Howe! You have 9 unread messages.',\n",
      "  u'guid': u'83f44eac-79cc-4622-b816-c0a736ad0a81',\n",
      "  u'index': 3,\n",
      "  u'isActive': False,\n",
      "  u'latitude': 42.84163,\n",
      "  u'longitude': -53.519477,\n",
      "  u'name': u'Meredith Howe',\n",
      "  u'phone': u'+1 (900) 515-3235',\n",
      "  u'picture': u'http://placehold.it/32x32',\n",
      "  u'registered': u'2014-08-18T04:34:52 +07:00',\n",
      "  u'tags': [u'occaecat',\n",
      "            u'laboris',\n",
      "            u'sit',\n",
      "            u'exercitation',\n",
      "            u'incididunt',\n",
      "            u'ea',\n",
      "            u'nostrud']},\n",
      " {u'_id': u'564673121bc53329c7ba0ea6',\n",
      "  u'about': u'Reprehenderit adipisicing in nostrud consequat fugiat magna eiusmod eu proident. Cillum laboris proident in duis. Excepteur laboris sint nisi excepteur ea magna excepteur aute proident duis consectetur exercitation tempor incididunt. Voluptate reprehenderit irure ad velit aute Lorem irure nulla cillum cillum aliquip ad eu ut. Ex ut est sint aliquip anim.\\r\\n',\n",
      "  u'address': u'727 Herkimer Street, Independence, Massachusetts, 2324',\n",
      "  u'age': 34,\n",
      "  u'balance': u'$3,613.94',\n",
      "  u'company': u'ECSTASIA',\n",
      "  u'email': u'lupekey@ecstasia.com',\n",
      "  u'eyeColor': u'green',\n",
      "  u'favoriteFruit': u'strawberry',\n",
      "  u'friends': [{u'id': 0, u'name': u'Selena Stout'},\n",
      "               {u'id': 1, u'name': u'Adkins Johnson'},\n",
      "               {u'id': 2, u'name': u'Sellers Cohen'}],\n",
      "  u'gender': u'female',\n",
      "  u'greeting': u'Hello, Lupe Key! You have 8 unread messages.',\n",
      "  u'guid': u'4f30c88c-c5d7-40f1-866f-45a78c263227',\n",
      "  u'index': 4,\n",
      "  u'isActive': False,\n",
      "  u'latitude': -45.646272,\n",
      "  u'longitude': 53.497498,\n",
      "  u'name': u'Lupe Key',\n",
      "  u'phone': u'+1 (867) 532-3629',\n",
      "  u'picture': u'http://placehold.it/32x32',\n",
      "  u'registered': u'2014-07-08T05:25:42 +07:00',\n",
      "  u'tags': [u'consectetur',\n",
      "            u'occaecat',\n",
      "            u'minim',\n",
      "            u'velit',\n",
      "            u'nisi',\n",
      "            u'eiusmod',\n",
      "            u'culpa']},\n",
      " {u'_id': u'5646731255ed0794ace30fb6',\n",
      "  u'about': u'Voluptate fugiat ad cillum proident. Consectetur minim id excepteur eu irure sunt in non ullamco et fugiat. Dolor sit cillum commodo sunt ullamco aliqua sint in dolore quis enim excepteur aute.\\r\\n',\n",
      "  u'address': u'944 Garden Place, Bangor, New Hampshire, 6478',\n",
      "  u'age': 32,\n",
      "  u'balance': u'$3,513.44',\n",
      "  u'company': u'HELIXO',\n",
      "  u'email': u'jacobsarmstrong@helixo.com',\n",
      "  u'eyeColor': u'brown',\n",
      "  u'favoriteFruit': u'banana',\n",
      "  u'friends': [{u'id': 0, u'name': u'George Camacho'},\n",
      "               {u'id': 1, u'name': u'Silva Jensen'},\n",
      "               {u'id': 2, u'name': u'Stewart Cabrera'}],\n",
      "  u'gender': u'male',\n",
      "  u'greeting': u'Hello, Jacobs Armstrong! You have 5 unread messages.',\n",
      "  u'guid': u'386b6ac2-2a69-4960-96ef-1848d8108a5a',\n",
      "  u'index': 5,\n",
      "  u'isActive': False,\n",
      "  u'latitude': 83.075915,\n",
      "  u'longitude': 38.743937,\n",
      "  u'name': u'Jacobs Armstrong',\n",
      "  u'phone': u'+1 (805) 473-3899',\n",
      "  u'picture': u'http://placehold.it/32x32',\n",
      "  u'registered': u'2015-03-10T02:07:58 +07:00',\n",
      "  u'tags': [u'minim',\n",
      "            u'qui',\n",
      "            u'duis',\n",
      "            u'enim',\n",
      "            u'excepteur',\n",
      "            u'minim',\n",
      "            u'culpa']}]\n"
     ]
    }
   ],
   "source": [
    "from pprint import pprint\n",
    "\n",
    "pprint(data)"
   ]
  },
  {
   "cell_type": "markdown",
   "metadata": {},
   "source": [
    "Using the same general approach to selecting data, assign the \"company\" field from the first element of the <code>data</code> object to a variable in the next cell."
   ]
  },
  {
   "cell_type": "code",
   "execution_count": 53,
   "metadata": {
    "collapsed": false
   },
   "outputs": [
    {
     "data": {
      "text/plain": [
       "u'ATOMICA'"
      ]
     },
     "execution_count": 53,
     "metadata": {},
     "output_type": "execute_result"
    }
   ],
   "source": [
    "# What is the company name of the first element in data\n",
    "data[0]['company']"
   ]
  },
  {
   "cell_type": "markdown",
   "metadata": {},
   "source": [
    "## pandas Series and Dataframes\n",
    "\n",
    "We used a pandas dataframe in the last exercise, so let's explore data selection, filtering, and some of the built-in statistics functions in more detail for it and the one-dimensional pandas series.\n",
    "\n",
    "**Indexing a Series**\n",
    "\n",
    "Indexing a series uses the hopefully familiar <code>series[label]</code> format. A \"label\" for a series can either be the zero-index position or the label of the index. Try the following."
   ]
  },
  {
   "cell_type": "code",
   "execution_count": 54,
   "metadata": {
    "collapsed": false
   },
   "outputs": [],
   "source": [
    "import pandas as pd\n",
    "import math\n",
    "\n",
    "# Make a series\n",
    "my_series = pd.Series([42,'towel',math.pi], index=['one','two','three'])"
   ]
  },
  {
   "cell_type": "code",
   "execution_count": 55,
   "metadata": {
    "collapsed": false
   },
   "outputs": [
    {
     "data": {
      "text/plain": [
       "one            42\n",
       "two         towel\n",
       "three    3.141593\n",
       "dtype: object"
      ]
     },
     "execution_count": 55,
     "metadata": {},
     "output_type": "execute_result"
    }
   ],
   "source": [
    "# Print the series\n",
    "my_series"
   ]
  },
  {
   "cell_type": "code",
   "execution_count": 56,
   "metadata": {
    "collapsed": false
   },
   "outputs": [
    {
     "data": {
      "text/plain": [
       "'towel'"
      ]
     },
     "execution_count": 56,
     "metadata": {},
     "output_type": "execute_result"
    }
   ],
   "source": [
    "# Return the 2nd element of the series by location\n",
    "my_series[1]"
   ]
  },
  {
   "cell_type": "code",
   "execution_count": 57,
   "metadata": {
    "collapsed": false
   },
   "outputs": [
    {
     "data": {
      "text/plain": [
       "3.141592653589793"
      ]
     },
     "execution_count": 57,
     "metadata": {},
     "output_type": "execute_result"
    }
   ],
   "source": [
    "# Return the element called \"three\" by name\n",
    "my_series['three']"
   ]
  },
  {
   "cell_type": "code",
   "execution_count": 58,
   "metadata": {
    "collapsed": false
   },
   "outputs": [
    {
     "data": {
      "text/plain": [
       "float"
      ]
     },
     "execution_count": 58,
     "metadata": {},
     "output_type": "execute_result"
    }
   ],
   "source": [
    "# What is the datatype of the \"three\" element\n",
    "type(my_series['three'])"
   ]
  },
  {
   "cell_type": "markdown",
   "metadata": {},
   "source": [
    "**Boolean Masks**\n",
    "\n",
    "pandas masks are similar to those in NumPy of form\n",
    "\n",
    "```\n",
    "series[series logical test]\n",
    "dataframe[dataframe logical test]\n",
    "```\n",
    "like\n",
    "```\n",
    "df[df['column_name']=='criteria']\n",
    "```\n",
    "\n",
    "where the inner term returns a boolean mask to then derive the relevant elements from the outer series object.\n",
    "\n",
    "Try this below by first creating a logical test to return the boolean mask of items that are \"towel\" in <code>my_series</code>.  Refer to the Python logical operators listed under comparisons at \n",
    "\n",
    "* https://docs.python.org/2/library/stdtypes.html \n",
    "\n",
    "and the pandas documentation on boolean indexing at \n",
    "\n",
    "* http://pandas.pydata.org/pandas-docs/stable/indexing.html#boolean-indexing"
   ]
  },
  {
   "cell_type": "code",
   "execution_count": 88,
   "metadata": {
    "collapsed": false
   },
   "outputs": [
    {
     "data": {
      "text/plain": [
       "one      False\n",
       "two       True\n",
       "three    False\n",
       "dtype: bool"
      ]
     },
     "execution_count": 88,
     "metadata": {},
     "output_type": "execute_result"
    }
   ],
   "source": [
    "# First, print a boolean vector of all the elements that are \"towel\"\n",
    "my_series == 'towel'"
   ]
  },
  {
   "cell_type": "code",
   "execution_count": 89,
   "metadata": {
    "collapsed": false
   },
   "outputs": [
    {
     "data": {
      "text/plain": [
       "two    towel\n",
       "dtype: object"
      ]
     },
     "execution_count": 89,
     "metadata": {},
     "output_type": "execute_result"
    }
   ],
   "source": [
    "# Now pass the vector to the series to return any elements that are True\n",
    "my_series[my_series == 'towel']"
   ]
  },
  {
   "cell_type": "code",
   "execution_count": 90,
   "metadata": {
    "collapsed": false
   },
   "outputs": [
    {
     "data": {
      "text/plain": [
       "one       42\n",
       "two    towel\n",
       "dtype: object"
      ]
     },
     "execution_count": 90,
     "metadata": {},
     "output_type": "execute_result"
    }
   ],
   "source": [
    "# Now create a boolean mask that returns all elements from my_series that are \"towel\" or 42\n",
    "my_series[(my_series == 'towel') | (my_series == 42)]"
   ]
  },
  {
   "cell_type": "markdown",
   "metadata": {},
   "source": [
    "**Indexing a Dataframe**\n",
    "\n",
    "There are several different methods to index a dataframe. Given most dataframes are multidimensional and can include named labels both for the row index and column names, the syntax requires more methods.  The primary selection methods are: \n",
    "\n",
    "* <code>df.ix</code> is the most general index method as it supports both label and location based indexing. \n",
    "* <code>df.loc</code> is primarily label based using the names of rows or columns.\n",
    "* <code>df.iloc</code> is primarily location based again using zero-based integers to index.\n",
    "\n",
    "All methods use this syntax to select rows and columns and follow the same conventions as the previous objects:\n",
    "\n",
    "<code>df.ix[row_indexer,column_indexer]</code>\n",
    "\n",
    "More details on indexing and data selection can be found here:\n",
    "\n",
    "http://pandas.pydata.org/pandas-docs/stable/indexing.html\n",
    "\n",
    "Try the examples below."
   ]
  },
  {
   "cell_type": "code",
   "execution_count": 71,
   "metadata": {
    "collapsed": false
   },
   "outputs": [
    {
     "data": {
      "text/plain": [
       "array([[ 0.23696402, -0.95357449,  1.73416832, -1.99027324],\n",
       "       [ 0.83747103, -0.331586  , -0.81819792, -0.45994345],\n",
       "       [-0.5790761 , -0.42328115, -0.00677315, -1.43529826],\n",
       "       [ 1.51351359,  0.16794852, -1.00171899, -0.28041493]])"
      ]
     },
     "execution_count": 71,
     "metadata": {},
     "output_type": "execute_result"
    }
   ],
   "source": [
    "# We will use NumPy's randn function which returns random samples \n",
    "# from a normal distribution. This function returns a matrix of the \n",
    "# size specified as attributes which, in this case, is 4x4.\n",
    "\n",
    "df_data = np.random.randn(4,4)\n",
    "\n",
    "# Now, we will call the NumPy array to see its elements\n",
    "\n",
    "df_data"
   ]
  },
  {
   "cell_type": "code",
   "execution_count": 72,
   "metadata": {
    "collapsed": false
   },
   "outputs": [
    {
     "data": {
      "text/html": [
       "<div>\n",
       "<table border=\"1\" class=\"dataframe\">\n",
       "  <thead>\n",
       "    <tr style=\"text-align: right;\">\n",
       "      <th></th>\n",
       "      <th>0</th>\n",
       "      <th>1</th>\n",
       "      <th>2</th>\n",
       "      <th>3</th>\n",
       "    </tr>\n",
       "  </thead>\n",
       "  <tbody>\n",
       "    <tr>\n",
       "      <th>0</th>\n",
       "      <td>0.236964</td>\n",
       "      <td>-0.953574</td>\n",
       "      <td>1.734168</td>\n",
       "      <td>-1.990273</td>\n",
       "    </tr>\n",
       "    <tr>\n",
       "      <th>1</th>\n",
       "      <td>0.837471</td>\n",
       "      <td>-0.331586</td>\n",
       "      <td>-0.818198</td>\n",
       "      <td>-0.459943</td>\n",
       "    </tr>\n",
       "    <tr>\n",
       "      <th>2</th>\n",
       "      <td>-0.579076</td>\n",
       "      <td>-0.423281</td>\n",
       "      <td>-0.006773</td>\n",
       "      <td>-1.435298</td>\n",
       "    </tr>\n",
       "    <tr>\n",
       "      <th>3</th>\n",
       "      <td>1.513514</td>\n",
       "      <td>0.167949</td>\n",
       "      <td>-1.001719</td>\n",
       "      <td>-0.280415</td>\n",
       "    </tr>\n",
       "  </tbody>\n",
       "</table>\n",
       "</div>"
      ],
      "text/plain": [
       "          0         1         2         3\n",
       "0  0.236964 -0.953574  1.734168 -1.990273\n",
       "1  0.837471 -0.331586 -0.818198 -0.459943\n",
       "2 -0.579076 -0.423281 -0.006773 -1.435298\n",
       "3  1.513514  0.167949 -1.001719 -0.280415"
      ]
     },
     "execution_count": 72,
     "metadata": {},
     "output_type": "execute_result"
    }
   ],
   "source": [
    "# Let's use the data to build a dataframe without any labels\n",
    "\n",
    "df = pd.DataFrame(data=df_data)\n",
    "\n",
    "# Let's call the dataframe\n",
    "\n",
    "df"
   ]
  },
  {
   "cell_type": "markdown",
   "metadata": {},
   "source": [
    "Notice in the output above, the dataframe filled in integer values for rows and columns as neither was specified when the dataframe was created. Try to retrieve elements of the dataframe below."
   ]
  },
  {
   "cell_type": "code",
   "execution_count": 73,
   "metadata": {
    "collapsed": false
   },
   "outputs": [
    {
     "data": {
      "text/plain": [
       "0    0.236964\n",
       "1    0.837471\n",
       "2   -0.579076\n",
       "3    1.513514\n",
       "Name: 0, dtype: float64"
      ]
     },
     "execution_count": 73,
     "metadata": {},
     "output_type": "execute_result"
    }
   ],
   "source": [
    "# Select the first column of the df. Notice that the result should be a panads series.\n",
    "# Append the correct code to the print df statements. Using print retains the output.\n",
    "\n",
    "df.ix[:,0] #<-Your code here."
   ]
  },
  {
   "cell_type": "code",
   "execution_count": 74,
   "metadata": {
    "collapsed": false
   },
   "outputs": [
    {
     "data": {
      "text/plain": [
       "-0.57907609794398129"
      ]
     },
     "execution_count": 74,
     "metadata": {},
     "output_type": "execute_result"
    }
   ],
   "source": [
    "# Select the third element of the first column\n",
    "\n",
    "df.ix[2,0] #<-Your code here."
   ]
  },
  {
   "cell_type": "code",
   "execution_count": 76,
   "metadata": {
    "collapsed": false
   },
   "outputs": [
    {
     "data": {
      "text/plain": [
       "0    0.236964\n",
       "1   -0.953574\n",
       "2    1.734168\n",
       "3   -1.990273\n",
       "Name: 0, dtype: float64"
      ]
     },
     "execution_count": 76,
     "metadata": {},
     "output_type": "execute_result"
    }
   ],
   "source": [
    "# Select the first row of the df.\n",
    "\n",
    "df.ix[0] #<-Your code here."
   ]
  },
  {
   "cell_type": "markdown",
   "metadata": {},
   "source": [
    "Now, let's add some column names to the dataframe."
   ]
  },
  {
   "cell_type": "code",
   "execution_count": 77,
   "metadata": {
    "collapsed": false
   },
   "outputs": [
    {
     "data": {
      "text/html": [
       "<div>\n",
       "<table border=\"1\" class=\"dataframe\">\n",
       "  <thead>\n",
       "    <tr style=\"text-align: right;\">\n",
       "      <th></th>\n",
       "      <th>fire</th>\n",
       "      <th>water</th>\n",
       "      <th>wind</th>\n",
       "      <th>earth</th>\n",
       "    </tr>\n",
       "  </thead>\n",
       "  <tbody>\n",
       "    <tr>\n",
       "      <th>0</th>\n",
       "      <td>0.236964</td>\n",
       "      <td>-0.953574</td>\n",
       "      <td>1.734168</td>\n",
       "      <td>-1.990273</td>\n",
       "    </tr>\n",
       "    <tr>\n",
       "      <th>1</th>\n",
       "      <td>0.837471</td>\n",
       "      <td>-0.331586</td>\n",
       "      <td>-0.818198</td>\n",
       "      <td>-0.459943</td>\n",
       "    </tr>\n",
       "    <tr>\n",
       "      <th>2</th>\n",
       "      <td>-0.579076</td>\n",
       "      <td>-0.423281</td>\n",
       "      <td>-0.006773</td>\n",
       "      <td>-1.435298</td>\n",
       "    </tr>\n",
       "    <tr>\n",
       "      <th>3</th>\n",
       "      <td>1.513514</td>\n",
       "      <td>0.167949</td>\n",
       "      <td>-1.001719</td>\n",
       "      <td>-0.280415</td>\n",
       "    </tr>\n",
       "  </tbody>\n",
       "</table>\n",
       "</div>"
      ],
      "text/plain": [
       "       fire     water      wind     earth\n",
       "0  0.236964 -0.953574  1.734168 -1.990273\n",
       "1  0.837471 -0.331586 -0.818198 -0.459943\n",
       "2 -0.579076 -0.423281 -0.006773 -1.435298\n",
       "3  1.513514  0.167949 -1.001719 -0.280415"
      ]
     },
     "execution_count": 77,
     "metadata": {},
     "output_type": "execute_result"
    }
   ],
   "source": [
    "# Create a list of names, assign to dataframe, and call.\n",
    "\n",
    "col_names = ['fire', 'water', 'wind', 'earth']\n",
    "df.columns = col_names # Note this can be specified as an attribute during creation.\n",
    "df"
   ]
  },
  {
   "cell_type": "markdown",
   "metadata": {},
   "source": [
    "Now, do the following."
   ]
  },
  {
   "cell_type": "code",
   "execution_count": 79,
   "metadata": {
    "collapsed": false
   },
   "outputs": [
    {
     "data": {
      "text/plain": [
       "0    0.236964\n",
       "1    0.837471\n",
       "2   -0.579076\n",
       "3    1.513514\n",
       "Name: fire, dtype: float64"
      ]
     },
     "execution_count": 79,
     "metadata": {},
     "output_type": "execute_result"
    }
   ],
   "source": [
    "# Return the first column of the dataframe using the label.\n",
    "\n",
    "df.ix[:,'fire']"
   ]
  },
  {
   "cell_type": "code",
   "execution_count": 81,
   "metadata": {
    "collapsed": false
   },
   "outputs": [
    {
     "data": {
      "text/plain": [
       "0   -0.953574\n",
       "1   -0.331586\n",
       "2   -0.423281\n",
       "3    0.167949\n",
       "Name: water, dtype: float64"
      ]
     },
     "execution_count": 81,
     "metadata": {},
     "output_type": "execute_result"
    }
   ],
   "source": [
    "# Return the second element of the water column by label.\n",
    "\n",
    "df['water']"
   ]
  },
  {
   "cell_type": "markdown",
   "metadata": {},
   "source": [
    "Now, let's create a row index of names."
   ]
  },
  {
   "cell_type": "code",
   "execution_count": 82,
   "metadata": {
    "collapsed": false
   },
   "outputs": [
    {
     "data": {
      "text/html": [
       "<div>\n",
       "<table border=\"1\" class=\"dataframe\">\n",
       "  <thead>\n",
       "    <tr style=\"text-align: right;\">\n",
       "      <th></th>\n",
       "      <th>fire</th>\n",
       "      <th>water</th>\n",
       "      <th>wind</th>\n",
       "      <th>earth</th>\n",
       "    </tr>\n",
       "  </thead>\n",
       "  <tbody>\n",
       "    <tr>\n",
       "      <th>Sakura</th>\n",
       "      <td>0.236964</td>\n",
       "      <td>-0.953574</td>\n",
       "      <td>1.734168</td>\n",
       "      <td>-1.990273</td>\n",
       "    </tr>\n",
       "    <tr>\n",
       "      <th>Kakashi</th>\n",
       "      <td>0.837471</td>\n",
       "      <td>-0.331586</td>\n",
       "      <td>-0.818198</td>\n",
       "      <td>-0.459943</td>\n",
       "    </tr>\n",
       "    <tr>\n",
       "      <th>Shikamaru</th>\n",
       "      <td>-0.579076</td>\n",
       "      <td>-0.423281</td>\n",
       "      <td>-0.006773</td>\n",
       "      <td>-1.435298</td>\n",
       "    </tr>\n",
       "    <tr>\n",
       "      <th>Rock</th>\n",
       "      <td>1.513514</td>\n",
       "      <td>0.167949</td>\n",
       "      <td>-1.001719</td>\n",
       "      <td>-0.280415</td>\n",
       "    </tr>\n",
       "  </tbody>\n",
       "</table>\n",
       "</div>"
      ],
      "text/plain": [
       "               fire     water      wind     earth\n",
       "Sakura     0.236964 -0.953574  1.734168 -1.990273\n",
       "Kakashi    0.837471 -0.331586 -0.818198 -0.459943\n",
       "Shikamaru -0.579076 -0.423281 -0.006773 -1.435298\n",
       "Rock       1.513514  0.167949 -1.001719 -0.280415"
      ]
     },
     "execution_count": 82,
     "metadata": {},
     "output_type": "execute_result"
    }
   ],
   "source": [
    "# Create a list of row names, assign to dataframe index, and call it.\n",
    "\n",
    "col_rows = ['Sakura', 'Kakashi', 'Shikamaru', 'Rock']\n",
    "df.index = col_rows # Note this can be specified as an attribute during creation.\n",
    "df"
   ]
  },
  {
   "cell_type": "markdown",
   "metadata": {},
   "source": [
    "Apply your indexing and selection skills."
   ]
  },
  {
   "cell_type": "code",
   "execution_count": 84,
   "metadata": {
    "collapsed": false
   },
   "outputs": [
    {
     "data": {
      "text/plain": [
       "fire     0.837471\n",
       "water   -0.331586\n",
       "wind    -0.818198\n",
       "earth   -0.459943\n",
       "Name: Kakashi, dtype: float64"
      ]
     },
     "execution_count": 84,
     "metadata": {},
     "output_type": "execute_result"
    }
   ],
   "source": [
    "# Return the second row of the dataframe using the label.\n",
    "\n",
    "df.ix['Kakashi']"
   ]
  },
  {
   "cell_type": "code",
   "execution_count": 87,
   "metadata": {
    "collapsed": false
   },
   "outputs": [
    {
     "name": "stdout",
     "output_type": "stream",
     "text": [
      "Sakura's earth value is -1.9902732448\n"
     ]
    }
   ],
   "source": [
    "# Assign the earth value for Sakura to a var and print.\n",
    "\n",
    "sakura_earth = df.ix['Sakura', 'earth']\n",
    "print 'Sakura\\'s earth value is {}'.format(sakura_earth)"
   ]
  },
  {
   "cell_type": "markdown",
   "metadata": {},
   "source": [
    "**Len: one of the most used methods**\n",
    "\n",
    "To determine the length of many objects including things like the number of elements in a column of a dataframe, you can use the <code>len</code> method. The syntax is simply: <code>len(obj)</code>"
   ]
  },
  {
   "cell_type": "code",
   "execution_count": 86,
   "metadata": {
    "collapsed": false
   },
   "outputs": [
    {
     "data": {
      "text/plain": [
       "4"
      ]
     },
     "execution_count": 86,
     "metadata": {},
     "output_type": "execute_result"
    }
   ],
   "source": [
    "# Find the length of the fire column\n",
    "len('fire')"
   ]
  }
 ],
 "metadata": {
  "kernelspec": {
   "display_name": "Python 2",
   "language": "python",
   "name": "python2"
  },
  "language_info": {
   "codemirror_mode": {
    "name": "ipython",
    "version": 2
   },
   "file_extension": ".py",
   "mimetype": "text/x-python",
   "name": "python",
   "nbconvert_exporter": "python",
   "pygments_lexer": "ipython2",
   "version": "2.7.6"
  }
 },
 "nbformat": 4,
 "nbformat_minor": 0
}
