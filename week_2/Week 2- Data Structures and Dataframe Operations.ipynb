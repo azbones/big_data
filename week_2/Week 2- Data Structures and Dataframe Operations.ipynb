{
 "cells": [
  {
   "cell_type": "markdown",
   "metadata": {},
   "source": [
    "# Week 2- Data Structures and Dataframe Operations\n",
    "\n",
    "**Objectives**: Today we are going to explore both Python-specific and general data structures that are important to data science. We will cover the following:\n",
    "  \n",
    "* Variables and datatypes\n",
    "* Strings, lists, and tuples\n",
    "* NumPy arrays\n",
    "* Dictionaries and JSON\n",
    "* Arrays, dataframes, and series\n",
    "* Basic dataframe operations"
   ]
  },
  {
   "cell_type": "markdown",
   "metadata": {},
   "source": [
    "## Variables and Basic Datatypes\n",
    "\n",
    "Variables in Python are names for values that are stored in memory. Typically, local variables in Python use lower case letters and underscores \"_\" to create words or statements that describe the value of the variable. More detailed style information can be found in the [PEP 8](https://www.python.org/dev/peps/pep-0008) style guide. Here is a simple example of a variable called \"counter\":\n",
    "\n",
    "<code>counter = 2</code>\n",
    "\n",
    "Unlike other languages, Python uses dynamic typing, so datatypes are inferred from the value of the variable. In the \"<code>counter</code>\" example above, Python assumes that the \"2\" is an integer or type of <code>int</code>. \n",
    "\n",
    "Knowing that <code>counter</code> is an integer is critical if you plan to do any calculations with it. For example, if you divided the value in <code>counter</code> by 4 and expect the answer to be .5, you would be mistaken. Try this in the code block below:"
   ]
  },
  {
   "cell_type": "code",
   "execution_count": null,
   "metadata": {
    "collapsed": false
   },
   "outputs": [],
   "source": [
    "# Assign 2 to a variable named \"counter\"\n"
   ]
  },
  {
   "cell_type": "code",
   "execution_count": null,
   "metadata": {
    "collapsed": true
   },
   "outputs": [],
   "source": [
    "# Call \"counter\"\n"
   ]
  },
  {
   "cell_type": "code",
   "execution_count": null,
   "metadata": {
    "collapsed": true
   },
   "outputs": [],
   "source": [
    "# Divide \"counter\" by 4\n"
   ]
  },
  {
   "cell_type": "markdown",
   "metadata": {},
   "source": [
    "**Basic Built-in Numeric Datatypes**\n",
    "\n",
    "Python 2.7.x has the following built-in numeric datatypes:\n",
    "\n",
    "* <code>int</code>: plain integers like 4\n",
    "* <code>float</code>: floating point numbers like 4.0\n",
    "* <code>complex</code>: complex numbers like 4j\n",
    "\n",
    "> Note: Windows by default uses a 32 bit integer value which has a range of (-2147483648 to 2147483647)\n",
    "> You may need to explictly set the data type to a 64 bit value using the dtype='int64' option in a\n",
    "> Numpy array like: <code>my_array = np.array([1,10,100,1000,10000,100000], dtype='int64')</code> \n",
    "> A 64 bit integer has a range of (-9223372036854775808 to 9223372036854775807).\n",
    "\n",
    "Given these descriptions of numeric datatypes, why did the previous codeblock not return .5 and how could you change the calculation to get that answer?\n",
    "\n"
   ]
  },
  {
   "cell_type": "code",
   "execution_count": null,
   "metadata": {
    "collapsed": true
   },
   "outputs": [],
   "source": [
    "# Divide \"counter\" by 4 to return the decimal value\n"
   ]
  },
  {
   "cell_type": "markdown",
   "metadata": {},
   "source": [
    "To determine the datatype of any object, you can use the <code>type</code> function like:\n",
    "\n",
    "<code>type(object)</code>\n",
    "\n",
    "Many analytic tasks use numeric types, so it is good to be familiar with them. Beyond numeric values, many analytic tasks will also include other built-in types like:\n",
    "\n",
    "**Basic Built-in Boolean and Sequence Datatypes**\n",
    "\n",
    "Boolean types:\n",
    "* <code>bool</code>: boolean like True or False\n",
    "\n",
    "Sequence types:\n",
    "* <code>str</code>: strings like this sequence of characters: \"this is a string\"\n",
    "* <code>list</code>: lists like this list of ints: [1,2,3]\n",
    "* <code>tuple</code>: tuples like this tuple of ints: (1,2,3)\n",
    "\n",
    "The descriptions of each of these types is intentionally incomplete (why would you use a list versus a tuple, for example?), so you can learn more details here:\n",
    "\n",
    "* https://docs.python.org/2/library/stdtypes.html\n",
    "\n",
    "The inner-workings of each of these types can become complex, but understanding the basics of accessing data is important to a data scientist and there are some common approaches regardless of type.\n",
    "\n",
    "For a sequence type, there are two direct ways to get parts of those sequences- indexing and slicing:\n",
    "\n",
    "**Indexing**\n",
    "\n",
    "Python uses a zero-based index that means the first element will be zero, the second element will be one, and so on.  To access a specific value, you append the index of that value to the sequence like:\n",
    "\n",
    "<code>my_sequence[0] # The zero in square brackets returns the first or 0th element </code>\n",
    "\n",
    "**Slicing**\n",
    "\n",
    "Slices work by extending the idea of an index with an operator that allows you to select a range of index locations in a sequence type. Specifically, you use the colon operator (<code>:</code>) and index locations to retrieve parts of the sequence like:\n",
    "\n",
    "````\n",
    "my_sequence[start:end] # items from start through end-1\n",
    "my_sequence[start:]    # items from start through the rest of the array\n",
    "my_sequence[:end]      # items from the beginning through end-1\n",
    "my_sequence[:]         # the whole array\n",
    "````\n",
    "\n",
    "Enter some different sequence types below and index and slice them to return their elements."
   ]
  },
  {
   "cell_type": "code",
   "execution_count": null,
   "metadata": {
    "collapsed": true
   },
   "outputs": [],
   "source": [
    "# Assign a string type sequence with five elements to a variable name\n"
   ]
  },
  {
   "cell_type": "code",
   "execution_count": null,
   "metadata": {
    "collapsed": true
   },
   "outputs": [],
   "source": [
    "# Print the variable\n"
   ]
  },
  {
   "cell_type": "code",
   "execution_count": null,
   "metadata": {
    "collapsed": true
   },
   "outputs": [],
   "source": [
    "# Return the 4th element\n"
   ]
  },
  {
   "cell_type": "code",
   "execution_count": null,
   "metadata": {
    "collapsed": true
   },
   "outputs": [],
   "source": [
    "# Return from the 2nd element to the end of the sequence\n"
   ]
  },
  {
   "cell_type": "code",
   "execution_count": null,
   "metadata": {
    "collapsed": true
   },
   "outputs": [],
   "source": [
    "# Assign a list type sequence with five elements to a variable name\n"
   ]
  },
  {
   "cell_type": "code",
   "execution_count": null,
   "metadata": {
    "collapsed": true
   },
   "outputs": [],
   "source": [
    "# Print the list\n"
   ]
  },
  {
   "cell_type": "code",
   "execution_count": null,
   "metadata": {
    "collapsed": true
   },
   "outputs": [],
   "source": [
    "# Return the 2nd element of the list\n"
   ]
  },
  {
   "cell_type": "code",
   "execution_count": null,
   "metadata": {
    "collapsed": true
   },
   "outputs": [],
   "source": [
    "# Return from the 1st element to the end of the sequence\n"
   ]
  },
  {
   "cell_type": "code",
   "execution_count": null,
   "metadata": {
    "collapsed": true
   },
   "outputs": [],
   "source": [
    "# Assign a tuple type sequence with five elements that are bools to a variable name\n"
   ]
  },
  {
   "cell_type": "code",
   "execution_count": null,
   "metadata": {
    "collapsed": true
   },
   "outputs": [],
   "source": [
    "# Print the list\n"
   ]
  },
  {
   "cell_type": "code",
   "execution_count": null,
   "metadata": {
    "collapsed": true
   },
   "outputs": [],
   "source": [
    "# Print the 2nd element\n"
   ]
  },
  {
   "cell_type": "code",
   "execution_count": null,
   "metadata": {
    "collapsed": true
   },
   "outputs": [],
   "source": [
    "# Print from the 2nd element to the end of the sequence\n"
   ]
  },
  {
   "cell_type": "markdown",
   "metadata": {},
   "source": [
    "## NumPy Arrays\n",
    "\n",
    "The basic variables and sequence types are quite useful for a variety of tasks, but arrays and dataframes are the workhorses of analytics and data science. Arrays and dataframes are great not only because they can represent multidimensional data like a spreadsheet, but also because they use vectorized code. In Python this means both NumPy arrays and the more general and flexible pandas dataframes use optimized C code that doesn't need to use Python for loops and can therefore be much more concise and much faster.\n",
    "\n",
    "With large datasets, the speedup of vectorized operations can be significant when compared to <code>for</code> loops. When working with dataframes or arrays, try to think in matrix terms rather than iterating through each element.\n",
    "\n",
    "**Numpy**\n",
    "\n",
    "Numpy arrays can perform basic mathematics operations like add, subtract, multiply, and divide among arrays with the same shape on an element by element basis as follows.  Observe that this is a truly element by element operation and not matrix multiplication."
   ]
  },
  {
   "cell_type": "code",
   "execution_count": null,
   "metadata": {
    "collapsed": false
   },
   "outputs": [],
   "source": [
    "import numpy as np\n",
    "\n",
    "my_arr = np.array([[10,20,30],[100,200,300],[1,2,3]])\n",
    "print 'this is my_arr:'\n",
    "print my_arr"
   ]
  },
  {
   "cell_type": "code",
   "execution_count": null,
   "metadata": {
    "collapsed": true
   },
   "outputs": [],
   "source": [
    "my_other_arr = np.array([[1,0,1],[0,1,0],[1,0,1]])\n",
    "print 'this is my_other_arr:'\n",
    "print my_other_arr"
   ]
  },
  {
   "cell_type": "code",
   "execution_count": null,
   "metadata": {
    "collapsed": false
   },
   "outputs": [],
   "source": [
    "print 'this is the product of my two arrays:' \n",
    "print my_arr * my_other_arr"
   ]
  },
  {
   "cell_type": "markdown",
   "metadata": {},
   "source": [
    "When the arrays are different shapes, Numpy can broadcast compatibly shaped arrays together. In the next example, NumPy takes the 3x3 <code>my_arr</code> array and multiplies it by the one-dimensional array <code>my_one_row_arr</code>."
   ]
  },
  {
   "cell_type": "code",
   "execution_count": null,
   "metadata": {
    "collapsed": false
   },
   "outputs": [],
   "source": [
    "my_one_row_arr = np.array([[100,0,10]])\n",
    "\n",
    "print my_arr * my_one_row_arr"
   ]
  },
  {
   "cell_type": "markdown",
   "metadata": {},
   "source": [
    "Broadcasting essentially replicates the lower dimensional array into the structure of the larger array.  In this case, broadcasting does an element-wise multiplication by multiplying each row of the larger array by each element in the smaller one. \n",
    "\n",
    "Try adding an additional element to the 1x3 array to make it a 1x4 and rerun the code multiplying the two arrays. As you will see, broadcasting requires arrays that have compatible sizes.\n",
    "\n",
    "NumPy mathematical functions are covered here- http://docs.scipy.org/doc/numpy-1.10.0/reference/routines.math.html\n",
    "\n",
    "**Matrix and Vector Operations**\n",
    "\n",
    "As you might suspect, NumPy also supports most matrix operataions like multiplication using the <code>numpy.dot(A,B)</code> function. These operations are covered in linear algebra section of the documentation- http://docs.scipy.org/doc/numpy-1.10.0/reference/routines.linalg.html\n",
    "\n",
    "**Indexing and Slicing Arrays**\n",
    "\n",
    "Much of the same concepts we covered earlier work in a similar way for NumPy arrays except using multiple dimensions. To access a given element in a 2 dimensional array the same basic Python syntax applies as in <code>x[obj]</code>. Instead of a single value index as in the sequence, you can either return a row with a scalar value or an element within a row by selecting <code>[row,row_index]</code>.  \n",
    "\n",
    "Try accessing rows and individual elements in my array below."
   ]
  },
  {
   "cell_type": "code",
   "execution_count": null,
   "metadata": {
    "collapsed": false
   },
   "outputs": [],
   "source": [
    "my_arr[]"
   ]
  },
  {
   "cell_type": "markdown",
   "metadata": {},
   "source": [
    "Slicing also works in a similar way by using the ellipsis. Try the following slices below."
   ]
  },
  {
   "cell_type": "code",
   "execution_count": null,
   "metadata": {
    "collapsed": false
   },
   "outputs": [],
   "source": [
    "# Slice to return the last two rows\n",
    "\n",
    "my_arr[]"
   ]
  },
  {
   "cell_type": "code",
   "execution_count": null,
   "metadata": {
    "collapsed": false
   },
   "outputs": [],
   "source": [
    "# Slice to return the 2nd column\n",
    "\n",
    "my_arr[]"
   ]
  },
  {
   "cell_type": "markdown",
   "metadata": {},
   "source": [
    "**Boolean Masks**\n",
    "\n",
    "Boolean masks are a critical component of many analyses given they are simple, vectorized approaches to filtering and constructing new arrays for a topic of interest. Masks are conceptually simple. Run the code below to see what happens when we add a boolean test to our array. The syntax is the same as the earlier basic arithmetic operations that are broadcast across the array. "
   ]
  },
  {
   "cell_type": "code",
   "execution_count": null,
   "metadata": {
    "collapsed": false
   },
   "outputs": [],
   "source": [
    "my_arr > 20"
   ]
  },
  {
   "cell_type": "markdown",
   "metadata": {},
   "source": [
    "The resulting array is the same shape, but has boolean values for the element-wise logical test. You can see this in the <code>dtype=bool</code> output.\n",
    "\n",
    "Where this gets really cool is when we combine this result with our selection syntax.  Before you run the next cell, what do you think the results will be?"
   ]
  },
  {
   "cell_type": "code",
   "execution_count": null,
   "metadata": {
    "collapsed": false
   },
   "outputs": [],
   "source": [
    "my_arr[my_arr > 20]"
   ]
  },
  {
   "cell_type": "markdown",
   "metadata": {},
   "source": [
    "The result should be a one-dimensional array of the element-wise logical test.\n",
    "\n",
    "If you want to learn more about indexing in NumPy try these resources:\n",
    "\n",
    "* http://docs.scipy.org/doc/numpy/reference/arrays.indexing.html"
   ]
  },
  {
   "cell_type": "markdown",
   "metadata": {},
   "source": [
    "## Dictionaries and JSON\n",
    "\n",
    "**Dictionaries**\n",
    "\n",
    "Dictionaries are another important data type in Python. Dictionaries contain elements like sequences, but instead of referencing items by position, they use names. In the simplest terms, a dictionary is a collection of key-value pairs like:\n",
    "\n",
    "````\n",
    "{\"user_number\":123,\n",
    "\"user_name\":\"Issac\"}\n",
    "````\n",
    "\n",
    "Where lists use <code>[]</code> and tuples use <code>()</code>, dictionaries or dicts use <code>{}</code>. To build a dictionary, within the curly brackets, keys precede their values with a colon like\n",
    "\n",
    "````\n",
    "{'my key':126}\n",
    "````\n",
    "\n",
    "Dictionaries are unordered, so the only way to retrieve a specific value for a given key is via its name.  Dictionaries also have to have unique keys, but values need not be unique. Run the code below to demonstrate."
   ]
  },
  {
   "cell_type": "code",
   "execution_count": null,
   "metadata": {
    "collapsed": false
   },
   "outputs": [],
   "source": [
    "my_dict = {'user_number':123,\n",
    "           'user_name':'Issac'}\n",
    "\n",
    "print my_dict\n",
    "\n",
    "print '\\nThe user number is {}'.format(my_dict['user_number'])"
   ]
  },
  {
   "cell_type": "markdown",
   "metadata": {},
   "source": [
    "While we have only been dealing with sequences and dictionaries with one level, all of these structures can support nested elements of multiple types. Try the following to explore this ability. Try some different datatypes in the value and key positions."
   ]
  },
  {
   "cell_type": "code",
   "execution_count": null,
   "metadata": {
    "collapsed": true
   },
   "outputs": [],
   "source": [
    "# Build a dictionary with two keys (odds and evens) and two values \n",
    "# that are lists of the odd and even numbers on a single six-sided die \n",
    "# and assign it to name \"dice\".\n"
   ]
  },
  {
   "cell_type": "code",
   "execution_count": null,
   "metadata": {
    "collapsed": true
   },
   "outputs": [],
   "source": [
    "# Print the dictionary\n"
   ]
  },
  {
   "cell_type": "code",
   "execution_count": null,
   "metadata": {
    "collapsed": true
   },
   "outputs": [],
   "source": [
    "# Print the second element of 'evens'\n"
   ]
  },
  {
   "cell_type": "code",
   "execution_count": null,
   "metadata": {
    "collapsed": false
   },
   "outputs": [],
   "source": [
    "# Print the first element of 'odds'\n"
   ]
  },
  {
   "cell_type": "markdown",
   "metadata": {},
   "source": [
    "**JSON and Structured, Semi-Structures, and Unstructured Data**\n",
    "\n",
    "According to http://json.org:\n",
    "\n",
    ">JSON (JavaScript Object Notation) is a lightweight data-interchange format. It is easy for humans to read and write. It is easy for machines to parse and generate. It is based on a subset of the JavaScript Programming Language, Standard ECMA-262 3rd Edition - December 1999. JSON is a text format that is completely language independent but uses conventions that are familiar to programmers of the C-family of languages, including C, C++, C#, Java, JavaScript, Perl, Python, and many others. These properties make JSON an ideal data-interchange language.\n",
    ">\n",
    ">JSON is built on two structures:\n",
    ">\n",
    ">* A collection of name/value pairs. In various languages, this is realized as an object, record, struct, dictionary, hash table, keyed list, or associative array.\n",
    ">\n",
    ">* An ordered list of values. In most languages, this is realized as an array, vector, list, or sequence.\n",
    "\n",
    "\n",
    "For those interested in data science and analytics, JSON is a very common datatype. Many new NoSQL databases use JSON or JSON-like models as their foundational data structure or offer features to handle JSON documents like:\n",
    "\n",
    "* mongoDB- https://docs.mongodb.org/manual/core/data-modeling-introduction/\n",
    "* DynamoDB- https://aws.amazon.com/blogs/aws/dynamodb-update-json-and-more/\n",
    "* Spark SQL- https://databricks.com/blog/2015/02/02/an-introduction-to-json-support-in-spark-sql.html\n",
    "\n",
    "An example JSON message from http://json.org/example.html follows.\n",
    "\n",
    "````\n",
    "{\n",
    "    \"glossary\": {\n",
    "        \"title\": \"example glossary\",\n",
    "\t\t\"GlossDiv\": {\n",
    "            \"title\": \"S\",\n",
    "\t\t\t\"GlossList\": {\n",
    "                \"GlossEntry\": {\n",
    "                    \"ID\": \"SGML\",\n",
    "\t\t\t\t\t\"SortAs\": \"SGML\",\n",
    "\t\t\t\t\t\"GlossTerm\": \"Standard Generalized Markup Language\",\n",
    "\t\t\t\t\t\"Acronym\": \"SGML\",\n",
    "\t\t\t\t\t\"Abbrev\": \"ISO 8879:1986\",\n",
    "\t\t\t\t\t\"GlossDef\": {\n",
    "                        \"para\": \"A meta-markup language, used to create markup languages such as DocBook.\",\n",
    "\t\t\t\t\t\t\"GlossSeeAlso\": [\"GML\", \"XML\"]\n",
    "                    },\n",
    "\t\t\t\t\t\"GlossSee\": \"markup\"\n",
    "                }\n",
    "            }\n",
    "        }\n",
    "    }\n",
    "}\n",
    "````\n",
    "\n",
    "\n",
    "If you are working with data generated from the web, odds are that that data will follow the JSON format. Even the file format of this Jupyter notebook is JSON. \n",
    "\n",
    "When talking in data science circles, JSON would be considered semi-structured data within this spectrum of structuredness:\n",
    "\n",
    "* **Structured**: Structured data is typically referring to the well-defined schemas of relational databases where there are predefined rows and columns or tables.\n",
    "\n",
    "* **Semi-Structured**: Semi-structured data has some organization for its elements, but does not dictate a defined structure as in a relational database's table. Data can be retrieved from semi-structured data using a key or label as in the Python dictionary. Other examples of semi-structured data include JSON and CSV.\n",
    "\n",
    "* **Unstructured**: Unstructured data lacks any predefined schema or model. Examples of unstructured data might include audio files or unlabeled text scrapped from the web.\n"
   ]
  },
  {
   "cell_type": "markdown",
   "metadata": {},
   "source": [
    "**JSON in Python**\n",
    "\n",
    "Conceptually, JSON is quite similar to Python's dictionary. In practice, however, JSON requires specific formatting to be valid and therefore interoperate with other systems. The Python JSON library makes it quite easy to both encode and decode to and from JSON and native Python datatypes. \n",
    "\n",
    "For encoding, <code>json.dumps(object)</code> is the primary method as can be seen below."
   ]
  },
  {
   "cell_type": "code",
   "execution_count": null,
   "metadata": {
    "collapsed": false
   },
   "outputs": [],
   "source": [
    "import json\n",
    "\n",
    "python_dict = {'class':'big data', 'favorite technologies':['Python', 'Spark', 'AWS', 'Jupyter', 'Google BigQuery']}\n",
    "\n",
    "\n",
    "# Convert it to JSON\n",
    "json.dumps(python_dict)"
   ]
  },
  {
   "cell_type": "markdown",
   "metadata": {},
   "source": [
    "Look at the output of <code>json.dumps</code>.  How is it different from the dictionary object?  What is the return type of <code>json.dumps</code>?\n",
    "\n",
    "> A quick aside: to determine a type of any object empirically, use <code>type(object)</code>\n",
    "\n",
    "\n",
    "The json library predictably helps you read JSON into native Python datatypes too. Read our sample file below and then determine the type of the resulting object."
   ]
  },
  {
   "cell_type": "code",
   "execution_count": null,
   "metadata": {
    "collapsed": false
   },
   "outputs": [],
   "source": [
    "with open('./datasets/sample.json') as json_file:\n",
    "    data = json.load(json_file)"
   ]
  },
  {
   "cell_type": "code",
   "execution_count": null,
   "metadata": {
    "collapsed": false
   },
   "outputs": [],
   "source": [
    "# What type is \"data\"\n"
   ]
  },
  {
   "cell_type": "markdown",
   "metadata": {},
   "source": [
    "Now, print the contents of the file. For formatting, we will use the \"pretty print\" library to make the output nicer in our notebook- https://docs.python.org/2/library/pprint.html."
   ]
  },
  {
   "cell_type": "code",
   "execution_count": null,
   "metadata": {
    "collapsed": false
   },
   "outputs": [],
   "source": [
    "from pprint import pprint\n",
    "\n",
    "pprint(data)"
   ]
  },
  {
   "cell_type": "markdown",
   "metadata": {},
   "source": [
    "Using the same general approach to selecting data, assign the \"company\" field from the first element of the <code>data</code> object to a variable in the next cell."
   ]
  },
  {
   "cell_type": "code",
   "execution_count": null,
   "metadata": {
    "collapsed": false
   },
   "outputs": [],
   "source": [
    "# What is the company name of the first element in data\n"
   ]
  },
  {
   "cell_type": "markdown",
   "metadata": {},
   "source": [
    "## pandas Series and Dataframes\n",
    "\n",
    "We used a pandas dataframe in the last exercise, so let's explore data selection, filtering, and some of the built-in statistics functions in more detail for it and the one-dimensional pandas series.\n",
    "\n",
    "**Indexing a Series**\n",
    "\n",
    "Indexing a series uses the hopefully familiar <code>series[label]</code> format. A \"label\" for a series can either be the zero-index position or the label of the index. Try the following."
   ]
  },
  {
   "cell_type": "code",
   "execution_count": null,
   "metadata": {
    "collapsed": false
   },
   "outputs": [],
   "source": [
    "import pandas as pd\n",
    "import math\n",
    "\n",
    "# Make a series\n",
    "my_series = pd.Series([42,'towel',math.pi], index=['one','two','three'])"
   ]
  },
  {
   "cell_type": "code",
   "execution_count": null,
   "metadata": {
    "collapsed": false
   },
   "outputs": [],
   "source": [
    "# Print the series\n",
    "my_series"
   ]
  },
  {
   "cell_type": "code",
   "execution_count": null,
   "metadata": {
    "collapsed": false
   },
   "outputs": [],
   "source": [
    "# Return the 2nd element of the series by location\n"
   ]
  },
  {
   "cell_type": "code",
   "execution_count": null,
   "metadata": {
    "collapsed": false
   },
   "outputs": [],
   "source": [
    "# Return the element called \"three\" by name\n"
   ]
  },
  {
   "cell_type": "code",
   "execution_count": null,
   "metadata": {
    "collapsed": true
   },
   "outputs": [],
   "source": [
    "# What is the datatype of the \"three\" element\n"
   ]
  },
  {
   "cell_type": "markdown",
   "metadata": {},
   "source": [
    "**Boolean Masks**\n",
    "\n",
    "pandas masks are similar to those in NumPy of form\n",
    "\n",
    "```\n",
    "series[series logical test]\n",
    "dataframe[dataframe logical test]\n",
    "```\n",
    "like\n",
    "```\n",
    "df[df['column_name']=='criteria']\n",
    "```\n",
    "\n",
    "where the inner term returns a boolean mask to then derive the relevant elements from the outer series object.\n",
    "\n",
    "Try this below by first creating a logical test to return the boolean mask of items that are \"towel\" in <code>my_series</code>.  Refer to the Python logical operators listed under comparisons at \n",
    "\n",
    "* https://docs.python.org/2/library/stdtypes.html \n",
    "\n",
    "and the pandas documentation on boolean indexing at \n",
    "\n",
    "* http://pandas.pydata.org/pandas-docs/stable/indexing.html#boolean-indexing"
   ]
  },
  {
   "cell_type": "code",
   "execution_count": null,
   "metadata": {
    "collapsed": false
   },
   "outputs": [],
   "source": [
    "# First, print a boolean vector of all the elements that are \"towel\"\n"
   ]
  },
  {
   "cell_type": "code",
   "execution_count": null,
   "metadata": {
    "collapsed": true
   },
   "outputs": [],
   "source": [
    "# Now pass the vector to the series to return any elements that are True\n"
   ]
  },
  {
   "cell_type": "code",
   "execution_count": null,
   "metadata": {
    "collapsed": true
   },
   "outputs": [],
   "source": [
    "# Now create a boolean mask that returns all elements from my_series that are \"towel\" or 42\n"
   ]
  },
  {
   "cell_type": "markdown",
   "metadata": {},
   "source": [
    "**Indexing a Dataframe**\n",
    "\n",
    "There are several different methods to index a dataframe. Given most dataframes are multidimensional and can include named labels both for the row index and column names, the syntax requires more methods.  The primary selection methods are: \n",
    "\n",
    "* <code>df.ix</code> is the most general index method as it supports both label and location based indexing. \n",
    "* <code>df.loc</code> is primarily label based using the names of rows or columns.\n",
    "* <code>df.iloc</code> is primarily location based again using zero-based integers to index.\n",
    "\n",
    "All methods use this syntax to select rows and columns and follow the same conventions as the previous objects:\n",
    "\n",
    "<code>df.ix[row_indexer,column_indexer]</code>\n",
    "\n",
    "More details on indexing and data selection can be found here:\n",
    "\n",
    "http://pandas.pydata.org/pandas-docs/stable/indexing.html\n",
    "\n",
    "Try the examples below."
   ]
  },
  {
   "cell_type": "code",
   "execution_count": null,
   "metadata": {
    "collapsed": false
   },
   "outputs": [],
   "source": [
    "# We will use NumPy's randn function which returns random samples \n",
    "# from a normal distribution. This function returns a matrix of the \n",
    "# size specified as attributes which, in this case, is 4x4.\n",
    "\n",
    "df_data = np.random.randn(4,4)\n",
    "\n",
    "# Now, we will call the NumPy array to see its elements\n",
    "\n",
    "df_data"
   ]
  },
  {
   "cell_type": "code",
   "execution_count": null,
   "metadata": {
    "collapsed": false
   },
   "outputs": [],
   "source": [
    "# Let's use the data to build a dataframe without any labels\n",
    "\n",
    "df = pd.DataFrame(data=df_data)\n",
    "\n",
    "# Let's call the dataframe\n",
    "\n",
    "df"
   ]
  },
  {
   "cell_type": "markdown",
   "metadata": {},
   "source": [
    "Notice in the output above, the dataframe filled in integer values for rows and columns as neither was specified when the dataframe was created. Try to retrieve elements of the dataframe below."
   ]
  },
  {
   "cell_type": "code",
   "execution_count": null,
   "metadata": {
    "collapsed": false
   },
   "outputs": [],
   "source": [
    "# Select the first column of the df. Notice that the result should be a panads series.\n",
    "# Append the correct code to the print df statements. Using print retains the output.\n",
    "\n",
    "df #<-Your code here."
   ]
  },
  {
   "cell_type": "code",
   "execution_count": null,
   "metadata": {
    "collapsed": false
   },
   "outputs": [],
   "source": [
    "# Select the third element of the first column\n",
    "\n",
    "df #<-Your code here."
   ]
  },
  {
   "cell_type": "code",
   "execution_count": null,
   "metadata": {
    "collapsed": true
   },
   "outputs": [],
   "source": [
    "# Select the first row of the df.\n",
    "\n",
    "df #<-Your code here."
   ]
  },
  {
   "cell_type": "markdown",
   "metadata": {},
   "source": [
    "Now, let's add some column names to the dataframe."
   ]
  },
  {
   "cell_type": "code",
   "execution_count": null,
   "metadata": {
    "collapsed": false
   },
   "outputs": [],
   "source": [
    "# Create a list of names, assign to dataframe, and call.\n",
    "\n",
    "col_names = ['fire', 'water', 'wind', 'earth']\n",
    "df.columns = col_names # Note this can be specified as an attribute during creation.\n",
    "df"
   ]
  },
  {
   "cell_type": "markdown",
   "metadata": {},
   "source": [
    "Now, do the following."
   ]
  },
  {
   "cell_type": "code",
   "execution_count": null,
   "metadata": {
    "collapsed": true
   },
   "outputs": [],
   "source": [
    "# Return the first column of the dataframe using the label.\n",
    "\n",
    "df"
   ]
  },
  {
   "cell_type": "code",
   "execution_count": null,
   "metadata": {
    "collapsed": false
   },
   "outputs": [],
   "source": [
    "# Return the second element of the water column by label.\n",
    "\n",
    "df"
   ]
  },
  {
   "cell_type": "markdown",
   "metadata": {},
   "source": [
    "Now, let's create a row index of names."
   ]
  },
  {
   "cell_type": "code",
   "execution_count": null,
   "metadata": {
    "collapsed": false
   },
   "outputs": [],
   "source": [
    "# Create a list of row names, assign to dataframe index, and call it.\n",
    "\n",
    "col_rows = ['Sakura', 'Kakashi', 'Shikamaru', 'Rock']\n",
    "df.index = col_rows # Note this can be specified as an attribute during creation.\n",
    "df"
   ]
  },
  {
   "cell_type": "markdown",
   "metadata": {},
   "source": [
    "Apply your indexing and selection skills."
   ]
  },
  {
   "cell_type": "code",
   "execution_count": null,
   "metadata": {
    "collapsed": false
   },
   "outputs": [],
   "source": [
    "# Return the second row of the dataframe using the label.\n",
    "\n"
   ]
  },
  {
   "cell_type": "code",
   "execution_count": null,
   "metadata": {
    "collapsed": false
   },
   "outputs": [],
   "source": [
    "# Assign the earth value for Sakura to a var and print.\n",
    "\n",
    "sakura_earth = df\n",
    "print 'Sakura\\'s earth value is {}'.format(sakura_earth)"
   ]
  },
  {
   "cell_type": "markdown",
   "metadata": {},
   "source": [
    "**Len: one of the most used methods**\n",
    "\n",
    "To determine the length of many objects including things like the number of elements in a column of a dataframe, you can use the <code>len</code> method. The syntax is simply: <code>len(obj)</code>"
   ]
  },
  {
   "cell_type": "code",
   "execution_count": null,
   "metadata": {
    "collapsed": false
   },
   "outputs": [],
   "source": [
    "# Find the length of the fire column\n"
   ]
  }
 ],
 "metadata": {
  "kernelspec": {
   "display_name": "Python 2",
   "language": "python",
   "name": "python2"
  },
  "language_info": {
   "codemirror_mode": {
    "name": "ipython",
    "version": 2
   },
   "file_extension": ".py",
   "mimetype": "text/x-python",
   "name": "python",
   "nbconvert_exporter": "python",
   "pygments_lexer": "ipython2",
   "version": "2.7.11"
  }
 },
 "nbformat": 4,
 "nbformat_minor": 0
}
