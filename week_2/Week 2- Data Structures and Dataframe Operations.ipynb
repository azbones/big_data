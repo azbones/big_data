{
 "cells": [
  {
   "cell_type": "markdown",
   "metadata": {},
   "source": [
    "# Week 2- Data Structures and Dataframe Operations\n",
    "\n",
    "**Objectives**: Today we are going to explore both Python-specific and general data structures that are important to data science. We will cover the following:\n",
    "  \n",
    "* Variables and datatypes\n",
    "* Strings, lists, and tuples\n",
    "* Arrays, dataframes and series\n",
    "* Basic dataframe operations\n",
    "* Dictionaries and JSON"
   ]
  },
  {
   "cell_type": "markdown",
   "metadata": {},
   "source": [
    "## Variables and Basic Datatypes\n",
    "\n",
    "Variables in Python are names for values that are stored in memory. Typically, variables in Python are lower case letters that describe the value of the variable like:\n",
    "\n",
    "<code>counter = 2</code>\n",
    "\n",
    "Unlike other languages, Python uses dynamic typing, so datatypes are inferred from the value of the variable. In the \"<code>counter</code>\" example above, Python assumes that the \"2\" is an integer or type of <code>int</code>. \n",
    "\n",
    "Knowing that <code>counter</code> is an integer is critical if you plan to do any calulations with it. For example, if wanted to divide the value in <code>counter</code> by 2 expecting the answer to be .5, you would be mistaken. Try this in the code block below:"
   ]
  },
  {
   "cell_type": "code",
   "execution_count": null,
   "metadata": {
    "collapsed": true
   },
   "outputs": [],
   "source": [
    "# Assign 2 to a variable named \"counter\"\n",
    "\n",
    "# Divide \"counter\" by two\n"
   ]
  },
  {
   "cell_type": "markdown",
   "metadata": {},
   "source": [
    "**Some Basic Built-in Datatypes**\n",
    "\n",
    "Python 2.7.x has the following built-in numeric datatypes:\n",
    "\n",
    "* <code>int</code>: plain integers like 4\n",
    "* <code>float</code>: floating point numbers like 4.0\n",
    "* <code>complex</code>: complex numbers like 4j\n",
    "\n",
    "To determine the datatype of any object, you can use the <code>type</code> function like:\n",
    "\n",
    "<code>type(object)</code>\n",
    "\n",
    "Many analytic tasks use numeric types, so it is good to be familar with them. Beyond numeric values, many analytic tasks will also include other built-in types like:\n",
    "\n",
    "Boolean types:\n",
    "* <code>bool</code>: boolean like True or False\n",
    "\n",
    "Sequence types:\n",
    "* <code>str</code>: string like this sequence of characters \"this is a string\"\n",
    "* <code>list</code>: list like this list of ints: [1,2,3]\n",
    "* <code>tuple</code>: tuple like this tuple of ints: (1,2,3)\n",
    "\n",
    "You can learn more about the details of types here- https://docs.python.org/2/library/stdtypes.html\n",
    "\n",
    "We are not going to go into the significantly more complex inner-workings of these types, but understanding the basics of accessing data is important to a data scientist and there are some common approaches regardless of type.\n",
    "\n",
    "For a sequence type, there are two ways to get parts of those sequences- indexing and slicing:\n",
    "\n",
    "**Indexing**\n",
    "\n",
    "Python uses a zero-based index which means that the first element will be zero.  To access a specific value, you append the index of that value to the sequence like:\n",
    "\n",
    "<code>my_sequence[0] # The zero in square brackets returns the first or 0th element </code>\n",
    "\n",
    "**Slicing**\n",
    "\n",
    "Slices work by extending the idea of an index with an operator that allows you to select a range of index locations in a sequence type. Specifically, you use <code>:</code> and index locations to retrive parts of the sequence like:\n",
    "\n",
    "````\n",
    "my_sequence[start:end] # items from start through end-1\n",
    "my_sequence[start:]    # items from start through the rest of the array\n",
    "my_sequence[:end]      # items from the beginning through end-1\n",
    "my_sequence[:]         # the whole array\n",
    "````\n",
    "\n",
    "Enter some different sequence types below and index and slice them to return their elements."
   ]
  },
  {
   "cell_type": "code",
   "execution_count": null,
   "metadata": {
    "collapsed": true
   },
   "outputs": [],
   "source": [
    "# Assign a string type sequence with five elements to a variable name\n",
    "\n",
    "# Print the variable\n",
    "\n",
    "# Return the 4th element\n",
    "\n",
    "# Return the 2nd element to the end of the sequence\n",
    "\n",
    "# Assign a list type sequence with five elements to a variable name\n",
    "\n",
    "# Print the list\n",
    "\n",
    "# Return the 2th element\n",
    "\n",
    "# Return the 1st element to the end of the sequence\n",
    "\n",
    "# Assign a tuple type sequence with five elements that are bools to a variable name\n",
    "\n",
    "# Print the list\n",
    "\n",
    "# Return the 2th element\n",
    "\n",
    "# Return the 1st element to the end of the sequence"
   ]
  },
  {
   "cell_type": "markdown",
   "metadata": {},
   "source": [
    "## Arrays and Dataframes\n",
    "\n",
    "The basic variables and sequence types are quite useful for a variety of tasks, but arrays and dataframes are the workhorses of analytics and data science. Arrays and dataframes are great not only because they can represent multidimensional data like a spreadsheet, but also because they use vectorized code. In Python this means both NumPy arrays and pandas dataframes use optimized C code that doesn't need to use Python for loops and can therefore be much more concise and much faster.\n",
    "\n"
   ]
  }
 ],
 "metadata": {
  "kernelspec": {
   "display_name": "Python 2",
   "language": "python",
   "name": "python2"
  },
  "language_info": {
   "codemirror_mode": {
    "name": "ipython",
    "version": 2
   },
   "file_extension": ".py",
   "mimetype": "text/x-python",
   "name": "python",
   "nbconvert_exporter": "python",
   "pygments_lexer": "ipython2",
   "version": "2.7.6"
  }
 },
 "nbformat": 4,
 "nbformat_minor": 0
}
