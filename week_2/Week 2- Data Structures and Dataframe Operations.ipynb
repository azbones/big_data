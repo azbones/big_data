{
 "cells": [
  {
   "cell_type": "markdown",
   "metadata": {},
   "source": [
    "# Week 2- Data Structures and Dataframe Operations\n",
    "\n",
    "**Objectives**: Today we are going to explore both Python-specific and general data structures that are important to data science. We will cover the following:\n",
    "  \n",
    "* Variables and datatypes\n",
    "* Strings, lists, and tuples\n",
    "* NumPy arrays\n",
    "* Dictionaries and JSON\n",
    "* Arrays, dataframes and series\n",
    "* Basic dataframe operations"
   ]
  },
  {
   "cell_type": "markdown",
   "metadata": {},
   "source": [
    "## Variables and Basic Datatypes\n",
    "\n",
    "Variables in Python are names for values that are stored in memory. Typically, variables in Python are lower case letters that describe the value of the variable like:\n",
    "\n",
    "<code>counter = 2</code>\n",
    "\n",
    "Unlike other languages, Python uses dynamic typing, so datatypes are inferred from the value of the variable. In the \"<code>counter</code>\" example above, Python assumes that the \"2\" is an integer or type of <code>int</code>. \n",
    "\n",
    "Knowing that <code>counter</code> is an integer is critical if you plan to do any calculations with it. For example, if wanted to divide the value in <code>counter</code> by 2 expecting the answer to be .5, you would be mistaken. Try this in the code block below:"
   ]
  },
  {
   "cell_type": "code",
   "execution_count": null,
   "metadata": {
    "collapsed": true
   },
   "outputs": [],
   "source": [
    "# Assign 2 to a variable named \"counter\"\n",
    "\n",
    "# Divide \"counter\" by two\n"
   ]
  },
  {
   "cell_type": "markdown",
   "metadata": {},
   "source": [
    "**Basic Built-in Numeric Datatypes**\n",
    "\n",
    "Python 2.7.x has the following built-in numeric datatypes:\n",
    "\n",
    "* <code>int</code>: plain integers like 4\n",
    "* <code>float</code>: floating point numbers like 4.0\n",
    "* <code>complex</code>: complex numbers like 4j\n",
    "\n",
    "To determine the datatype of any object, you can use the <code>type</code> function like:\n",
    "\n",
    "<code>type(object)</code>\n",
    "\n",
    "Many analytic tasks use numeric types, so it is good to be familiar with them. Beyond numeric values, many analytic tasks will also include other built-in types like:\n",
    "\n",
    "**Basic Built-in Boolean and Sequence Datatypes**\n",
    "\n",
    "Boolean types:\n",
    "* <code>bool</code>: boolean like True or False\n",
    "\n",
    "Sequence types:\n",
    "* <code>str</code>: string like this sequence of characters \"this is a string\"\n",
    "* <code>list</code>: list like this list of ints: [1,2,3]\n",
    "* <code>tuple</code>: tuple like this tuple of ints: (1,2,3)\n",
    "\n",
    "The descriptions of each of these types is intentionally incomplete (why would you use a list versus a tuple, for example?), so you can learn more details here:\n",
    "\n",
    "* https://docs.python.org/2/library/stdtypes.html\n",
    "\n",
    "The inner-workings of each of these types can become complex, but understanding the basics of accessing data is important to a data scientist and there are some common approaches regardless of type.\n",
    "\n",
    "For a sequence type, there are two ways to get parts of those sequences- indexing and slicing:\n",
    "\n",
    "**Indexing**\n",
    "\n",
    "Python uses a zero-based index that means the first element will be zero, the second element will be one, and so on.  To access a specific value, you append the index of that value to the sequence like:\n",
    "\n",
    "<code>my_sequence[0] # The zero in square brackets returns the first or 0th element </code>\n",
    "\n",
    "**Slicing**\n",
    "\n",
    "Slices work by extending the idea of an index with an operator that allows you to select a range of index locations in a sequence type. Specifically, you use <code>:</code> and index locations to retrive parts of the sequence like:\n",
    "\n",
    "````\n",
    "my_sequence[start:end] # items from start through end-1\n",
    "my_sequence[start:]    # items from start through the rest of the array\n",
    "my_sequence[:end]      # items from the beginning through end-1\n",
    "my_sequence[:]         # the whole array\n",
    "````\n",
    "\n",
    "Enter some different sequence types below and index and slice them to return their elements."
   ]
  },
  {
   "cell_type": "code",
   "execution_count": null,
   "metadata": {
    "collapsed": true
   },
   "outputs": [],
   "source": [
    "# Assign a string type sequence with five elements to a variable name\n",
    "\n",
    "# Print the variable\n",
    "\n",
    "# Return the 4th element\n",
    "\n",
    "# Return from the 2nd element to the end of the sequence\n",
    "\n",
    "# Assign a list type sequence with five elements to a variable name\n",
    "\n",
    "# Print the list\n",
    "\n",
    "# Return the 2nd element of the list\n",
    "\n",
    "# Return from the 1st element to the end of the sequence\n",
    "\n",
    "# Assign a tuple type sequence with five elements that are bools to a variable name\n",
    "\n",
    "# Print the list\n",
    "\n",
    "# Return the 2nd element\n",
    "\n",
    "# Return from the 1st element to the end of the sequence"
   ]
  },
  {
   "cell_type": "markdown",
   "metadata": {},
   "source": [
    "## NumPy Arrays\n",
    "\n",
    "The basic variables and sequence types are quite useful for a variety of tasks, but arrays and dataframes are the workhorses of analytics and data science. Arrays and dataframes are great not only because they can represent multidimensional data like a spreadsheet, but also because they use vectorized code. In Python this means both NumPy arrays and the more general and flexible pandas dataframes use optimized C code that doesn't need to use Python for loops and can therefore be much more concise and much faster.\n",
    "\n",
    "With large datasets, the speedup of vectorize operations can be significant when compared to <code>for</code> loops. When working with dataframes or arrays, try to think in matrix terms rather than iterating through each element.\n",
    "\n",
    "**Numpy**\n",
    "\n",
    "Numpy arrays can perform basic mathematics operations like add, subtract, multiply, and divide among arrays with the same shape on an element by element basic as follows.  Observe that this is truly element by element and not matrix multiplication."
   ]
  },
  {
   "cell_type": "code",
   "execution_count": null,
   "metadata": {
    "collapsed": false
   },
   "outputs": [],
   "source": [
    "import numpy as np\n",
    "\n",
    "my_arr = np.array([[10,20,30],[100,200,300],[1,2,3]])\n",
    "print 'this is my_arr:'\n",
    "print my_arr\n",
    "\n",
    "my_other_arr = np.array([[1,0,1],[0,1,0],[1,0,1]])\n",
    "print 'this is my_other_arr:'\n",
    "print my_other_arr\n",
    "\n",
    "print 'this is the product of my two arrays:' \n",
    "print my_arr * my_other_arr"
   ]
  },
  {
   "cell_type": "markdown",
   "metadata": {},
   "source": [
    "When the arrays are different shapes, Numpy can broadcast compatibly shaped arrays together. In the next example, NumPy takes the 3x3 <code>my_arr</code> array and multiplies it by the one-dimensional array <code>my_one_row_arr</code>."
   ]
  },
  {
   "cell_type": "code",
   "execution_count": null,
   "metadata": {
    "collapsed": false
   },
   "outputs": [],
   "source": [
    "my_one_row_arr = np.array([[100,0,10]])\n",
    "\n",
    "print my_arr * my_one_row_arr"
   ]
  },
  {
   "cell_type": "markdown",
   "metadata": {},
   "source": [
    "Broadcasting essentially replicates the lower dimensional array into the structure of the larger array.  In this case, broadcasting essentially does an element-wise multiplication by multiplying each row of the larger array by each element in the smaller one. \n",
    "\n",
    "Try adding an additional element to the 1x3 array to make it a 1x4 and rerun the code multiplying the two arrays. As you will see, broadcasting requires arrays that have compatible sizes.\n",
    "\n",
    "**Indexing and Slicing Arrays**\n",
    "\n",
    "Much of the same concepts we covered earlier work in a similar way for NumPy arrays except using multiple dimensions. To access a given element in a 2 dimnesional array the same basic Python syntax applies as in <code>x[obj]</code>. Instead of a single value index as in the sequence, you can either return a row with a scalar value or an element within a row by selecting <code>[row,row_index]</code>.  \n",
    "\n",
    "Try accessing rows and individual elements in my array below."
   ]
  },
  {
   "cell_type": "code",
   "execution_count": null,
   "metadata": {
    "collapsed": false
   },
   "outputs": [],
   "source": [
    "my_arr[]"
   ]
  },
  {
   "cell_type": "markdown",
   "metadata": {},
   "source": [
    "Slicing also works in a similar way by using the ellipsis. Try the following slices below."
   ]
  },
  {
   "cell_type": "code",
   "execution_count": null,
   "metadata": {
    "collapsed": false
   },
   "outputs": [],
   "source": [
    "# Slice to return the last two rows\n",
    "\n",
    "my_arr[]\n",
    "\n",
    "# Slice to return the 2nd column\n",
    "\n",
    "my_arr[]"
   ]
  },
  {
   "cell_type": "markdown",
   "metadata": {},
   "source": [
    "**Boolean Masks**\n",
    "\n",
    "Boolean masks are a critical component of many analyses given they are simple, vectorized approaches to filtering and constructing new arrays for a topic of interest. Masks are conceptually simple. Run the code below to see what happens when we add a boolean test to our array. The syntax is the same as the earlier basic arithmatic operations that are broadcast across the array. "
   ]
  },
  {
   "cell_type": "code",
   "execution_count": null,
   "metadata": {
    "collapsed": false
   },
   "outputs": [],
   "source": [
    "my_arr > 20"
   ]
  },
  {
   "cell_type": "markdown",
   "metadata": {},
   "source": [
    "The resulting array is the same shape, but has boolean values for the element-wise logical test. You can see this in the <code>dtype=bool</code> output.\n",
    "\n",
    "Where this gets really cool is when we combine this result with our selection syntax.  Before you run the next cell, what do you think the results will be?"
   ]
  },
  {
   "cell_type": "code",
   "execution_count": null,
   "metadata": {
    "collapsed": false
   },
   "outputs": [],
   "source": [
    "my_arr[my_arr > 20]"
   ]
  },
  {
   "cell_type": "markdown",
   "metadata": {},
   "source": [
    "The result should be a one-dimensional array of the element-wise logical test.\n",
    "\n",
    "If you want to learn more about indexing in NumPy try these resources:\n",
    "\n",
    "* http://docs.scipy.org/doc/numpy/reference/arrays.indexing.html"
   ]
  },
  {
   "cell_type": "markdown",
   "metadata": {},
   "source": [
    "## Dictionaries and JSON\n",
    "\n",
    "**Dictionaries**\n",
    "\n",
    "Dictionaries are another important data type in Python. Dictionaries contain elements like sequences, but instead of referencing items by position, they use names. In the simplest terms, a dictionary is a collection of key-value pairs like:\n",
    "\n",
    "````\n",
    "{\"user_number\":123,\n",
    "\"user_name\":\"Issac\"}\n",
    "````\n",
    "\n",
    "Where lists use <code>[]</code> and tuples use <code>()</code>, dictionaries or dicts use <code>{}</code>. To build a dictionary, within the curly brackets, keys preceed their values with a colon like\n",
    "\n",
    "````\n",
    "{'my key':126}\n",
    "````\n",
    "\n",
    "Dictionaries are unordered, so the only way to retrieve a specific value for a given key is via its name.  Dictionaries also have to have unique keys, but values need not be unique. Run the code below to demonstrate."
   ]
  },
  {
   "cell_type": "code",
   "execution_count": null,
   "metadata": {
    "collapsed": false
   },
   "outputs": [],
   "source": [
    "my_dict = {'user_number':123,\n",
    "           'user_name':'Issac'}\n",
    "\n",
    "print my_dict\n",
    "\n",
    "print '\\nThe user number is {}'.format(my_dict['user_number'])"
   ]
  },
  {
   "cell_type": "markdown",
   "metadata": {},
   "source": [
    "While we have only been dealing with sequences and dictionaries with one level, all of these structures can support nested elements of multiple types. Try the following to explore this ability. Try some different datatypes in the value and key positions."
   ]
  },
  {
   "cell_type": "code",
   "execution_count": null,
   "metadata": {
    "collapsed": false
   },
   "outputs": [],
   "source": [
    "# Build a dictionary with two keys (odds and evens) and two values \n",
    "# that are lists of the odd and even numbers on a single six-sided die \n",
    "# and assign it to name \"dice\".\n",
    "\n",
    "# Print the dictionary\n",
    "\n",
    "# Print the second element of 'evens'\n",
    "\n",
    "# Print the first element of 'odds'\n"
   ]
  },
  {
   "cell_type": "markdown",
   "metadata": {},
   "source": [
    "**JSON and Structured, Semi-Structures, and Unstructured Data**\n",
    "\n",
    "According to http://json.org:\n",
    "\n",
    ">JSON (JavaScript Object Notation) is a lightweight data-interchange format. It is easy for humans to read and write. It is easy for machines to parse and generate. It is based on a subset of the JavaScript Programming Language, Standard ECMA-262 3rd Edition - December 1999. JSON is a text format that is completely language independent but uses conventions that are familiar to programmers of the C-family of languages, including C, C++, C#, Java, JavaScript, Perl, Python, and many others. These properties make JSON an ideal data-interchange language.\n",
    ">\n",
    ">JSON is built on two structures:\n",
    ">\n",
    ">* A collection of name/value pairs. In various languages, this is realized as an object, record, struct, dictionary, hash table, keyed list, or associative array.\n",
    ">\n",
    ">* An ordered list of values. In most languages, this is realized as an array, vector, list, or sequence.\n",
    "\n",
    "\n",
    "For those interested in data science and analytics, JSON is a very common datatype. Many new NoSQL databases use JSON or JSON-like models as their foundational data structure or offer features to handle JSON documents like:\n",
    "\n",
    "* mongoDB- https://docs.mongodb.org/manual/core/data-modeling-introduction/\n",
    "* DynamoDB- https://aws.amazon.com/blogs/aws/dynamodb-update-json-and-more/\n",
    "* Spark SQL- https://databricks.com/blog/2015/02/02/an-introduction-to-json-support-in-spark-sql.html\n",
    "\n",
    "An example JSON message from http://json.org/example.html follows.\n",
    "\n",
    "````\n",
    "{\n",
    "    \"glossary\": {\n",
    "        \"title\": \"example glossary\",\n",
    "\t\t\"GlossDiv\": {\n",
    "            \"title\": \"S\",\n",
    "\t\t\t\"GlossList\": {\n",
    "                \"GlossEntry\": {\n",
    "                    \"ID\": \"SGML\",\n",
    "\t\t\t\t\t\"SortAs\": \"SGML\",\n",
    "\t\t\t\t\t\"GlossTerm\": \"Standard Generalized Markup Language\",\n",
    "\t\t\t\t\t\"Acronym\": \"SGML\",\n",
    "\t\t\t\t\t\"Abbrev\": \"ISO 8879:1986\",\n",
    "\t\t\t\t\t\"GlossDef\": {\n",
    "                        \"para\": \"A meta-markup language, used to create markup languages such as DocBook.\",\n",
    "\t\t\t\t\t\t\"GlossSeeAlso\": [\"GML\", \"XML\"]\n",
    "                    },\n",
    "\t\t\t\t\t\"GlossSee\": \"markup\"\n",
    "                }\n",
    "            }\n",
    "        }\n",
    "    }\n",
    "}\n",
    "````\n",
    "\n",
    "\n",
    "If you are working with data generated from the web, odds are that that data will follow the JSON format. Even the file format of this Jupyter notebook is JSON. \n",
    "\n",
    "When talking in data science circles, JSON would be considered semi-structured data within this spectrum of structuredness:\n",
    "\n",
    "* **Structured**: Structured data is typically referring to the well defined schemas of relational databases where there are predefined rows and columns or tables.\n",
    "\n",
    "* **Semi-Structured**: Semi-structured data has some organization for its elements, but does not dictate a defined structure as in a relational database's table. Data can be retrieved from semi-structured data using a key or label as in the Python dictionary. Other examples of semi-structured data include JSON and CSV.\n",
    "\n",
    "* **Unstructured**: Unstructured data lacks any predefined schema or model. Examples of unstructured data might include audio files or unlabeled text scrapped from the web.\n"
   ]
  },
  {
   "cell_type": "markdown",
   "metadata": {},
   "source": [
    "**JSON in Python**\n",
    "\n",
    "Conceptually, JSON is quite similar to Python's dictionary. In practice, however, JSON requires specific formatting to be valid and therefore interoperate with other systems. The Python JSON library makes it quite easy to both encode and decode to and from JSON and native Python datatypes. \n",
    "\n",
    "For encoding, <code>json.dumps(object)</code> is the primary method as can be seen below."
   ]
  },
  {
   "cell_type": "code",
   "execution_count": null,
   "metadata": {
    "collapsed": false
   },
   "outputs": [],
   "source": [
    "import json\n",
    "\n",
    "python_dict = {'class':'big data', 'favorite technologies':['Python', 'Spark', 'AWS', 'Jupyter', 'Google BigQuery']}\n",
    "\n",
    "\n",
    "# Convert it to Python\n",
    "json.dumps(python_dict)"
   ]
  },
  {
   "cell_type": "markdown",
   "metadata": {},
   "source": [
    "Look at the output of <code>json.dumps</code>.  How is it different from the dictionary object?  What is the return type of <code>json.dumps</code>?\n",
    "\n",
    "> A quick aside: to determine a type of any object empircally, use <code>type(object)</code>\n",
    "\n",
    "\n",
    "The json library predictably helps you read JSON into native Python datatypes too. Read our sample file below and then determine the type of the resulting object."
   ]
  },
  {
   "cell_type": "code",
   "execution_count": null,
   "metadata": {
    "collapsed": false
   },
   "outputs": [],
   "source": [
    "with open('./datasets/sample.json') as json_file:    # TODO: test on windoze\n",
    "    data = json.load(json_file)\n",
    "\n",
    "# What type is \"data\"\n"
   ]
  },
  {
   "cell_type": "markdown",
   "metadata": {},
   "source": [
    "Now, print the contents of the file. For formatting, we will use the \"pretty print\" library to make the output nicer in our notebook- https://docs.python.org/2/library/pprint.html."
   ]
  },
  {
   "cell_type": "code",
   "execution_count": null,
   "metadata": {
    "collapsed": false
   },
   "outputs": [],
   "source": [
    "from pprint import pprint\n",
    "\n",
    "pprint(data)"
   ]
  },
  {
   "cell_type": "markdown",
   "metadata": {},
   "source": [
    "Using the same general approach to selecting data, assign the \"company\" field from the first element of the <code>data</code> object to a variable in the next cell."
   ]
  },
  {
   "cell_type": "code",
   "execution_count": null,
   "metadata": {
    "collapsed": false
   },
   "outputs": [],
   "source": [
    "# What is the company name of the first element in data\n"
   ]
  },
  {
   "cell_type": "markdown",
   "metadata": {},
   "source": [
    "## pandas Series, Dataframe, and Panel\n",
    "\n",
    "We used a pandas dataframe in the last exercise, so let's explore data selection, filtering, and some of the built-in statistics functions in more detail for it and series and panels.\n",
    "\n",
    "**Indexing a Series**\n",
    "\n",
    "Indexing a series uses the hopefully familar <code>series[label]</code> format. \"label\" for a series can either be the zero-index position or the label of the index. Try the following."
   ]
  },
  {
   "cell_type": "code",
   "execution_count": null,
   "metadata": {
    "collapsed": false
   },
   "outputs": [],
   "source": [
    "import pandas as pd\n",
    "import math\n",
    "\n",
    "# Make a series\n",
    "my_series = pd.Series([42,'towel',math.pi], index=['one','two','three'])\n",
    "\n",
    "# Print the series\n",
    "\n",
    "# Return the 2nd element of the series by location\n",
    "\n",
    "# Return the element called \"three\" by name\n",
    "\n",
    "# What is the datatype of the \"three\" element\n"
   ]
  },
  {
   "cell_type": "markdown",
   "metadata": {},
   "source": [
    "**Boolean Masks**\n",
    "\n",
    "pandas masks are similar to those in NumPy of form series[series logical test] where the inner term returns a boolean mask to then derive the relevant elements from the outer series object.\n",
    "\n",
    "Try this below by first creating a logical test to return the boolean mask of items that are \"towel\".  Refer to the Python logical operators listed under comparisons- https://docs.python.org/2/library/stdtypes.html "
   ]
  },
  {
   "cell_type": "code",
   "execution_count": null,
   "metadata": {
    "collapsed": true
   },
   "outputs": [],
   "source": [
    "# First, return a boolean vector of all the elements that are \"towel\"\n",
    "\n",
    "# Now pass the vector to the series to return any that are True\n"
   ]
  }
 ],
 "metadata": {
  "kernelspec": {
   "display_name": "Python 2",
   "language": "python",
   "name": "python2"
  },
  "language_info": {
   "codemirror_mode": {
    "name": "ipython",
    "version": 2
   },
   "file_extension": ".py",
   "mimetype": "text/x-python",
   "name": "python",
   "nbconvert_exporter": "python",
   "pygments_lexer": "ipython2",
   "version": "2.7.6"
  }
 },
 "nbformat": 4,
 "nbformat_minor": 0
}
