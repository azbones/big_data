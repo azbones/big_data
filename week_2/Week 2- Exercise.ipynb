{
 "cells": [
  {
   "cell_type": "markdown",
   "metadata": {},
   "source": [
    "## Week 2 Exercise\n",
    "\n",
    "**Assignment**: This exercise will use a live, publicly accessable API to collect multiple categories of data in order to conduct analyses and create visulizations.  Spefically, you will:\n",
    "  \n",
    "* Collect data from a public website\n",
    "* Read data into dataframes\n",
    "* Develop a research question(s)\n",
    "* Inform that research question with visualizations\n",
    "* Inform that research question with basic statistics\n",
    "* Provide a short write up of your analysis\n",
    "* Generalize this analysis to \"big data\"\n",
    "\n",
    "For this exercise, you will have to complete all the tasks within this notebook, save the entire notebook, and then upload into the Week 2 Assignment for your group on BlackBoard. Save this notebook with a new name with the following format:\n",
    "\n",
    "**Week_2_Exercise_Group_group_number.ipynb**\n",
    "\n",
    "These in-class exercises are designed to allow you to explore Python with your group and **DO NOT** include step-by-step directions or answers that have only one possibility. Use your team and other resources to determine how best to complete them. Make sure before you turn in your notebook that it runs without errors and the requested output is visible in the notebook. If you go through multiple steps in your code, make sure all those steps are included so that we can evaluate your work."
   ]
  },
  {
   "cell_type": "markdown",
   "metadata": {},
   "source": [
    "## Basketball Statistics\n",
    "\n",
    "For this exercise, we are going to use the National Basketball Association's statitics site. We will be using a Python library called [requests](http://docs.python-requests.org/en/latest/) to send a URL to their http://stats.nba.com site to query it for player shot data. Requests makes it easy to do \"web scaping\" like this. The data returned from the website is JSON, but we will reading that JSON into a pandas dataframe for analysis.\n",
    "\n",
    "In order to make the retreival of the data easier, we have written a function that will return the shot statistics for any player for the 2014-2015 season. You have already been using simple functions like <code>type</code> and <code>id</code>, but in this case we are writing our own. Once you run the code in the cell below, the function <code>get_shot_stats</code> will be available for you to use just as any other Python function. Our function has one input parameter which is the NBA's player id.\n",
    "\n",
    "Run the code in the following block to make the function available for use in the notebook namespace."
   ]
  },
  {
   "cell_type": "code",
   "execution_count": 1,
   "metadata": {
    "collapsed": false
   },
   "outputs": [],
   "source": [
    "import requests\n",
    "import pandas as pd\n",
    "\n",
    "def get_shot_stats(player_id):\n",
    "    \"\"\"\n",
    "    Return a dataframe of player shot statistics from the NBA API.\n",
    "    \n",
    "    Keyword arguments:\n",
    "    player_id: the integer player id from http://stats.nba.com\n",
    "    \"\"\"\n",
    "\n",
    "    shot_chart_url = 'http://stats.nba.com/stats/shotchartdetail?CFID=33&CFPAR'\\\n",
    "                    'AMS=2014-15&ContextFilter=&ContextMeasure=FGA&DateFrom=&D'\\\n",
    "                    'ateTo=&GameID=&GameSegment=&LastNGames=0&LeagueID=00&Loca'\\\n",
    "                    'tion=&MeasureType=Base&Month=0&OpponentTeamID=0&Outcome=&'\\\n",
    "                    'PaceAdjust=N&PerMode=PerGame&Period=0&PlayerID={}&Plu'\\\n",
    "                    'sMinus=N&Position=&Rank=N&RookieYear=&Season=2014-15&Seas'\\\n",
    "                    'onSegment=&SeasonType=Regular+Season&TeamID=0&VsConferenc'\\\n",
    "                    'e=&VsDivision=&mode=Advanced&showDetails=0&showShots=1&sh'\\\n",
    "                    'owZones=0'.format(player_id)\n",
    "                    \n",
    "    response = requests.get(shot_chart_url)\n",
    "    headers = response.json()['resultSets'][0]['headers']\n",
    "    shots = response.json()['resultSets'][0]['rowSet']\n",
    "    shot_df = pd.DataFrame(shots, columns=headers)\n",
    "    \n",
    "    return shot_df"
   ]
  },
  {
   "cell_type": "markdown",
   "metadata": {},
   "source": [
    "Now, let's use the function to collect data for Phoenix Sun's player Brandon Knight. We happen to know Brandon Knight's id number is 202688."
   ]
  },
  {
   "cell_type": "code",
   "execution_count": 2,
   "metadata": {
    "collapsed": true
   },
   "outputs": [],
   "source": [
    "# Assign Brandon's id to a variable.\n",
    "brandon = 202688"
   ]
  },
  {
   "cell_type": "code",
   "execution_count": 3,
   "metadata": {
    "collapsed": false
   },
   "outputs": [],
   "source": [
    "# Use our fucntion to get Brandon's stats and assign the returned dataframe to var.\n",
    "brandon_shots = get_shot_stats(brandon)"
   ]
  },
  {
   "cell_type": "code",
   "execution_count": null,
   "metadata": {
    "collapsed": true
   },
   "outputs": [],
   "source": [
    "brandon_shots['SHOT_MADE_FLAG']"
   ]
  },
  {
   "cell_type": "code",
   "execution_count": 7,
   "metadata": {
    "collapsed": false
   },
   "outputs": [
    {
     "name": "stdout",
     "output_type": "stream",
     "text": [
      "375\n"
     ]
    }
   ],
   "source": [
    "# Print the dataframe to make sure it worked.\n",
    "print brandon_shots['SHOT_MADE_FLAG'].sum()"
   ]
  },
  {
   "cell_type": "markdown",
   "metadata": {},
   "source": [
    "With larger dataframe like this, returning the columns attribute via <code>df.columns</code> is a convienent way to see the column names without printing the entire dataframe. \n",
    "\n",
    "Using your knowledge of data selection, indexing, boolean masks, and the dataframe function <code>.sum()</code>, print out the number of baskets Brandon made both playing for the Suns and the Bucks."
   ]
  },
  {
   "cell_type": "code",
   "execution_count": 9,
   "metadata": {
    "collapsed": false
   },
   "outputs": [
    {
     "data": {
      "text/plain": [
       "745    1\n",
       "746    0\n",
       "747    0\n",
       "748    0\n",
       "749    1\n",
       "750    0\n",
       "751    1\n",
       "752    1\n",
       "753    1\n",
       "754    0\n",
       "755    1\n",
       "756    0\n",
       "757    0\n",
       "758    0\n",
       "759    1\n",
       "760    1\n",
       "761    1\n",
       "762    1\n",
       "763    0\n",
       "764    1\n",
       "765    0\n",
       "766    0\n",
       "767    0\n",
       "768    0\n",
       "769    1\n",
       "770    0\n",
       "771    1\n",
       "772    0\n",
       "773    1\n",
       "774    0\n",
       "      ..\n",
       "858    1\n",
       "859    0\n",
       "860    0\n",
       "861    0\n",
       "862    0\n",
       "863    0\n",
       "864    1\n",
       "865    0\n",
       "866    0\n",
       "867    0\n",
       "868    1\n",
       "869    0\n",
       "870    1\n",
       "871    0\n",
       "872    1\n",
       "873    0\n",
       "874    1\n",
       "875    1\n",
       "876    1\n",
       "877    0\n",
       "878    0\n",
       "879    0\n",
       "880    0\n",
       "881    1\n",
       "882    0\n",
       "883    0\n",
       "884    0\n",
       "885    0\n",
       "886    0\n",
       "887    0\n",
       "Name: SHOT_MADE_FLAG, dtype: int64"
      ]
     },
     "execution_count": 9,
     "metadata": {},
     "output_type": "execute_result"
    }
   ],
   "source": [
    "# Print the number of baskets Brandon made as a Sun.\n",
    "brandon_shots['SHOT_MADE_FLAG'][brandon_shots['TEAM_NAME'] == 'Phoenix Suns']"
   ]
  },
  {
   "cell_type": "code",
   "execution_count": null,
   "metadata": {
    "collapsed": true
   },
   "outputs": [],
   "source": [
    "# Print the number of baskets Brandon made as a Buck.\n"
   ]
  },
  {
   "cell_type": "markdown",
   "metadata": {},
   "source": [
    "The pandas selection and statistics functions offer a powerful tool to explore datasets like the one we collected from the NBA. Let's give you one more tool before we continue- visualization.\n",
    "\n",
    "In the next code block we are going to import a function that allows us to visualize Brandon's shots on a basketball court. Specifically, this function draws the court. When you are working with matplotlib plots in Python, you can think of each individual function as drawing a layer and the <code>draw_court</code> function will provide the court layer that you will plot on top of. Run the following code block to see that."
   ]
  },
  {
   "cell_type": "code",
   "execution_count": null,
   "metadata": {
    "collapsed": false
   },
   "outputs": [],
   "source": [
    "# Let's read in a helper function for drawing and set up plotting\n",
    "\n",
    "import matplotlib.pyplot as plt\n",
    "from draw_court import draw_court\n",
    "# Thanks to Savvas Tjortjoglou for letting us use his code in our course!\n",
    "%pylab inline\n",
    "pylab.rcParams['figure.figsize'] = (10.0, 10.0)"
   ]
  },
  {
   "cell_type": "code",
   "execution_count": null,
   "metadata": {
    "collapsed": false
   },
   "outputs": [],
   "source": [
    "# Call the helper function to draw a court\n",
    "\n",
    "plt.figure('court')# Begin plotting a figure called court.\n",
    "draw_court(outer_lines=True)# Call the draw_court function.\n",
    "plt.xlim(-300,300)# Set the limits of the canvas for the x axis.\n",
    "plt.ylim(-100,450)# Set the limits of the canvas for the y axis\n",
    "plt.show()# Display the figure."
   ]
  },
  {
   "cell_type": "markdown",
   "metadata": {},
   "source": [
    "While we will look in more detail at plotting in a future lab, we want to give you one more plotting tool, <code>plt.scatter()</code>.\n",
    "\n",
    "The <code>plt.scatter()</code> allows you to create a scatter plot by passing in a matrix of x and y coordinates. Detailed documentation is here:\n",
    "\n",
    "* http://matplotlib.org/api/pyplot_api.html#matplotlib.pyplot.scatter\n",
    "\n",
    "The code in the following code block is a simple example of this using random data."
   ]
  },
  {
   "cell_type": "code",
   "execution_count": null,
   "metadata": {
    "collapsed": false
   },
   "outputs": [],
   "source": [
    "import numpy as np # Import NumPy to generate random numbers.\n",
    "\n",
    "plt.figure('scatter')# Begin plotting a figure called scatter.\n",
    "x = np.random.rand(5000)# Generate 5000 random points for the x axis.\n",
    "y = np.random.rand(5000)# Generate a corresponding 5000 points for the y axis.\n",
    "plt.xlim(0,1)# Set the limits of the canvas for the x axis.\n",
    "plt.ylim(0,1)# Set the limits of the canvas for the y axis.\n",
    "plt.scatter(x,y, alpha=.5)# Plot the points with alpha value to make semi-transparent.\n",
    "plt.show()# Show the plot in the notebook."
   ]
  },
  {
   "cell_type": "markdown",
   "metadata": {},
   "source": [
    "Finally, if you want to generate dataframes for other players than Brandon, you can lookup player numbers at http://stats.nba.com/. Player numbers appear in the page query parameters as shown below:\n",
    "\n",
    "<img src=\"https://raw.githubusercontent.com/azbones/big_data/master/images/brandon.png\">"
   ]
  },
  {
   "cell_type": "markdown",
   "metadata": {},
   "source": [
    "## Written Response 1:\n",
    "_(Enter Your Response in This Cell)_\n",
    "\n",
    "Develop and enter a research question in this markdown box that you can explore with the NBA data, dataframe functions, and plotting. Do not use Brandon Knight in this question.\n",
    "\n",
    "Specically, use scatter plots to plot player shot selection on the pyplot court image. Try to make the research question more interesting by exploring something beyond just shot selection for a single player across the whole season across the whole game.\n",
    "\n",
    "\n",
    "\n"
   ]
  },
  {
   "cell_type": "code",
   "execution_count": null,
   "metadata": {
    "collapsed": true
   },
   "outputs": [],
   "source": [
    "# Write the code to collect the data to inform your research question.\n",
    "\n"
   ]
  },
  {
   "cell_type": "code",
   "execution_count": null,
   "metadata": {
    "collapsed": false
   },
   "outputs": [],
   "source": [
    "# Write code to present visualizations that inform your research question. \n",
    "# Remember, plot the court, plot the shots, and then \"show\" the figure.\n",
    "\n"
   ]
  },
  {
   "cell_type": "code",
   "execution_count": null,
   "metadata": {
    "collapsed": true
   },
   "outputs": [],
   "source": [
    "# Write code to generate some basic statistics (like sum() or average()) to inform your research question.\n",
    "\n"
   ]
  },
  {
   "cell_type": "markdown",
   "metadata": {},
   "source": [
    "## Written Response 2:\n",
    "_(Enter Your Response in This Cell)_\n",
    "\n",
    "Provide a short write up of what your analysis revealed. "
   ]
  },
  {
   "cell_type": "markdown",
   "metadata": {
    "collapsed": true
   },
   "source": [
    "## Written Response 3:\n",
    "_(Enter Your Response in This Cell)_\n",
    "\n",
    "* How might data available from public websites be part of a \"big data\" strategy?\n",
    "* What might some of the challenges of this approach be?\n",
    "\n",
    "\n"
   ]
  }
 ],
 "metadata": {
  "kernelspec": {
   "display_name": "Python 2",
   "language": "python",
   "name": "python2"
  },
  "language_info": {
   "codemirror_mode": {
    "name": "ipython",
    "version": 2
   },
   "file_extension": ".py",
   "mimetype": "text/x-python",
   "name": "python",
   "nbconvert_exporter": "python",
   "pygments_lexer": "ipython2",
   "version": "2.7.6"
  }
 },
 "nbformat": 4,
 "nbformat_minor": 0
}
