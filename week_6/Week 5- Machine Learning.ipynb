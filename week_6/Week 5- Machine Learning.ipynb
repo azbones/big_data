{
 "cells": [
  {
   "cell_type": "markdown",
   "metadata": {},
   "source": [
    "# Week 6- Apache Spark\n",
    "\n",
    "**Objectives**: Today we are going to work with Apache Spark on AWS. Spark is one of the most popular \"big data\" platforms and supports both batch processing like Hadoop and streaming. Today we will:\n",
    "  \n",
    "* Review Spark and its place in the \"big data\" technology ecosystem\n",
    "* Set up our Spark environment including PySpark\n",
    "* Read data from S3 into an RDD\n",
    "* Conduct some analyses using Spark"
   ]
  }
 ],
 "metadata": {
  "kernelspec": {
   "display_name": "Python 2",
   "language": "python",
   "name": "python2"
  },
  "language_info": {
   "codemirror_mode": {
    "name": "ipython",
    "version": 2
   },
   "file_extension": ".py",
   "mimetype": "text/x-python",
   "name": "python",
   "nbconvert_exporter": "python",
   "pygments_lexer": "ipython2",
   "version": "2.7.6"
  }
 },
 "nbformat": 4,
 "nbformat_minor": 0
}
