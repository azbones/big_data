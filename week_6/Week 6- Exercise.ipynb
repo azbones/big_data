{
 "cells": [
  {
   "cell_type": "markdown",
   "metadata": {},
   "source": [
    "# Week 6 Exercise\n",
    "\n",
    "**Assignment**: This exercise will explore MapReduce and Apache Spark. Specifically, your group will have to complete the following:\n",
    "  \n",
    "* Evaluate IPython Parallel versus MapReduce\n",
    "* Use IPython Parallel to build a numeric example of the general map and reduce pattern \n",
    "\n",
    "\n",
    "For this exercise, you will have to complete all the tasks within this notebook, save the entire notebook, and then upload into the Week 6 Assignment for your group on BlackBoard. Save this notebook with a new name with the following format:\n",
    "\n",
    "**Week_6_Exercise_Group_group_number.ipynb**\n",
    "\n",
    "These in-class exercises are designed to allow you to explore Python with your group and **DO NOT** include step-by-step directions or answers that have only one possibility. Use your team and other resources to determine how best to complete them. Make sure before you turn in your notebook that it runs without errors and the requested output is visible in the notebook. If you go through multiple steps in your code, make sure all those steps are included so that we can evaluate your work."
   ]
  },
  {
   "cell_type": "markdown",
   "metadata": {},
   "source": [
    "## MapReduce\n",
    "\n",
    "While the general map and reduce pattern we used in this week's notebook is different from Google's initial description of MapReduce which evolved into Apache Hadoop, the general patterns have many similarities. "
   ]
  },
  {
   "cell_type": "markdown",
   "metadata": {},
   "source": [
    "## Written Response 1\n",
    "(Enter Your Response in This Cell)\n",
    "\n",
    "* Architecturally, how does the IPython Parallel programming model Moby Dick example in this week's notebook compare to the MapReduce diagram?\n",
    "* What are the biggest similarities and differences in the general architecture of the two approaches?"
   ]
  },
  {
   "cell_type": "code",
   "execution_count": 1,
   "metadata": {
    "collapsed": true
   },
   "outputs": [],
   "source": [
    "# Build a different example using IPython Parallel and the map and reduce pattern from this week's notebook. \n",
    "# This example should output a numeric aggregation of operations that were processed in parallel using IPython workers.\n"
   ]
  }
 ],
 "metadata": {
  "kernelspec": {
   "display_name": "Python 2",
   "language": "python",
   "name": "python2"
  },
  "language_info": {
   "codemirror_mode": {
    "name": "ipython",
    "version": 2
   },
   "file_extension": ".py",
   "mimetype": "text/x-python",
   "name": "python",
   "nbconvert_exporter": "python",
   "pygments_lexer": "ipython2",
   "version": "2.7.11"
  }
 },
 "nbformat": 4,
 "nbformat_minor": 0
}
